{
 "cells": [
  {
   "cell_type": "code",
   "execution_count": 17,
   "metadata": {},
   "outputs": [
    {
     "data": {
      "text/plain": [
       "Text(0,0.5,'of people')"
      ]
     },
     "execution_count": 17,
     "metadata": {},
     "output_type": "execute_result"
    },
    {
     "data": {
      "image/png": "[encoded data removed]",
      "text/plain": [
       "<matplotlib.figure.Figure at 0x1b1b60dae80>"
      ]
     },
     "metadata": {},
     "output_type": "display_data"
    }
   ],
   "source": [
    "from collections import Counter\n",
    "import random \n",
    "import matplotlib.pyplot as plt\n",
    "%matplotlib inline\n",
    "numfriends = [random.randint(1,100) for _ in range(100000)]\n",
    "# print(numfriends)\n",
    "friend_counts = Counter(numfriends)\n",
    "# print(friend_counts)\n",
    "xs = range(101)\n",
    "ys = [friend_counts[x] for x in xs]\n",
    "plt.bar(xs,ys)\n",
    "plt.axis([0,101,0,1200])\n",
    "plt.title(\"histgram of friends\")\n",
    "plt.xlabel(\"of friends\")\n",
    "plt.ylabel(\"of people\")"
   ]
  },
  {
   "cell_type": "code",
   "execution_count": 19,
   "metadata": {},
   "outputs": [
    {
     "name": "stdout",
     "output_type": "stream",
     "text": [
      "100000\n"
     ]
    },
    {
     "data": {
      "text/plain": [
       "50.63628"
      ]
     },
     "execution_count": 19,
     "metadata": {},
     "output_type": "execute_result"
    }
   ],
   "source": [
    "num_points = len(numfriends)\n",
    "print(num_points)\n",
    "def mean(x):\n",
    "    return sum(x)/len(x)\n",
    "mean(numfriends)"
   ]
  },
  {
   "cell_type": "code",
   "execution_count": 20,
   "metadata": {},
   "outputs": [
    {
     "data": {
      "text/plain": [
       "51.0"
      ]
     },
     "execution_count": 20,
     "metadata": {},
     "output_type": "execute_result"
    }
   ],
   "source": [
    "def median(v):\n",
    "    n = len(v)\n",
    "    sort_v=sorted(v)\n",
    "    midpoint = n //2\n",
    "    if n %2 == 1:\n",
    "        return sort_v[midpoint]\n",
    "    else:\n",
    "        low= sort_v[midpoint]\n",
    "        hi = sort_v[midpoint+1]\n",
    "        return (hi+low)/2\n",
    "\n",
    "median(numfriends)"
   ]
  },
  {
   "cell_type": "code",
   "execution_count": 24,
   "metadata": {},
   "outputs": [
    {
     "data": {
      "text/plain": [
       "834.1070888325054"
      ]
     },
     "execution_count": 24,
     "metadata": {},
     "output_type": "execute_result"
    }
   ],
   "source": [
    "import math\n",
    "def de_mean(x):\n",
    "    x_bar = mean(x)\n",
    "    return [xi - x_bar for xi in x]\n",
    "def variance(x):\n",
    "    n = len(x)\n",
    "    deviations = de_mean(x)\n",
    "    return sum([math.pow(dev,2) for dev in deviations])/(n-1)\n",
    "\n",
    "variance(numfriends)"
   ]
  },
  {
   "cell_type": "code",
   "execution_count": 29,
   "metadata": {},
   "outputs": [
    {
     "name": "stdout",
     "output_type": "stream",
     "text": [
      "-153776.0330339382\n",
      "-186.076679945232\n"
     ]
    }
   ],
   "source": [
    "import numpy as np\n",
    "def covariance(x,y):\n",
    "    n = len(x)\n",
    "    return np.dot(de_mean(x),de_mean(y))\n",
    "dailyuser = [random.uniform(1,100) for _ in range(100000)]\n",
    "# print(dailyuser)\n",
    "print(covariance(numfriends,dailyuser))\n",
    "\n",
    "def correlation(x,y):\n",
    "    stdx = math.sqrt(variance(x))\n",
    "    stdy = math.sqrt(variance(y))\n",
    "    if stdx >0 and stdy>0:\n",
    "        return covariance(x,y)/(stdx*stdy)\n",
    "    else: return 0\n",
    "print(correlation(numfriends,dailyuser))"
   ]
  },
  {
   "cell_type": "code",
   "execution_count": null,
   "metadata": {},
   "outputs": [],
   "source": []
  }
 ],
 "metadata": {
  "kernelspec": {
   "display_name": "Python 3",
   "language": "python",
   "name": "python3"
  },
  "language_info": {
   "codemirror_mode": {
    "name": "ipython",
    "version": 3
   },
   "file_extension": ".py",
   "mimetype": "text/x-python",
   "name": "python",
   "nbconvert_exporter": "python",
   "pygments_lexer": "ipython3",
   "version": "3.6.4"
  }
 },
 "nbformat": 4,
 "nbformat_minor": 2
}
