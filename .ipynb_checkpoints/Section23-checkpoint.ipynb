{
 "cells": [
  {
   "cell_type": "code",
   "execution_count": 16,
   "metadata": {},
   "outputs": [
    {
     "name": "stdout",
     "output_type": "stream",
     "text": [
      "{'id': 3, 'name': 'Chi', 'friends': [{'id': 1, 'name': 'Dunn', 'friends': [{'id': 0, 'name': 'Hero', 'friends': [{...}, {'id': 2, 'name': 'Sue', 'friends': [{...}, {...}, {...}]}]}, {'id': 2, 'name': 'Sue', 'friends': [{'id': 0, 'name': 'Hero', 'friends': [{...}, {...}]}, {...}, {...}]}, {...}]}, {'id': 2, 'name': 'Sue', 'friends': [{'id': 0, 'name': 'Hero', 'friends': [{'id': 1, 'name': 'Dunn', 'friends': [{...}, {...}, {...}]}, {...}]}, {'id': 1, 'name': 'Dunn', 'friends': [{'id': 0, 'name': 'Hero', 'friends': [{...}, {...}]}, {...}, {...}]}, {...}]}, {'id': 4, 'name': 'Thor', 'friends': [{...}, {'id': 5, 'name': 'Clive', 'friends': [{...}, {'id': 6, 'name': 'Hicks', 'friends': [{...}, {'id': 8, 'name': 'Kate', 'friends': [{...}, {'id': 7, 'name': 'Devin', 'friends': [{...}, {...}]}, {'id': 9, 'name': 'Klein', 'friends': [{...}]}]}]}, {'id': 7, 'name': 'Devin', 'friends': [{...}, {'id': 8, 'name': 'Kate', 'friends': [{'id': 6, 'name': 'Hicks', 'friends': [{...}, {...}]}, {...}, {'id': 9, 'name': 'Klein', 'friends': [{...}]}]}]}]}]}]}\n"
     ]
    }
   ],
   "source": [
    "users = [\n",
    "    { \"id\": 0, \"name\": \"Hero\" },\n",
    "    { \"id\": 1, \"name\": \"Dunn\" },\n",
    "    { \"id\": 2, \"name\": \"Sue\" },\n",
    "    { \"id\": 3, \"name\": \"Chi\" },\n",
    "    { \"id\": 4, \"name\": \"Thor\" },\n",
    "    { \"id\": 5, \"name\": \"Clive\" },\n",
    "    { \"id\": 6, \"name\": \"Hicks\" },\n",
    "    { \"id\": 7, \"name\": \"Devin\" },\n",
    "    { \"id\": 8, \"name\": \"Kate\" },\n",
    "    { \"id\": 9, \"name\": \"Klein\" }\n",
    "]\n",
    "\n",
    "friendships = [(0, 1), (0, 2), (1, 2), (1, 3), (2, 3), (3, 4),\n",
    "               (4, 5), (5, 6), (5, 7), (6, 8), (7, 8), (8, 9)]\n",
    "\n",
    "for user in users:\n",
    "    user[\"friends\"] = []\n",
    "\n",
    "for i , j in friendships:\n",
    "    users[i][\"friends\"].append(users[j])\n",
    "    users[j][\"friends\"].append(users[i])\n",
    "print((users[2][\"friends\"][2]))"
   ]
  },
  {
   "cell_type": "code",
   "execution_count": 34,
   "metadata": {},
   "outputs": [
    {
     "name": "stdout",
     "output_type": "stream",
     "text": [
      "{0: [[]], 1: [[1]], 2: [[2]], 3: [[1, 3], [2, 3]], 4: [[1, 3, 4], [2, 3, 4]], 5: [[1, 3, 4, 5], [2, 3, 4, 5]], 6: [[1, 3, 4, 5, 6], [2, 3, 4, 5, 6]], 7: [[1, 3, 4, 5, 7], [2, 3, 4, 5, 7]], 8: [[1, 3, 4, 5, 6, 8], [2, 3, 4, 5, 6, 8], [1, 3, 4, 5, 7, 8], [2, 3, 4, 5, 7, 8]], 9: [[1, 3, 4, 5, 6, 8, 9], [2, 3, 4, 5, 6, 8, 9], [1, 3, 4, 5, 7, 8, 9], [2, 3, 4, 5, 7, 8, 9]]}\n",
      "{1: [[]], 0: [[0]], 2: [[2]], 3: [[3]], 4: [[3, 4]], 5: [[3, 4, 5]], 6: [[3, 4, 5, 6]], 7: [[3, 4, 5, 7]], 8: [[3, 4, 5, 6, 8], [3, 4, 5, 7, 8]], 9: [[3, 4, 5, 6, 8, 9], [3, 4, 5, 7, 8, 9]]}\n",
      "{2: [[]], 0: [[0]], 1: [[1]], 3: [[3]], 4: [[3, 4]], 5: [[3, 4, 5]], 6: [[3, 4, 5, 6]], 7: [[3, 4, 5, 7]], 8: [[3, 4, 5, 6, 8], [3, 4, 5, 7, 8]], 9: [[3, 4, 5, 6, 8, 9], [3, 4, 5, 7, 8, 9]]}\n",
      "{3: [[]], 1: [[1]], 2: [[2]], 4: [[4]], 0: [[1, 0], [2, 0]], 5: [[4, 5]], 6: [[4, 5, 6]], 7: [[4, 5, 7]], 8: [[4, 5, 6, 8], [4, 5, 7, 8]], 9: [[4, 5, 6, 8, 9], [4, 5, 7, 8, 9]]}\n",
      "{4: [[]], 3: [[3]], 5: [[5]], 1: [[3, 1]], 2: [[3, 2]], 6: [[5, 6]], 7: [[5, 7]], 0: [[3, 1, 0], [3, 2, 0]], 8: [[5, 6, 8], [5, 7, 8]], 9: [[5, 6, 8, 9], [5, 7, 8, 9]]}\n",
      "{5: [[]], 4: [[4]], 6: [[6]], 7: [[7]], 3: [[4, 3]], 8: [[6, 8], [7, 8]], 1: [[4, 3, 1]], 2: [[4, 3, 2]], 9: [[6, 8, 9], [7, 8, 9]], 0: [[4, 3, 1, 0], [4, 3, 2, 0]]}\n",
      "{6: [[]], 5: [[5]], 8: [[8]], 4: [[5, 4]], 7: [[5, 7], [8, 7]], 9: [[8, 9]], 3: [[5, 4, 3]], 1: [[5, 4, 3, 1]], 2: [[5, 4, 3, 2]], 0: [[5, 4, 3, 1, 0], [5, 4, 3, 2, 0]]}\n",
      "{7: [[]], 5: [[5]], 8: [[8]], 4: [[5, 4]], 6: [[5, 6], [8, 6]], 9: [[8, 9]], 3: [[5, 4, 3]], 1: [[5, 4, 3, 1]], 2: [[5, 4, 3, 2]], 0: [[5, 4, 3, 1, 0], [5, 4, 3, 2, 0]]}\n",
      "{8: [[]], 6: [[6]], 7: [[7]], 9: [[9]], 5: [[6, 5], [7, 5]], 4: [[6, 5, 4], [7, 5, 4]], 3: [[6, 5, 4, 3], [7, 5, 4, 3]], 1: [[6, 5, 4, 3, 1], [7, 5, 4, 3, 1]], 2: [[6, 5, 4, 3, 2], [7, 5, 4, 3, 2]], 0: [[6, 5, 4, 3, 1, 0], [7, 5, 4, 3, 1, 0], [6, 5, 4, 3, 2, 0], [7, 5, 4, 3, 2, 0]]}\n",
      "{9: [[]], 8: [[8]], 6: [[8, 6]], 7: [[8, 7]], 5: [[8, 6, 5], [8, 7, 5]], 4: [[8, 6, 5, 4], [8, 7, 5, 4]], 3: [[8, 6, 5, 4, 3], [8, 7, 5, 4, 3]], 1: [[8, 6, 5, 4, 3, 1], [8, 7, 5, 4, 3, 1]], 2: [[8, 6, 5, 4, 3, 2], [8, 7, 5, 4, 3, 2]], 0: [[8, 6, 5, 4, 3, 1, 0], [8, 7, 5, 4, 3, 1, 0], [8, 6, 5, 4, 3, 2, 0], [8, 7, 5, 4, 3, 2, 0]]}\n",
      "0.0\n",
      "3.5\n",
      "3.5\n",
      "18.0\n",
      "20.0\n",
      "20.5\n",
      "6.0\n",
      "6.0\n",
      "8.5\n",
      "0.0\n"
     ]
    }
   ],
   "source": [
    "#最短経路探索\n",
    "\n",
    "from collections import deque\n",
    "def shortest_path_dic(from_user):\n",
    "    shortest_path = {from_user[\"id\"]:[[]]}\n",
    "    frontier = deque((from_user,friend) for friend in from_user[\"friends\"])\n",
    "    \n",
    "    while frontier:\n",
    "        prev_user , user = frontier.popleft()\n",
    "        user_id = user[\"id\"]\n",
    "        \n",
    "        path_to_prev = shortest_path[prev_user[\"id\"]]\n",
    "        new_path_to_dic = [path + [user_id] for path in path_to_prev]\n",
    "        \n",
    "        old_path_to_dic = shortest_path.get(user_id,[])\n",
    "        if old_path_to_dic:\n",
    "            min_path_len = len(old_path_to_dic[0])\n",
    "        else:\n",
    "            min_path_len = float(\"inf\")\n",
    "            \n",
    "        new_path_to_dic = [path for path in new_path_to_dic if len(path) <= min_path_len and path not in old_path_to_dic]\n",
    "        shortest_path[user_id] = old_path_to_dic + new_path_to_dic\n",
    "        \n",
    "        frontier.extend((user,friend) for friend in user[\"friends\"] if friend[\"id\"] not in shortest_path)\n",
    "#         print(new_path_to_dic)\n",
    "    return shortest_path\n",
    "\n",
    "for user in users:\n",
    "    user[\"shortest_path\"] = shortest_path_dic(user)\n",
    "\n",
    "# print(users[1])\n",
    "for user in users:\n",
    "    user[\"between_central\"] = 0.0\n",
    "    \n",
    "for source in users:\n",
    "    source_id = source[\"id\"]\n",
    "#     print(source[\"shortest_path\"])\n",
    "    for target_id , path in source[\"shortest_path\"].items():\n",
    "        if source_id < target_id:\n",
    "            n_path = len(path)\n",
    "            contrib = 1/n_path\n",
    "            for p in path:\n",
    "                for id in p:\n",
    "                    if id not in [source_id,target_id]:\n",
    "                        users[id][\"between_central\"] += contrib\n",
    "\n",
    "for user in users:\n",
    "    print(user[\"between_central\"])"
   ]
  },
  {
   "cell_type": "code",
   "execution_count": 40,
   "metadata": {},
   "outputs": [
    {
     "name": "stdout",
     "output_type": "stream",
     "text": [
      "0.029411764705882353\n",
      "0.037037037037037035\n",
      "0.037037037037037035\n",
      "0.045454545454545456\n",
      "0.05\n",
      "0.05\n",
      "0.041666666666666664\n",
      "0.041666666666666664\n",
      "0.03571428571428571\n",
      "0.027777777777777776\n"
     ]
    }
   ],
   "source": [
    "def farness(user):\n",
    "    return sum([len(paths[0]) for paths in user[\"shortest_path\"].values()])\n",
    "\n",
    "for user in users:\n",
    "    user[\"close_central\"]  = 1 / farness(user)\n",
    "    print(user[\"close_central\"])"
   ]
  },
  {
   "cell_type": "code",
   "execution_count": 53,
   "metadata": {},
   "outputs": [
    {
     "name": "stdout",
     "output_type": "stream",
     "text": [
      "[[0 1 1 0 0 0 0 0 0 0]\n",
      " [1 0 1 1 0 0 0 0 0 0]\n",
      " [1 1 0 1 0 0 0 0 0 0]\n",
      " [0 1 1 0 1 0 0 0 0 0]\n",
      " [0 0 0 1 0 1 0 0 0 0]\n",
      " [0 0 0 0 1 0 1 1 0 0]\n",
      " [0 0 0 0 0 1 0 0 1 0]\n",
      " [0 0 0 0 0 1 0 0 1 0]\n",
      " [0 0 0 0 0 0 1 1 0 1]\n",
      " [0 0 0 0 0 0 0 0 1 0]]\n"
     ]
    }
   ],
   "source": [
    "import numpy as np\n",
    "def matrix_product_entry(A,B,i,j):\n",
    "    return np.dot(A[:,i],B[j,:])\n",
    "\n",
    "def matrix_multiply(A,B):\n",
    "    return np.dot(A,B)\n",
    "\n",
    "def entry_fn(n_i,n_j):\n",
    "    A = []\n",
    "    for i in range(n_i):\n",
    "        for j in range(n_j):\n",
    "            if (i,j) in friendships or (j,i) in friendships:\n",
    "                A.append(1)\n",
    "#                 print(A)\n",
    "            else:\n",
    "                A.append(0)\n",
    "    return np.array(A)\n",
    "\n",
    "n = len(users)\n",
    "\n",
    "adjency = np.reshape(entry_fn(n,n),(n,n))\n",
    "print(adjency)"
   ]
  },
  {
   "cell_type": "code",
   "execution_count": 61,
   "metadata": {},
   "outputs": [],
   "source": [
    "#有向グラフ\n",
    "endorsements = [(0, 1), (1, 0), (0, 2), (2, 0), (1, 2), (2, 1), (1, 3),\n",
    "                (2, 3), (3, 4), (5, 4), (5, 6), (7, 5), (6, 8), (8, 7), (8, 9)]\n",
    "\n",
    "for user in users:\n",
    "    user[\"endorses\"] = []\n",
    "    user[\"endorsed_by\"] = []\n",
    "    \n",
    "for source_id ,target_id in endorsements:\n",
    "    users[source_id][\"endorses\"].append(users[target_id])\n",
    "    users[target_id][\"endorsed_by\"].append(users[source_id])\n",
    "    \n",
    "# endorse_by_id = [(user[\"id\"],len(user[\"endorsed_by\"])) for user in users]\n",
    "\n",
    "# sorted(endorse_by_id,key=lambda (user_id,n_endorse):n_endorse ,reverse =True)"
   ]
  },
  {
   "cell_type": "code",
   "execution_count": 67,
   "metadata": {},
   "outputs": [
    {
     "data": {
      "text/plain": [
       "{0: 0.0404553415061296,\n",
       " 1: 0.044921190893169885,\n",
       " 2: 0.044921190893169885,\n",
       " 3: 0.0404553415061296,\n",
       " 4: 0.06785083675770529,\n",
       " 5: 0.04344422700587085,\n",
       " 6: 0.03346379647749512,\n",
       " 7: 0.03346379647749512,\n",
       " 8: 0.04344422700587085,\n",
       " 9: 0.03346379647749512}"
      ]
     },
     "execution_count": 67,
     "metadata": {},
     "output_type": "execute_result"
    }
   ],
   "source": [
    "def page_rank(users,damp = 0.85 ,n_iter = 100000):\n",
    "    n_users = len(users)\n",
    "    pr = {user[\"id\"]:1/n_users for user in users}\n",
    "    base_pr = (1 - damp)/n_users\n",
    "    \n",
    "    for _ in range(n_iter):\n",
    "        next_pr = {user[\"id\"]:base_pr for user in users}\n",
    "        for user in users:\n",
    "            link_pr = pr[user[\"id\"]] * damp\n",
    "#             print(user)\n",
    "            for endorse in user[\"endorses\"]:\n",
    "                next_pr[endorse[\"id\"]] += link_pr / len(user[\"endorses\"])\n",
    "        pr = next_pr\n",
    "    return pr\n",
    "\n",
    "page_rank(users)"
   ]
  },
  {
   "cell_type": "code",
   "execution_count": null,
   "metadata": {},
   "outputs": [],
   "source": []
  }
 ],
 "metadata": {
  "kernelspec": {
   "display_name": "Python 3",
   "language": "python",
   "name": "python3"
  },
  "language_info": {
   "codemirror_mode": {
    "name": "ipython",
    "version": 3
   },
   "file_extension": ".py",
   "mimetype": "text/x-python",
   "name": "python",
   "nbconvert_exporter": "python",
   "pygments_lexer": "ipython3",
   "version": "3.6.4"
  }
 },
 "nbformat": 4,
 "nbformat_minor": 2
}
