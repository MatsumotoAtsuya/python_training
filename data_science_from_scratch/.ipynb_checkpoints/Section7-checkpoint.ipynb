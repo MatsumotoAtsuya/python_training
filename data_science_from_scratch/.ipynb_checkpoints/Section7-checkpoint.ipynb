{
 "cells": [
  {
   "cell_type": "code",
   "execution_count": 2,
   "metadata": {},
   "outputs": [
    {
     "data": {
      "text/plain": [
       "(500.0, 15.811388300841896)"
      ]
     },
     "execution_count": 2,
     "metadata": {},
     "output_type": "execute_result"
    }
   ],
   "source": [
    "import math\n",
    "import random\n",
    "def normalcdf(x,mu = 0, sigma = 1):\n",
    "    return (1 + math.erf((x - mu )/math.sqrt(2)/ sigma)) /2\n",
    "def bernoulli_trial(p):\n",
    "    return 1 if random.random() < p else 0\n",
    "def binomial(n,p):\n",
    "    return sum(bernolli_trial(p) for  _ in range(n))\n",
    "\n",
    "def normal_app_binomial(n,p):\n",
    "    mu = p * n\n",
    "    sigma = math.sqrt(p * (1 - p) * n)\n",
    "    return mu , sigma\n",
    "\n",
    "def normal_prob_above(lo , mu = 0 , sigma = 1):\n",
    "    return 1 - normalcdf(lo,mu,sigma)\n",
    "    \n",
    "def normal_prob_between(lo,hi,mu=0, sigma = 1):\n",
    "    return normalcdf(hi, mu ,sigma)-normalcdf(lo,mu,sigma)\n",
    "\n",
    "normal_prob_below = normalcdf\n",
    "\n",
    "def normal_prob_outside(lo,hi,mu=0 , sigma=1):\n",
    "    return 1- normal_prob_between(lo,hi,mu,sigma)\n",
    "\n",
    "normal_app_binomial(1000, 0.5)\n",
    "\n"
   ]
  },
  {
   "cell_type": "code",
   "execution_count": 3,
   "metadata": {},
   "outputs": [
    {
     "name": "stdout",
     "output_type": "stream",
     "text": [
      "0.0\n"
     ]
    },
    {
     "data": {
      "text/plain": [
       "(469.011020350622, 530.988979649378)"
      ]
     },
     "execution_count": 3,
     "metadata": {},
     "output_type": "execute_result"
    }
   ],
   "source": [
    "def inversenormalcdf(p , mu=0 , sigma = 1, tol = 0.0001):\n",
    "    if mu != 0 or sigma != 1:\n",
    "        return mu + sigma * inversenormalcdf(p , tol = tol)\n",
    "    \n",
    "    lz , lp = -10.0 ,0\n",
    "    hz , hp = 10.0 , 1\n",
    "    while hz - lz > tol:\n",
    "        mz = (hz + lz)/ 2\n",
    "        mp = normalcdf(mz)\n",
    "        if mp < p:\n",
    "            lz,lp = mz ,mp\n",
    "        elif mp > p:\n",
    "            hz , hp = mz ,mp\n",
    "        else:\n",
    "            break\n",
    "    return mz\n",
    "\n",
    "print(inversenormalcdf(0.5))\n",
    "\n",
    "def normal_up_bound(prob,mu=0,sigma=1):\n",
    "    return inversenormalcdf(prob,mu,sigma)\n",
    "\n",
    "def normal_lo_bound(prob,mu= 0 ,sigma = 1):\n",
    "    return inversenormalcdf(1 - prob,mu,sigma)\n",
    "\n",
    "def normal_two_bound(prob,mu=0,sigma = 1):\n",
    "    tail_prob = (1 - prob)/2\n",
    "    up_bound = normal_lo_bound(tail_prob,mu,sigma)\n",
    "    lo_bound = normal_up_bound(tail_prob,mu,sigma)\n",
    "    return lo_bound ,up_bound\n",
    "mu0,sigma0 = normal_app_binomial(1000, 0.5) \n",
    "normal_two_bound(0.95,mu0,sigma0 )"
   ]
  },
  {
   "cell_type": "code",
   "execution_count": 4,
   "metadata": {},
   "outputs": [
    {
     "name": "stdout",
     "output_type": "stream",
     "text": [
      "0.8865572138760063\n"
     ]
    }
   ],
   "source": [
    "lo,hi = normal_two_bound(0.95,mu0,sigma0)\n",
    "mu1 , sigma1 = normal_app_binomial(1000,0.55)\n",
    "type2_prob = normal_prob_between(lo,hi,mu1,sigma1)\n",
    "power = 1 - type2_prob\n",
    "print(power)"
   ]
  },
  {
   "cell_type": "code",
   "execution_count": 5,
   "metadata": {},
   "outputs": [
    {
     "name": "stdout",
     "output_type": "stream",
     "text": [
      "526.0069061567574\n",
      "0.9363830658600589\n"
     ]
    }
   ],
   "source": [
    "hi = normal_up_bound(0.95,mu0,sigma0)\n",
    "print(hi)\n",
    "type2_prob = normal_prob_below(hi,mu1,sigma1)\n",
    "power = 1 - type2_prob\n",
    "print(power)"
   ]
  },
  {
   "cell_type": "code",
   "execution_count": 6,
   "metadata": {},
   "outputs": [
    {
     "data": {
      "text/plain": [
       "0.06207721579598857"
      ]
     },
     "execution_count": 6,
     "metadata": {},
     "output_type": "execute_result"
    }
   ],
   "source": [
    "def two_p_value(x,mu=0,sigma= 1):\n",
    "    if x >= mu:\n",
    "        return 2*normal_prob_above(x,mu,sigma)\n",
    "    else:\n",
    "        return 2*normal_prob_below(x,mu,sigma)\n",
    "    \n",
    "two_p_value(529.5,mu0,sigma0)"
   ]
  },
  {
   "cell_type": "code",
   "execution_count": 12,
   "metadata": {},
   "outputs": [
    {
     "name": "stdout",
     "output_type": "stream",
     "text": [
      "0.0616\n"
     ]
    }
   ],
   "source": [
    "\n",
    "extreme_count = 0\n",
    "for _ in range(10000):\n",
    "    num_head = sum([1 if random.random() <0.5 else 0 for _ in range(1000)])\n",
    "    if num_head >= 530 or num_head <= 470:\n",
    "        extreme_count += 1\n",
    "\n",
    "print(extreme_count/10000)"
   ]
  },
  {
   "cell_type": "code",
   "execution_count": 15,
   "metadata": {},
   "outputs": [
    {
     "name": "stdout",
     "output_type": "stream",
     "text": [
      "0.06062885772582083 0.04686839508859242\n"
     ]
    }
   ],
   "source": [
    "up_p_value = normal_prob_above\n",
    "lo_p_value = normal_prob_below\n",
    "print(up_p_value(524.5,mu0,sigma0),up_p_value(526.5,mu0,sigma0))"
   ]
  },
  {
   "cell_type": "code",
   "execution_count": 21,
   "metadata": {},
   "outputs": [
    {
     "name": "stdout",
     "output_type": "stream",
     "text": [
      "0.015791611697353755\n"
     ]
    },
    {
     "data": {
      "text/plain": [
       "(0.4940497808156341, 0.5559502191843659)"
      ]
     },
     "execution_count": 21,
     "metadata": {},
     "output_type": "execute_result"
    }
   ],
   "source": [
    "# math.sqrt(p*(1-p)/1000)\n",
    "p_hat = 525 / 1000\n",
    "mu = p_hat\n",
    "sigma = math.sqrt(p_hat *(1-p_hat)/1000)\n",
    "print(sigma)\n",
    "normal_two_bound(0.95,mu,sigma)"
   ]
  },
  {
   "cell_type": "code",
   "execution_count": 22,
   "metadata": {},
   "outputs": [
    {
     "name": "stdout",
     "output_type": "stream",
     "text": [
      "0.015760710643876435\n"
     ]
    },
    {
     "data": {
      "text/plain": [
       "(0.5091103442588393, 0.5708896557411608)"
      ]
     },
     "execution_count": 22,
     "metadata": {},
     "output_type": "execute_result"
    }
   ],
   "source": [
    "p_hat = 540 / 1000\n",
    "mu = p_hat\n",
    "sigma = math.sqrt(p_hat *(1-p_hat)/1000)\n",
    "print(sigma)\n",
    "normal_two_bound(0.95,mu,sigma)"
   ]
  },
  {
   "cell_type": "code",
   "execution_count": 24,
   "metadata": {},
   "outputs": [
    {
     "name": "stdout",
     "output_type": "stream",
     "text": [
      "46\n"
     ]
    }
   ],
   "source": [
    "def run_exp():\n",
    "    return [random.random() < 0.5 for _ in range(1000)]\n",
    "\n",
    "def rej_fairness(exp):\n",
    "    num_heads = len([flip for flip in exp if flip])\n",
    "    return num_heads < 469 or num_heads > 531\n",
    "\n",
    "random.seed(0)\n",
    "exp = [run_exp() for _ in range(1000)]\n",
    "num_rej = len([exp for exp in exp if rej_fairness(exp)])\n",
    "print(num_rej)"
   ]
  },
  {
   "cell_type": "code",
   "execution_count": 26,
   "metadata": {},
   "outputs": [
    {
     "name": "stdout",
     "output_type": "stream",
     "text": [
      "-1.1403464899034472 0.254141976542236\n"
     ]
    }
   ],
   "source": [
    "def est_param(N,n):\n",
    "    p=n/N\n",
    "    sigma = math.sqrt(p*(1-p)/N)\n",
    "    return p,sigma\n",
    "\n",
    "def pa_pb_test(N_a,n_a,N_b,n_b):\n",
    "    p_a,sigma_a = est_param(N_a,n_a)\n",
    "    p_b,sigma_b = est_param(N_b,n_b)\n",
    "    return (p_b - p_a)/math.sqrt(sigma_a**2 + sigma_b** 2)\n",
    "\n",
    "z = pa_pb_test(1000,200,1000,180)\n",
    "print(z,two_p_value(z))"
   ]
  },
  {
   "cell_type": "code",
   "execution_count": 27,
   "metadata": {},
   "outputs": [
    {
     "name": "stdout",
     "output_type": "stream",
     "text": [
      "-2.948839123097944 0.003189699706216853\n"
     ]
    }
   ],
   "source": [
    "\n",
    "z = pa_pb_test(1000,200,1000,150)\n",
    "print(z,two_p_value(z))"
   ]
  },
  {
   "cell_type": "code",
   "execution_count": null,
   "metadata": {},
   "outputs": [],
   "source": [
    "def B(alpha,beta):\n",
    "    return math.gamma(alpha)*math.gamma(beta)/math.gamma(alpha*beta)\n",
    "\n",
    "def betapdf(x,alpha,beta):\n",
    "    if x < 0 or x > 1:\n",
    "        return 0\n",
    "    return x ** (alpha - 1)*(1-x)**(beta-1)/B(alpha,beta)\n",
    "\n",
    "mu = alpha/(alpha + beta)"
   ]
  }
 ],
 "metadata": {
  "kernelspec": {
   "display_name": "Python 3",
   "language": "python",
   "name": "python3"
  },
  "language_info": {
   "codemirror_mode": {
    "name": "ipython",
    "version": 3
   },
   "file_extension": ".py",
   "mimetype": "text/x-python",
   "name": "python",
   "nbconvert_exporter": "python",
   "pygments_lexer": "ipython3",
   "version": "3.6.4"
  }
 },
 "nbformat": 4,
 "nbformat_minor": 2
}
