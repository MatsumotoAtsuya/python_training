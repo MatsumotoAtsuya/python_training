{
 "cells": [
  {
   "cell_type": "markdown",
   "metadata": {},
   "source": [
    "Features of Tensoer flow\n",
    "\n",
    "1. _computeation praph_\n",
    "\n",
    "1. _rank_\n",
    "\n",
    "1. _tensor_"
   ]
  },
  {
   "cell_type": "code",
   "execution_count": null,
   "metadata": {},
   "outputs": [],
   "source": [
    "import tensorflow as tf\n",
    "import numpy as np\n",
    "\n",
    "g = tf.Graph()\n",
    "with g.as_default():\n",
    "    t1 = tf.constant(np.pi)\n",
    "    t2 = tf.constant([1, 2, 3, 4])\n",
    "    t3 = tf.constant([[1, 2], [3, 4]])\n",
    "    \n",
    "    r1 = tf.rank(t1)\n",
    "    r2 = tf.rank(t2)\n",
    "    r3 = tf.rank(t3)\n",
    "    #get rank & shape\n",
    "    s1 = t1.get_shape()\n",
    "    s2 = t2.get_shape()\n",
    "    s3 = t3.get_shape()\n",
    "    print(\"Shapes:\",s1, s2, s3)\n",
    "    \n",
    "with tf.Session(graph=g) as sess:\n",
    "    print(\"Ranks:\",r1.eval(), r2.eval(), r3.eval())\n",
    "    "
   ]
  },
  {
   "cell_type": "markdown",
   "metadata": {},
   "source": [
    "# How to construct Graph & compile it\n",
    "\n",
    "2. make an instance of empty calcuration graph\n",
    "2. append node to graph\n",
    "2. execute graph\n",
    "    2. start new session\n",
    "    2. initialize variables\n",
    "    2. execute graph in this session"
   ]
  },
  {
   "cell_type": "code",
   "execution_count": null,
   "metadata": {},
   "outputs": [],
   "source": [
    "g = tf.Graph()\n",
    "with g.as_default():\n",
    "    a = tf.constant(1, name=\"a\")\n",
    "    b = tf.constant(2, name=\"b\")\n",
    "    c = tf.constant(3, name=\"c\")\n",
    "    z = 2 * (a - b) + c\n",
    "    "
   ]
  },
  {
   "cell_type": "code",
   "execution_count": null,
   "metadata": {},
   "outputs": [],
   "source": [
    "#Execute Graph\n",
    "with tf.Session(graph=g) as sess:\n",
    "    print(\"2*(a-b)+c =\",sess.run(z))"
   ]
  },
  {
   "cell_type": "code",
   "execution_count": null,
   "metadata": {},
   "outputs": [],
   "source": [
    "#feeding data >> placeholder \n",
    "import tensorflow as tf\n",
    "\n",
    "g = tf.Graph()\n",
    "with g.as_default():\n",
    "    tf_a = tf.placeholder(tf.int32, shape=[], name=\"tf_a\")\n",
    "    tf_b = tf.placeholder(tf.int32, shape=[], name=\"tf_b\")\n",
    "    tf_c = tf.placeholder(tf.int32, shape=[], name=\"tf_c\")\n",
    "    r_1 = tf_a - tf_b\n",
    "    r_2 = 2 * r_1\n",
    "    z = r_2 + tf_c\n",
    "    \n",
    "#execute this graph\n",
    "with tf.Session(graph=g) as sess:\n",
    "    feed = {tf_a: 1, tf_b: 2, tf_c: 3}\n",
    "    print(\"z:\", sess.run(z, feed_dict=feed))"
   ]
  },
  {
   "cell_type": "code",
   "execution_count": null,
   "metadata": {},
   "outputs": [],
   "source": [
    "with tf.Session(graph=g) as sess:\n",
    "    feed = {tf_a: 1, tf_b: 2}\n",
    "    print(\"r1:\", sess.run(r_1, feed_dict=feed))\n",
    "    print(\"r2:\", sess.run(r_2, feed_dict=feed))\n",
    "    feed = {tf_c: 3, tf_a: 1, tf_b: 2}\n",
    "    print(\"r1:\", sess.run(r_1, feed_dict=feed))\n",
    "    print(\"r2:\", sess.run(r_2, feed_dict=feed))\n",
    "    "
   ]
  },
  {
   "cell_type": "markdown",
   "metadata": {},
   "source": [
    "## variables of Tensorflow\n",
    "- define in calicuration graph\n",
    "- initialize in session\n",
    "- use \"variable scope\n",
    "- reuse existing variables"
   ]
  },
  {
   "cell_type": "markdown",
   "metadata": {},
   "source": [
    "## define variables\n",
    "* tf.Variable(<\\init> , name=\"<\\variable>\")\n",
    "* tf.get_variable(\"<\\variable>\", ...)\n",
    "> tf.get_variable is better than tf.Variable"
   ]
  },
  {
   "cell_type": "code",
   "execution_count": null,
   "metadata": {},
   "outputs": [],
   "source": [
    "import tensorflow as tf\n",
    "import numpy as np;\n",
    "g1 = tf.Graph();\n",
    "with g1.as_default():\n",
    "    w = tf.Variable(np.array([[1, 2, 3, 4],[5, 6, 7, 8]]), name=\"w\")\n",
    "    print(w)"
   ]
  },
  {
   "cell_type": "code",
   "execution_count": null,
   "metadata": {},
   "outputs": [],
   "source": [
    "with tf.Session(graph=g1) as sess:\n",
    "    sess.run(tf.global_variables_initializer())\n",
    "    "
   ]
  },
  {
   "cell_type": "code",
   "execution_count": null,
   "metadata": {},
   "outputs": [],
   "source": [
    "import tensorflow as tf\n",
    "g2 = tf.Graph()\n",
    "\n",
    "with g2.as_default():\n",
    "    w1 = tf.Variable(1, name=\"w1\")\n",
    "    init_op = tf.global_variables_initializer()\n",
    "    w2 = tf.Variable(2, name=\"w2\")"
   ]
  },
  {
   "cell_type": "code",
   "execution_count": null,
   "metadata": {},
   "outputs": [],
   "source": [
    "with tf.Session(graph=g2) as sess:\n",
    "    sess.run(init_op)\n",
    "    print(\"w1:\", sess.run(w1))\n",
    "    "
   ]
  },
  {
   "cell_type": "code",
   "execution_count": null,
   "metadata": {},
   "outputs": [],
   "source": [
    "with tf.Session(graph=g2) as sess:\n",
    "    sess.run(init_op)\n",
    "    print(\"w2\", sess.run(w2))"
   ]
  },
  {
   "cell_type": "markdown",
   "metadata": {},
   "source": [
    "## variable scope"
   ]
  },
  {
   "cell_type": "code",
   "execution_count": null,
   "metadata": {},
   "outputs": [],
   "source": [
    "import tensorflow as tf\n",
    "\n",
    "g = tf.Graph()\n",
    "\n",
    "with g.as_default():\n",
    "    with tf.variable_scope(\"net_A\"):\n",
    "        with tf.variable_scope(\"layer_1\"):\n",
    "            w1 = tf.Variable(tf.random_normal(shape=(10, 4)), name=\"weights\")\n",
    "        with tf.variable_scope(\"layer_2\"):\n",
    "            w2 = tf.Variable(tf.random_normal(shape=(20, 20)), name=\"weights\")\n",
    "    with tf.variable_scope(\"net_B\"):\n",
    "        with tf.variable_scope(\"layer_1\"):\n",
    "            w3 = tf.Variable(tf.random_normal(shape=(10, 4)), name=\"wights\")\n",
    "print(w1)\n",
    "print(w2)\n",
    "print(w3)"
   ]
  },
  {
   "cell_type": "code",
   "execution_count": null,
   "metadata": {},
   "outputs": [],
   "source": [
    "import tensorflow as tf\n",
    "#helper function\n",
    "def build_classifier(data, labels, n_classes=2):\n",
    "    data_shape = data.get_shape().as_list()\n",
    "    weights = tf.get_variable(name=\"weights\", shape=(data_shape[1], n_classes),\n",
    "                             dtype=tf.float32)\n",
    "    bias = tf.get_variable(name=\"bias\", initializer=tf.zeros(shape=n_classes))\n",
    "    logits = tf.add(tf.matmul(data, weights), bias, name=\"logits\")\n",
    "    return logits, tf.nn.softmax(logits)\n",
    "\n",
    "def build_generator(data, n_hidden):\n",
    "    data_shape = data.get_shape().as_list()\n",
    "    w1 = tf.Variable(tf.random_normal(shape=(data_shape[1], n_hidden)), name=\"w1\")\n",
    "    b1 = tf.Variable(tf.zeros(shape=n_hidden), name=\"b1\")\n",
    "    hidden = tf.add(tf.matmul(data, w1), b1, name=\"hidden_pre-activation\")\n",
    "    hidden = tf.nn.relu(hidden, name=\"hidden_activation\")\n",
    "    w2 = tf.Variable(tf.random_normal(shape=(n_hidden, data_shape[1])), name=\"w2\")\n",
    "    b2 = tf.Variable(tf.zeros(shape=data_shape[1]), name=\"b2\")\n",
    "    output = tf.add(tf.matmul(hidden, w2), b2, name=\"output\")\n",
    "    return output, tf.nn.sigmoid(output)"
   ]
  },
  {
   "cell_type": "code",
   "execution_count": null,
   "metadata": {},
   "outputs": [],
   "source": [
    "#Construct Cal Graph\n",
    "batch_size=64\n",
    "g = tf.Graph()\n",
    "with g.as_default():\n",
    "    tf_X = tf.placeholder(shape=(batch_size, 100), dtype=tf.float32, name=\"tf_X\")\n",
    "    #Construct generator\n",
    "    with tf.variable_scope(\"generator\"):\n",
    "        gen_out1 = build_generator(data=tf_X, n_hidden=50)\n",
    "\n",
    "    #Construct classifier\n",
    "    with tf.variable_scope(\"classifier\") as scope:\n",
    "        cls_out1 = build_classifier(data=tf_X, labels=tf.ones(shape=batch_size))\n",
    "        #reuse generator\n",
    "        scope.reuse_variables()\n",
    "        cls_out2 = build_classifier(data=gen_out1[1], labels=tf.zeros(shape=batch_size))\n",
    "        init_op = tf.global_variables_initializer()"
   ]
  },
  {
   "cell_type": "code",
   "execution_count": null,
   "metadata": {},
   "outputs": [],
   "source": [
    "g = tf.Graph()\n",
    "with g.as_default():\n",
    "    tf_X = tf.placeholder(shape=(batch_size, 100), dtype=tf.float32, name=\"tf_X\")\n",
    "    with tf.variable_scope(\"generator\"):\n",
    "        gen_out1 = build_generator(data=tf_X, n_hidden=50)\n",
    "    with tf.variable_scope(\"classifier\"):\n",
    "        cls_out1 = build_classifier(data=tf_X, labels=tf.ones(batch_size))\n",
    "    with tf.variable_scope(\"classifier\", reuse=True):\n",
    "        cls_out2 = build_classifier(data=gen_out1[1], labels=tf.zeros(shape=batch_size) )\n",
    "        init_op =tf.global_variables_initializer()"
   ]
  },
  {
   "cell_type": "markdown",
   "metadata": {},
   "source": [
    "## Construct Regressionmodel\n",
    "- input **x**   placeholder is tf_X\n",
    "- input **y**   placeholder is tf_y\n",
    "- modelparamator **w**     variable weight\n",
    "- modelparamator **b**     variable bias\n",
    "- modeloutput  $\\hat{y}$    output y_hat "
   ]
  },
  {
   "cell_type": "code",
   "execution_count": null,
   "metadata": {},
   "outputs": [],
   "source": [
    "import tensorflow as tf\n",
    "import numpy as np\n",
    "\n",
    "g = tf.Graph()\n",
    "with g.as_default():\n",
    "    tf.set_random_seed(123)\n",
    "    tf_X = tf.placeholder(shape=(None), dtype=tf.float32, name=\"tf_X\")\n",
    "    tf_y = tf.placeholder(shape=(None), dtype=tf.float32, name=\"tf_y\")\n",
    "    \n",
    "    weight = tf.Variable(tf.random_normal(shape=(1, 1), stddev=0.25), name=\"weight\")\n",
    "    bias = tf.Variable(0.0, name=\"bias\")\n",
    "    \n",
    "    y_hat = tf.add(weight * tf_X, bias, name=\"y_hat\")\n",
    "    \n",
    "    cost = tf.reduce_mean(tf.square(tf_y - y_hat), name=\"cost\")\n",
    "    \n",
    "    optim = tf.train.GradientDescentOptimizer(learning_rate=0.001)\n",
    "    train_op = optim.minimize(cost, name=\"train_op\")"
   ]
  },
  {
   "cell_type": "code",
   "execution_count": null,
   "metadata": {},
   "outputs": [],
   "source": [
    "import numpy as np\n",
    "import matplotlib.pyplot as plt\n",
    "%matplotlib inline\n",
    "np.random.seed(0)\n",
    "\n",
    "def make_random_data():\n",
    "    x = np.random.uniform(low=-2, high=4, size=200)\n",
    "    y = []\n",
    "    for t in x:\n",
    "        r = np.random.normal(loc=0.0, scale=(0.5 + t * t / 3), size=None)\n",
    "        y.append(r)\n",
    "    return x, 1.726 * x -0.84 + np.array(y)\n",
    "\n",
    "x, y = make_random_data()\n",
    "plt.plot(x, y,\"o\")\n",
    "#marker=\"o\" => lines are added\n",
    "plt.show()"
   ]
  },
  {
   "cell_type": "code",
   "execution_count": null,
   "metadata": {},
   "outputs": [],
   "source": [
    "x_train, y_train = x[:100], y[:100]\n",
    "x_test, y_test = x[100:], y[:100]\n",
    "\n",
    "n_epochs = 500\n",
    "training_costs = []\n",
    "\n",
    "with tf.Session(graph=g) as sess:\n",
    "    sess.run(tf.global_variables_initializer())\n",
    "    #model training\n",
    "    for e in range(n_epochs):\n",
    "        c, _ = sess.run([cost, train_op], feed_dict={tf_X: x_train, tf_y: y_train})\n",
    "        training_costs.append(c)\n",
    "        if not e % 50:\n",
    "            print(\"Epoch {:4d}: {:.4f}\".format(e, c))"
   ]
  },
  {
   "cell_type": "code",
   "execution_count": null,
   "metadata": {},
   "outputs": [],
   "source": [
    "plt.plot(training_costs)\n",
    "plt.show()"
   ]
  },
  {
   "cell_type": "code",
   "execution_count": null,
   "metadata": {},
   "outputs": [],
   "source": [
    "#execute objects with its name\n",
    "n_epochs = 500\n",
    "training_costs = []\n",
    "#session start\n",
    "with tf.Session(graph=g) as sess:\n",
    "    sess.run(tf.global_variables_initializer())\n",
    "    for e in range(n_epochs):\n",
    "        c, _ = sess.run([\"cost:0\", \"train_op\"], feed_dict={\"tf_X:0\": x_train, \"tf_y:0\": y_train})\n",
    "        training_costs.append(c)\n",
    "        if not e % 50:\n",
    "            print(\"Epochs {:4d}: {:.4f}\".format(e, c))"
   ]
  },
  {
   "cell_type": "code",
   "execution_count": null,
   "metadata": {},
   "outputs": [],
   "source": [
    "#Saving models >> apeend new node called saver\n",
    "with g.as_default():\n",
    "    saver = tf.train.Saver()\n",
    "\n",
    "n_epochs = 500\n",
    "training_costs = []\n",
    "with tf.Session(graph=g) as sess:\n",
    "    sess.run(tf.global_variables_initializer())\n",
    "    \n",
    "    for e in range(n_epochs):\n",
    "        c, _ = sess.run([cost, train_op], feed_dict={tf_X: x_train, tf_y: y_train})\n",
    "        training_costs.append(c)\n",
    "        if not e % 50:\n",
    "            print(\"Epoch: {:4d}: {:.4f}\".format(e, c))\n",
    "    \n",
    "    saver.save(sess, \"./trained-model\")"
   ]
  },
  {
   "cell_type": "code",
   "execution_count": null,
   "metadata": {},
   "outputs": [],
   "source": [
    "# with tf.Session() as sess:\n",
    "#     new_saver = tf.train.import_meta_graph(\"./trained-model.meta\")"
   ]
  },
  {
   "cell_type": "code",
   "execution_count": null,
   "metadata": {},
   "outputs": [],
   "source": [
    "import tensorflow as tf\n",
    "import numpy as np\n",
    "\n",
    "g2 = tf.Graph()\n",
    "with tf.Session(graph=g2) as sess:\n",
    "    new_saver =  tf.train.import_meta_graph(\"./trained-model.meta\")\n",
    "    new_saver.restore(sess, \"./trained-model\")\n",
    "    pred = sess.run(\"y_hat:0\", feed_dict={\"tf_X:0\": x_test})"
   ]
  },
  {
   "cell_type": "code",
   "execution_count": null,
   "metadata": {},
   "outputs": [],
   "source": [
    "import matplotlib.pyplot as plt\n",
    "x_arr = np.arange(-2, 4, 0.1)\n",
    "g2 = tf.Graph()\n",
    "\n",
    "with tf.Session(graph=g2) as sess:\n",
    "    new_saver = tf.train.import_meta_graph(\"./trained-model.meta\")\n",
    "    new_saver.restore(sess, \"./trained-model\")\n",
    "    y_arr = sess.run(\"y_hat:0\", feed_dict={\"tf_X:0\": x_arr})\n",
    "\n",
    "plt.figure()\n",
    "plt.plot(x_train, y_train, \"bo\")\n",
    "plt.plot(x_test, y_test, \"bo\", alpha=0.3)\n",
    "plt.plot(x_arr, y_arr.T[:, 0], \"-r\", lw=3)\n",
    "plt.show()\n",
    "    "
   ]
  },
  {
   "cell_type": "code",
   "execution_count": null,
   "metadata": {},
   "outputs": [],
   "source": [
    "#Tensor operator\n",
    "import tensorflow as tf\n",
    "import numpy as np\n",
    "g = tf.Graph()\n",
    "\n",
    "with g.as_default():\n",
    "    arr = np.array([[1.0, 2.0, 3.0, 3.5],\n",
    "                    [4.0, 5.0, 6.0, 6.5],\n",
    "                    [7.0, 8.0, 9.0, 9.5]])\n",
    "    T1 = tf.constant(arr, name=\"T1\")\n",
    "    print(T1)\n",
    "    s = T1.get_shape()\n",
    "    print(\"Shape of T1:\", s)\n",
    "    T2 = tf.Variable(tf.random_normal(shape=s))\n",
    "    print(T2)\n",
    "    T3 = tf.Variable(tf.random_normal(shape=(s.as_list()[0], )))\n",
    "    print(T3)"
   ]
  },
  {
   "cell_type": "code",
   "execution_count": null,
   "metadata": {},
   "outputs": [],
   "source": [
    "with g.as_default():\n",
    "    T4 = tf.reshape(T1, shape= [1,1, -1], name=\"T4\")\n",
    "    print(T4)\n",
    "    T5 = tf.reshape(T1, shape=[1, 3, -1], name=\"T5\")\n",
    "    print(T5)"
   ]
  },
  {
   "cell_type": "code",
   "execution_count": null,
   "metadata": {},
   "outputs": [],
   "source": [
    "with tf.Session(graph=g) as sess:\n",
    "    print(sess.run(T4))\n",
    "    print()\n",
    "    print(sess.run(T5))"
   ]
  },
  {
   "cell_type": "code",
   "execution_count": null,
   "metadata": {},
   "outputs": [],
   "source": [
    "with g.as_default():\n",
    "    T6 = tf.transpose(T5, perm=[2, 1, 0], name=\"T6\")\n",
    "    print(T6)\n",
    "    T7 = tf.transpose(T5, perm=[0, 2, 1], name=\"T7\")\n",
    "    print(T7)"
   ]
  },
  {
   "cell_type": "code",
   "execution_count": null,
   "metadata": {},
   "outputs": [],
   "source": [
    "with g.as_default():\n",
    "    t5_split = tf.split(T5, num_or_size_splits=2, axis=2, name=\"T8\")\n",
    "    print(t5_split)\n",
    "    t5_split1 = tf.split(T5, num_or_size_splits=4, axis=2, name=\"T8\")\n",
    "    print(t5_split1)\n"
   ]
  },
  {
   "cell_type": "code",
   "execution_count": null,
   "metadata": {},
   "outputs": [],
   "source": [
    "g = tf.Graph()\n",
    "with g.as_default():\n",
    "    t1 = tf.ones(shape=(5, 1), dtype=tf.float32, name=\"t1\")\n",
    "    t2 = tf.zeros(shape=(5, 1), dtype=tf.float32, name=\"t2\")\n",
    "    print(t1)\n",
    "    print(t2)\n",
    "\n",
    "with g.as_default():\n",
    "    t3 = tf.concat([t1, t2], axis=0, name=\"t3\")\n",
    "    print(t3)\n",
    "    t4 = tf.concat([t1, t2], axis=1, name=\"t4\" )\n",
    "    print(t4)"
   ]
  },
  {
   "cell_type": "code",
   "execution_count": null,
   "metadata": {},
   "outputs": [],
   "source": [
    "with tf.Session(graph=g) as sess:\n",
    "    print(t3.eval())\n",
    "    print()\n",
    "    print(t4.eval())\n",
    "#eval()  >> evaluation"
   ]
  },
  {
   "cell_type": "markdown",
   "metadata": {},
   "source": [
    "### use controlflow in constructing Graph"
   ]
  },
  {
   "cell_type": "code",
   "execution_count": null,
   "metadata": {},
   "outputs": [],
   "source": [
    "import tensorflow as tf\n",
    "x, y = 1.0, 2.0\n",
    "g = tf.Graph()\n",
    "\n",
    "with g.as_default():\n",
    "    tf_x = tf.placeholder(dtype=tf.float32, shape=None, name=\"tf_x\")\n",
    "    tf_y = tf.placeholder(dtype=tf.float32, shape=None, name=\"tf_y\")\n",
    "    if x < y:\n",
    "        res = tf.add(tf_x, tf_y, name=\"result_add\")\n",
    "    else:\n",
    "        res = tf.subtracit(tf_x, tf_y, name=\"rusult_sub\")\n",
    "    print(\"Object:\", res)\n",
    "\n",
    "with tf.Session(graph=g) as sess:\n",
    "    print(\"x < y :{} -> result:{}\".format((x < y), res.eval(feed_dict={\"tf_x:0\": x, \"tf_y:0\": y})))\n",
    "    x, y = 2.0, 1.0\n",
    "    print(\"x < y :{} -> result:{}\".format((x < y), res.eval(feed_dict={\"tf_x:0\": x, \"tf_y:0\": y})))"
   ]
  },
  {
   "cell_type": "code",
   "execution_count": null,
   "metadata": {},
   "outputs": [],
   "source": [
    "import tensorflow as tf\n",
    "x, y= 1.0, 2.0\n",
    "g = tf.Graph()\n",
    "\n",
    "with g.as_default():\n",
    "    tf_x = tf.placeholder(dtype=tf.float32, shape=None, name=\"tf_x\")\n",
    "    tf_y = tf.placeholder(dtype=tf.float32, shape=None, name=\"tf_y\")\n",
    "    res = tf.cond(tf_x < tf_y,\n",
    "                 lambda: tf.add(tf_x, tf_y, name=\"result_add\"),\n",
    "                 lambda: tf.subtract(tf_x, tf_y, name=\"result_sub\"))\n",
    "    print(\"Object:\", res)\n",
    "    \n",
    "with tf.Session(graph=g) as sess:\n",
    "    print(\"x < y: {} -> result: {}\".format((x < y), res.eval(feed_dict={\"tf_x:0\": x, \"tf_y:0\": y})))\n",
    "    x, y = 2.0, 1.0\n",
    "    print(\"x < y: {} -> result: {}\".format((x < y), res.eval(feed_dict={\"tf_x:0\": x, \"tf_y:0\": y})))"
   ]
  },
  {
   "cell_type": "code",
   "execution_count": null,
   "metadata": {},
   "outputs": [],
   "source": [
    "if (x < y):\n",
    "    result = 1\n",
    "else:\n",
    "    result = 0"
   ]
  },
  {
   "cell_type": "code",
   "execution_count": null,
   "metadata": {},
   "outputs": [],
   "source": [
    "f1 = lambda: tf.constant(1)\n",
    "f2 = lambda: tf.constant(0)\n",
    "result = tf.case([(tf.less(x, y), f1)], default=f2)"
   ]
  },
  {
   "cell_type": "code",
   "execution_count": null,
   "metadata": {},
   "outputs": [],
   "source": [
    "i = tf.constant(0)\n",
    "threshold = 100\n",
    "c = lambda i: tf.less(i, 100)\n",
    "b = lambda i: tf.add(i, 1)\n",
    "t = tf.while_loop(cond=c, body=b, loop_vars=[i])"
   ]
  },
  {
   "cell_type": "markdown",
   "metadata": {},
   "source": [
    "### visualize caliculation graph with TensorBoard"
   ]
  },
  {
   "cell_type": "code",
   "execution_count": null,
   "metadata": {},
   "outputs": [],
   "source": [
    "batch_size = 64\n",
    "g = tf.Graph()\n",
    "\n",
    "with g.as_default():\n",
    "    tf_X = tf.placeholder(shape=(batch_size, 100), dtype=tf.float32, name=\"tf_X\")\n",
    "    #construct generator\n",
    "    with tf.variable_scope(\"generator\"):\n",
    "        gen_out1 = build_generator(data=tf_X, n_hidden=50)\n",
    "        \n",
    "    with tf.variable_scope(\"classifier\"):\n",
    "        cls_out1 = build_classifier(data=tf_X, labels=tf.ones(shape=batch_size))\n",
    "        scope.reuse_variables()\n",
    "        cls_out2 = build_classifier(data=gen_out1[1], labels=tf.zeros(shape=batch_size))"
   ]
  },
  {
   "cell_type": "code",
   "execution_count": null,
   "metadata": {},
   "outputs": [],
   "source": [
    "with tf.Session(graph=g) as sess:\n",
    "    sess.run(tf.global_variables_initializer())\n",
    "    file_writer = tf.summary.FileWriter(logdir=\".\\logs\\\\\", graph=g)"
   ]
  },
  {
   "cell_type": "markdown",
   "metadata": {},
   "source": [
    "## use this command in working directory\n",
    "`tensorboard --logdir logs\\`"
   ]
  },
  {
   "cell_type": "code",
   "execution_count": null,
   "metadata": {},
   "outputs": [],
   "source": []
  }
 ],
 "metadata": {
  "kernelspec": {
   "display_name": "Python 3",
   "language": "python",
   "name": "python3"
  },
  "language_info": {
   "codemirror_mode": {
    "name": "ipython",
    "version": 3
   },
   "file_extension": ".py",
   "mimetype": "text/x-python",
   "name": "python",
   "nbconvert_exporter": "python",
   "pygments_lexer": "ipython3",
   "version": "3.6.4"
  }
 },
 "nbformat": 4,
 "nbformat_minor": 2
}
