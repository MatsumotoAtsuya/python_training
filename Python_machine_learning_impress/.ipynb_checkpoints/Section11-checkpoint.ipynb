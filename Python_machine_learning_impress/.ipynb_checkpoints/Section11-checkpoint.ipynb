{
 "cells": [
  {
   "cell_type": "code",
   "execution_count": null,
   "metadata": {},
   "outputs": [],
   "source": [
    "#classtaring no tutors\n",
    "#k-means algorithm << protoptype-base \n",
    "#other base >> hierarchical base, density-base\n",
    "#elbow method, silhoutte plot\n",
    "from sklearn.datasets import make_blobs\n",
    "X, y = make_blobs(n_samples=150, n_features=2,\n",
    "                 centers=3, cluster_std=0.5,\n",
    "                 shuffle=True, random_state=0)\n",
    "import matplotlib.pyplot as plt\n",
    "%matplotlib inline\n",
    "plt.scatter(X[:, 0], X[:, 1], c=\"white\", marker=\"o\", edgecolor=\"black\", s=50)\n",
    "plt.grid()\n",
    "plt.tight_layout()\n",
    "plt.show()"
   ]
  },
  {
   "cell_type": "code",
   "execution_count": null,
   "metadata": {},
   "outputs": [],
   "source": [
    "#k-means 1,select centroids\n",
    "#2, attach centroids\n",
    "#3, move centroids\n",
    "#4, repeat from 2 to 3 till eta or max_iter\n",
    "from sklearn.cluster import KMeans\n",
    "km = KMeans(n_clusters=3, init=\"random\", n_init=10,\n",
    "           max_iter=300, tol=1e-04, random_state=0)\n",
    "y_km = km.fit_predict(X)"
   ]
  },
  {
   "cell_type": "code",
   "execution_count": null,
   "metadata": {},
   "outputs": [],
   "source": [
    "plt.scatter(X[y_km==0,0], X[y_km==0,1], s=50, c=\"lightgreen\", \n",
    "            edgecolor=\"black\", marker=\"s\", label=\"cluster 1\")\n",
    "plt.scatter(X[y_km==1,0], X[y_km==1,1], s=50, c=\"orange\", \n",
    "            edgecolor=\"black\", marker=\"s\", label=\"cluster 2\")\n",
    "plt.scatter(X[y_km==2,0], X[y_km==2,1], s=50, c=\"lightblue\", \n",
    "            edgecolor=\"black\", marker=\"s\", label=\"cluster 3\")\n",
    "plt.scatter(km.cluster_centers_[:,0], km.cluster_centers_[:,1],\n",
    "           s=250, marker=\"*\", c=\"red\", edgecolor=\"black\", label=\"centroids\")\n",
    "plt.legend(scatterpoints=1)\n",
    "plt.grid()\n",
    "plt.tight_layout()\n",
    "plt.show()"
   ]
  },
  {
   "cell_type": "code",
   "execution_count": null,
   "metadata": {},
   "outputs": [],
   "source": [
    "#k-means++ method\n",
    "#1 dataset M initialized\n",
    "#2 select ransom mu\n",
    "#3 evaluate minimam sentroids\n",
    "#4 use probability distribution\n",
    "#init=\"k-means++\"\n",
    "#fuzzy clustering >> fuzzy k-means\n",
    "print(\"Distribution: {:2f}\".format(km.inertia_))"
   ]
  },
  {
   "cell_type": "code",
   "execution_count": null,
   "metadata": {},
   "outputs": [],
   "source": [
    "#elbow method\n",
    "distortion = []\n",
    "for i in range(1,11):\n",
    "    km =KMeans(n_clusters=i, init=\"k-means++\", n_init=10, max_iter=300, random_state=0)\n",
    "    km.fit(X)\n",
    "    distortion.append(km.inertia_)\n",
    "    \n",
    "plt.plot(range(1,11), distortion, marker=\"o\")\n",
    "plt.xlabel(\"Number of Clusters\")\n",
    "plt.ylabel(\"Distortion\")\n",
    "plt.tight_layout()\n",
    "plt.show()"
   ]
  },
  {
   "cell_type": "code",
   "execution_count": null,
   "metadata": {},
   "outputs": [],
   "source": [
    "#silhouette analysis\n",
    "km = KMeans(n_clusters=3, init=\"k-means++\", n_init=10, tol=1e-04, max_iter=300,\n",
    "           random_state=0)\n",
    "y_km = km.fit_predict(X)\n",
    "\n",
    "import numpy as np\n",
    "from matplotlib import cm\n",
    "from sklearn.metrics import silhouette_samples\n",
    "cluster_labels = np.unique(y_km)\n",
    "print(cluster_labels)\n",
    "n_clusters = cluster_labels.shape[0]\n",
    "silhouette_vals = silhouette_samples(X, y_km, metric=\"euclidean\")\n",
    "print(silhouette_vals)\n",
    "y_ax_lower, y_ax_upper = 0, 0\n",
    "yticks = []\n",
    "for i, c in enumerate(cluster_labels):\n",
    "    c_silhouette_vals = silhouette_vals[y_km == c]\n",
    "    c_silhouette_vals.sort()\n",
    "    y_ax_upper += len(c_silhouette_vals)\n",
    "    color = cm.jet(float(i) / n_clusters)\n",
    "    plt.barh(range(y_ax_lower, y_ax_upper), c_silhouette_vals, height=1.0,\n",
    "            edgecolor=\"none\", color=color)\n",
    "    yticks.append((y_ax_lower + y_ax_upper) / 2.0)\n",
    "    y_ax_lower += len(c_silhouette_vals)\n",
    "\n",
    "silhouette_avg = np.mean(silhouette_vals)\n",
    "plt.axvline(silhouette_avg, color=\"red\", linestyle=\"--\")\n",
    "plt.yticks(yticks, cluster_labels + 1)\n",
    "plt.ylabel(\"Cluster\")\n",
    "plt.xlabel(\"Silhouette coefficient\")\n",
    "plt.tight_layout()\n",
    "plt.show()"
   ]
  },
  {
   "cell_type": "code",
   "execution_count": null,
   "metadata": {},
   "outputs": [],
   "source": [
    "km = KMeans(n_clusters=2, init=\"k-means++\", n_init=10, max_iter=300,\n",
    "           tol=1e-04, random_state=0)\n",
    "y_km = km.fit_predict(X)\n",
    "plt.scatter(X[y_km==0, 0], X[y_km==0, 1], s=50, c=\"lightgreen\",\n",
    "           edgecolor=\"black\", marker=\"s\", label=\"cluster1\")\n",
    "plt.scatter(X[y_km==1, 0], X[y_km==1, 1], s=50, c=\"orange\",\n",
    "           edgecolor=\"black\", marker=\"s\", label=\"cluster2\")\n",
    "plt.scatter(km.cluster_centers_[:, 0], km.cluster_centers_[:, 1],\n",
    "           s=250, marker=\"*\", c=\"red\", label=\"centroids\")\n",
    "plt.legend()\n",
    "plt.grid()\n",
    "plt.tight_layout()\n",
    "plt.show()"
   ]
  },
  {
   "cell_type": "code",
   "execution_count": null,
   "metadata": {},
   "outputs": [],
   "source": [
    "cluster_labels = np.unique(y_km)\n",
    "n_clusters = cluster_labels.shape[0]\n",
    "silhouetters = silhouette_samples(X, y_km, metric=\"euclidean\")\n",
    "y_ax_lower, y_ax_upper = 0, 0\n",
    "yticks = []\n",
    "for i, c in enumerate(cluster_labels):\n",
    "    c_silhouette_vals = silhouette_vals[y_km==c]\n",
    "    c_silhouette_vals.sort()\n",
    "    y_ax_upper += len(c_silhouette_vals)\n",
    "    color = cm.jet(float(i) / n_clusters)\n",
    "    plt.barh(range(y_ax_lower, y_ax_upper), c_silhouette_vals, height=1.0, \n",
    "            edgecolor=\"none\", color=color)\n",
    "    yticks.append((y_ax_lower + y_ax_upper) / 2.0)\n",
    "    y_ax_lower += len(c_silhouette_vals)\n",
    "    #cm.jet change coloer default map\n",
    "    \n",
    "silhouette_avg = np.mean(silhouette_vals)\n",
    "plt.axvline(silhouette_avg, color=\"red\", linestyle=\"--\")\n",
    "plt.yticks(yticks, cluster_labels + 1)\n",
    "plt.ylabel(\"Cluster\")\n",
    "plt.xlabel(\"silhouette coefficient\")\n",
    "plt.tight_layout()\n",
    "plt.show()"
   ]
  },
  {
   "cell_type": "code",
   "execution_count": null,
   "metadata": {},
   "outputs": [],
   "source": [
    "#hierarchical clustering\n",
    "#agglomerative, divisive\n",
    "import pandas as pd \n",
    "import numpy as np\n",
    "np.random.seed(123)\n",
    "variables = [\"X\", \"Y\", \"Z\"]\n",
    "labels = [\"id_0\", \"id_1\", \"id_2\", \"id_3\", \"id_4\"]\n",
    "X = np.random.random_sample([5,3])*10\n",
    "#each elements * 10\n",
    "df = pd.DataFrame(X, columns=variables, index=labels)\n",
    "df"
   ]
  },
  {
   "cell_type": "code",
   "execution_count": null,
   "metadata": {},
   "outputs": [],
   "source": [
    "#SciPy >> spatial.distance module >> pdist function\n",
    "from scipy.spatial.distance import pdist, squareform\n",
    "row_dist = pd.DataFrame(squareform(pdist(df, metric=\"euclidean\")),\n",
    "                       columns=labels, index=labels)\n",
    "row_dist"
   ]
  },
  {
   "cell_type": "code",
   "execution_count": null,
   "metadata": {},
   "outputs": [],
   "source": [
    "#agglomerative >>scipy.cluster.hierarchy submodule >> linkage function\n",
    "from scipy.cluster.hierarchy import linkage\n",
    "help(linkage)"
   ]
  },
  {
   "cell_type": "code",
   "execution_count": null,
   "metadata": {},
   "outputs": [],
   "source": [
    "row_clusters = linkage(pdist(df, metric=\"euclidean\"), method=\"complete\")\n",
    "pd.DataFrame(row_clusters,\n",
    "            columns=[\"row label 1\", \"row label 2\", \"distance\", \"No.\"],\n",
    "            index=[\"cluster of {}\".format(i+1) for i in range(row_clusters.shape[0])])"
   ]
  },
  {
   "cell_type": "code",
   "execution_count": null,
   "metadata": {},
   "outputs": [],
   "source": [
    "from scipy.cluster.hierarchy import dendrogram\n",
    "row_dendr = dendrogram(row_clusters, labels=labels)\n",
    "plt.ylabel(\"Euclidean distance\")\n",
    "plt.tight_layout()\n",
    "plt.show()"
   ]
  },
  {
   "cell_type": "code",
   "execution_count": null,
   "metadata": {},
   "outputs": [],
   "source": [
    "#heat map\n",
    "fig = plt.figure(figsize=(8,8), facecolor=\"white\")\n",
    "axd = fig.add_axes([0.09, 0.1, 0.2, 0.6])\n",
    "row_dendr = dendrogram(row_clusters, orientation=\"left\")\n",
    "df_rowclust = df.iloc[row_dendr[\"leaves\"][::-1]]\n",
    "axm = fig.add_axes([0.23, 0.1, 0.6, 0.6])\n",
    "cax = axm.matshow(df_rowclust, interpolation=\"nearest\", cmap=\"hot_r\")\n",
    "axd.set_xticks([])\n",
    "axd.set_yticks([])\n",
    "for i in axd.spines.values():\n",
    "    i.set_visible(False)\n",
    "fig.colorbar(cax)\n",
    "axm.set_xticklabels([\" \"] + list(df_rowclust.columns))\n",
    "axm.set_yticklabels([\" \"] + list(df_rowclust.index))\n",
    "plt.show()"
   ]
  },
  {
   "cell_type": "code",
   "execution_count": null,
   "metadata": {},
   "outputs": [],
   "source": [
    "#AgglomerativeClustering\n",
    "from sklearn.cluster import AgglomerativeClustering\n",
    "ac = AgglomerativeClustering(n_clusters=3, affinity=\"euclidean\", linkage=\"complete\")\n",
    "labels = ac.fit_predict(X)\n",
    "print(\"Cluster labels: {}\".format(labels))"
   ]
  },
  {
   "cell_type": "code",
   "execution_count": null,
   "metadata": {},
   "outputs": [],
   "source": [
    "ac = AgglomerativeClustering(n_clusters=2, affinity=\"euclidean\", linkage=\"complete\")\n",
    "labels = ac.fit_predict(X)\n",
    "print(\"Cluster labels: {}\".format(labels))"
   ]
  },
  {
   "cell_type": "code",
   "execution_count": null,
   "metadata": {},
   "outputs": [],
   "source": [
    "#DBSCAN >> density based spatial clustering of application with noise\n",
    "#labeling as core, border and noise\n",
    "from sklearn.datasets import make_moons\n",
    "X, y = make_moons(n_samples=200, noise=0.05, random_state=0)\n",
    "plt.scatter(X[:,0], X[:,1])\n",
    "plt.tight_layout()\n",
    "plt.show()"
   ]
  },
  {
   "cell_type": "code",
   "execution_count": null,
   "metadata": {},
   "outputs": [],
   "source": [
    "f, (ax1, ax2) = plt.subplots(1, 2, figsize=(8,3))\n",
    "km = KMeans(n_clusters=2, random_state=0)\n",
    "y_km = km.fit_predict(X)\n",
    "ax1.scatter(X[y_km==0, 0], X[y_km==0, 1], c=\"lightgreen\",\n",
    "            edgecolor=\"black\", marker=\"o\", s=40, label=\"cluster1\")\n",
    "ax1.scatter(X[y_km==1, 0], X[y_km==1, 1], c=\"red\",\n",
    "            edgecolor=\"black\", marker=\"s\", s=40, label=\"cluster2\")\n",
    "ax1.set_title(\"K-means clustering\")\n",
    "\n",
    "ac = AgglomerativeClustering(n_clusters=2, affinity=\"euclidean\", linkage=\"complete\")\n",
    "y_ac = ac.fit_predict(X)\n",
    "ax2.scatter(X[y_ac==0, 0], X[y_ac==0, 1], c=\"lightgreen\",\n",
    "            edgecolor=\"black\", marker=\"o\", s=40, label=\"cluster1\")\n",
    "ax2.scatter(X[y_ac==1, 0], X[y_ac==1, 1], c=\"red\",\n",
    "            edgecolor=\"black\", marker=\"s\", s=40, label=\"cluster2\")\n",
    "ax2.set_title(\"Agglomerative clustering\")\n",
    "plt.legend()\n",
    "plt.tight_layout()\n",
    "plt.show()"
   ]
  },
  {
   "cell_type": "code",
   "execution_count": null,
   "metadata": {},
   "outputs": [],
   "source": [
    "from sklearn.cluster import DBSCAN\n",
    "db = DBSCAN(eps=0.2, min_samples=5, metric=\"euclidean\")\n",
    "y_db = db.fit_predict(X)\n",
    "plt.scatter(X[y_db==0,0], X[y_db==0,1], c=\"lightblue\", \n",
    "           edgecolor=\"black\", marker=\"o\", s=40, label=\"cluster 1\")\n",
    "plt.scatter(X[y_db==1,0], X[y_db==1,1], c=\"orange\",\n",
    "           edgecolor=\"black\", marker=\"s\", s=40, label=\"cluster 2\")\n",
    "plt.legend()\n",
    "plt.tight_layout()\n",
    "plt.show()"
   ]
  },
  {
   "cell_type": "code",
   "execution_count": null,
   "metadata": {},
   "outputs": [],
   "source": [
    "#curse of demention"
   ]
  }
 ],
 "metadata": {
  "kernelspec": {
   "display_name": "Python 3",
   "language": "python",
   "name": "python3"
  },
  "language_info": {
   "codemirror_mode": {
    "name": "ipython",
    "version": 3
   },
   "file_extension": ".py",
   "mimetype": "text/x-python",
   "name": "python",
   "nbconvert_exporter": "python",
   "pygments_lexer": "ipython3",
   "version": "3.6.4"
  }
 },
 "nbformat": 4,
 "nbformat_minor": 2
}
