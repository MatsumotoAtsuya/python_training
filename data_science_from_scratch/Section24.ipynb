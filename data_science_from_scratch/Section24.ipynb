{
 "cells": [
  {
   "cell_type": "code",
   "execution_count": 1,
   "metadata": {},
   "outputs": [
    {
     "data": {
      "text/plain": [
       "[4, 23, 3, 5]"
      ]
     },
     "execution_count": 1,
     "metadata": {},
     "output_type": "execute_result"
    }
   ],
   "source": [
    "[4,23]+ [3,5]"
   ]
  },
  {
   "cell_type": "code",
   "execution_count": 9,
   "metadata": {},
   "outputs": [
    {
     "name": "stdout",
     "output_type": "stream",
     "text": [
      "[4, 5, [4, 5]] [4, 5, 4, 5]\n",
      "[4, 3]\n"
     ]
    }
   ],
   "source": [
    "k = [4,5]\n",
    "# k 関数型　オブジェクトが他の違い\n",
    "k.append([4,5])\n",
    "l = [4,5]\n",
    "l.extend([4,5])\n",
    "print(k,l)\n",
    "print([4,3])"
   ]
  },
  {
   "cell_type": "code",
   "execution_count": 7,
   "metadata": {},
   "outputs": [],
   "source": [
    "#Mapreduce\n",
    "#1.map_function を作る。\n",
    "#2.keyを対象にvalueを集める\n",
    "#3.reduce_functjionを適用する\n",
    "from collections import Counter , defaultdict\n",
    "\n",
    "def word_count_before(docs):\n",
    "    return Counter([word for doc in docs for word in tokenize(doc)])\n",
    "\n",
    "def wc_mapper(doc): #1 map_function\n",
    "    for word in tokenize(doc):\n",
    "        yield (word,1)\n",
    "        \n",
    "def wc_reducer(word,counts): #3 reduce_function\n",
    "    yield (word,sum(counts))\n",
    "    \n",
    "def word_count(docs): #2 collect values based on key\n",
    "    collector = defaultdict(list)\n",
    "    for doc in docs:\n",
    "        for word ,count in wc_mapper(doc):\n",
    "            collector[word].append(count)\n",
    "    return [op for word ,counts in collector.items() for op in wc_reducer(word,counts)]\n",
    "\n",
    "\n",
    "documents = [\"data science\", \"big data\", \"science fiction\"]\n",
    "\n",
    "\n",
    "    \n",
    "from collections import Counter, defaultdict\n",
    "\n",
    "import math, random, re, glob\n",
    "\n",
    "def tokenize(message):\n",
    "    message = message.lower()                       # convert to lowercase\n",
    "    all_words = re.findall(\"[a-z0-9']+\", message)   # extract the words\n",
    "    return set(all_words)   "
   ]
  },
  {
   "cell_type": "code",
   "execution_count": 16,
   "metadata": {},
   "outputs": [
    {
     "name": "stdout",
     "output_type": "stream",
     "text": [
      "[('data', 1), ('science', 1)]\n",
      "[(5, 1)]\n"
     ]
    }
   ],
   "source": [
    "# genetal MapReduce\n",
    "def map_reduce(inputs,mapper,reducer):\n",
    "    collector = defaultdict(list)\n",
    "    \n",
    "    for input in inputs:\n",
    "        for key ,value in mapper(input):\n",
    "            collector[key].append(value)\n",
    "            \n",
    "        return [output for key,value in collector.items() for output in reducer(key,value)]\n",
    "wordcounts = map_reduce(documents,wc_mapper,wc_reducer)   \n",
    "print(wordcounts)\n",
    "\n",
    "import datetime\n",
    "\n",
    "status_updates = [\n",
    "    {\"id\": 1,\n",
    "     \"username\" : \"joelgrus\",\n",
    "     \"text\" : \"Is anyone interested in a data science book?\",\n",
    "     \"created_at\" : datetime.datetime(2013, 12, 21, 11, 47, 0),\n",
    "     \"liked_by\" : [\"data_guy\", \"data_gal\", \"bill\"] },]\n",
    "\n",
    "\n",
    "def datascience_mapper(status_update):\n",
    "    if \"data science\" in status_update[\"text\"].lower():\n",
    "        day_week = status_update[\"created_at\"].weekday()\n",
    "        yield (day_week,1)\n",
    "        \n",
    "datasciencedays = map_reduce(status_updates ,datascience_mapper,wc_reducer)\n",
    "    \n",
    "print(datasciencedays)"
   ]
  },
  {
   "cell_type": "code",
   "execution_count": 20,
   "metadata": {},
   "outputs": [
    {
     "name": "stdout",
     "output_type": "stream",
     "text": [
      "[('joelgrus', ('is', 1))]\n"
     ]
    }
   ],
   "source": [
    "def word_per_user_mapper(status_update):\n",
    "    user = status_update[\"username\"]\n",
    "    for word in tokenize(status_update[\"text\"]):\n",
    "        yield (user,(word,1))\n",
    "        \n",
    "def most_pop_word_reducer(user,words_and_counts):\n",
    "    word_counts = Counter()\n",
    "    for word ,count in words_and_counts:\n",
    "        word_counts[word] += count\n",
    "    word ,count = word_counts.most_common(1)[0]\n",
    "    \n",
    "    yield (user,(word,count))\n",
    "    \n",
    "user_words = map_reduce(status_updates,word_per_user_mapper,most_pop_word_reducer)\n",
    "print(user_words)\n"
   ]
  },
  {
   "cell_type": "code",
   "execution_count": null,
   "metadata": {},
   "outputs": [],
   "source": [
    "def linker_mapper(status_update):\n",
    "    user = status_update[\"username\"]\n",
    "    for linker in status_update[\"linked_by\"]:\n",
    "        yield (user,linker)\n",
    "        \n",
    "distinct_linkers_per_user = map_reduce(status_updates,linker_mapper,count_distinct_reducer)"
   ]
  }
 ],
 "metadata": {
  "kernelspec": {
   "display_name": "Python 3",
   "language": "python",
   "name": "python3"
  },
  "language_info": {
   "codemirror_mode": {
    "name": "ipython",
    "version": 3
   },
   "file_extension": ".py",
   "mimetype": "text/x-python",
   "name": "python",
   "nbconvert_exporter": "python",
   "pygments_lexer": "ipython3",
   "version": "3.6.4"
  }
 },
 "nbformat": 4,
 "nbformat_minor": 2
}
