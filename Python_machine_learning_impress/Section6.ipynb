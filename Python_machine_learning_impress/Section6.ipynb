{
 "cells": [
  {
   "cell_type": "code",
   "execution_count": null,
   "metadata": {
    "scrolled": false
   },
   "outputs": [],
   "source": [
    "import pandas as pd\n",
    "df = pd.read_csv(\"https://archive.ics.uci.edu/ml/machine-learning-databases/breast-cancer-wisconsin/wdbc.data\",header=None)\n",
    "from sklearn.preprocessing import LabelEncoder\n",
    "X = df.loc[:,2:].values\n",
    "y = df.loc[:,1].values\n",
    "le = LabelEncoder()\n",
    "y = le.fit_transform(y)\n",
    "print(le.classes_)"
   ]
  },
  {
   "cell_type": "code",
   "execution_count": null,
   "metadata": {},
   "outputs": [],
   "source": [
    "le.transform(le.classes_)"
   ]
  },
  {
   "cell_type": "code",
   "execution_count": null,
   "metadata": {},
   "outputs": [],
   "source": [
    "from sklearn.model_selection import train_test_split\n",
    "X_train, X_test, y_train, y_test = train_test_split(X, y, test_size=0.2,\n",
    "                                                   stratify=y, random_state=1)"
   ]
  },
  {
   "cell_type": "code",
   "execution_count": null,
   "metadata": {},
   "outputs": [],
   "source": [
    "from sklearn.preprocessing import StandardScaler\n",
    "from sklearn.decomposition import PCA\n",
    "from sklearn.linear_model import LogisticRegression\n",
    "from sklearn.pipeline import make_pipeline\n",
    "pipe_lr = make_pipeline(StandardScaler(),\n",
    "                       PCA(n_components=2),\n",
    "                       LogisticRegression(random_state=1))\n",
    "pipe_lr.fit(X_train, y_train)\n",
    "y_pred = pipe_lr.predict(X_test)\n",
    "print(\"test accuracy:{}\".format(pipe_lr.score(X_test, y_test)))\n",
    "#pipeline >> 便利なwrapperツール "
   ]
  },
  {
   "cell_type": "code",
   "execution_count": null,
   "metadata": {},
   "outputs": [],
   "source": [
    "#holdout strategy >> training data, check data, test data の　3つに分け\n",
    "#training data & check data で　hyper paramertor を調節する。\n",
    "#層化　>> stratified >> サンプルの比率を一定に保つ\n",
    "import numpy as np\n",
    "from sklearn.model_selection import StratifiedKFold\n",
    "kfold = StratifiedKFold(n_splits=10, random_state=1).split(X_train, y_train)\n",
    "#print([i for i in kfold])\n",
    "scores = []\n",
    "for k, (train, test) in enumerate(kfold):\n",
    "    pipe_lr.fit(X_train[train], y_train[train])\n",
    "    score = pipe_lr.score(X_train[test], y_train[test])\n",
    "    scores.append(score)\n",
    "    print(\"Fold:{}, Class dict:{}, Accuracy:{}\".format(k+1, np.bincount(y_train[train]), score))\n",
    "print(\"\\nCV accuracy:{} +- {}\".format(np.mean(scores), np.std(scores)))"
   ]
  },
  {
   "cell_type": "code",
   "execution_count": null,
   "metadata": {
    "scrolled": true
   },
   "outputs": [],
   "source": [
    "from sklearn.model_selection import cross_val_score\n",
    "#cv >> data の分割数, n_jobs >> 使用するCPUの数\n",
    "scores = cross_val_score(estimator=pipe_lr, X=X_train, y=y_train, cv=10, n_jobs=10)\n",
    "print(\"CV accuracy scores:{}\".format(scores))\n",
    "print(\"CV accuracy:{} +- {}\".format(np.mean(scores), np.std(scores)))"
   ]
  },
  {
   "cell_type": "code",
   "execution_count": null,
   "metadata": {},
   "outputs": [],
   "source": [
    "#learning curve & validation curve\n",
    "import matplotlib.pyplot as plt\n",
    "from sklearn.model_selection import learning_curve\n",
    "pipe_lr = make_pipeline(StandardScaler(),LogisticRegression(penalty=\"l2\", random_state=1))\n",
    "train_sizes, train_scores, test_scores = learning_curve(estimator=pipe_lr,\n",
    "                                                       X=X_train,\n",
    "                                                       y=y_train,\n",
    "                                                       train_sizes=np.linspace(0.1, 1.0, 10),\n",
    "                                                        cv=10, n_jobs=10)\n",
    "train_mean = np.mean(train_scores, axis=1)\n",
    "train_std = np.std(train_scores, axis=1)\n",
    "test_mean = np.mean(test_scores, axis=1)\n",
    "test_std = np.std(test_scores, axis=1)\n",
    "plt.plot(train_sizes, train_mean, color=\"blue\",\n",
    "         markersize=5, marker=\"o\",label=\"train accuracy\")\n",
    "plt.fill_between(train_sizes, \n",
    "                train_std+train_mean,\n",
    "                train_mean-train_std,\n",
    "                alpha=0.5, color=\"blue\")\n",
    "plt.plot(train_sizes, test_mean, color=\"green\",linestyle=\"--\",\n",
    "         markersize=5, marker=\"s\",label=\"validation accuracy\")\n",
    "plt.fill_between(train_sizes, \n",
    "                test_std+test_mean,\n",
    "                test_mean-test_std,\n",
    "                alpha=0.5, color=\"green\")\n",
    "plt.grid()\n",
    "plt.xlabel(\"Number of train sample\")\n",
    "plt.ylabel(\"Accuracy\")\n",
    "plt.legend(loc=\"lower left\")\n",
    "plt.ylim([0.8,1.05])\n",
    "plt.tight_layout()\n",
    "plt.show()\n"
   ]
  },
  {
   "cell_type": "code",
   "execution_count": null,
   "metadata": {},
   "outputs": [],
   "source": [
    "from sklearn.model_selection import validation_curve\n",
    "param_range = [10**c for c in range(-3,3)]\n",
    "train_scores, test_scores = validation_curve(estimator=pipe_lr,\n",
    "                                            X=X_train, y=y_train,\n",
    "                                            param_name=\"logisticregression__C\",\n",
    "                                            param_range=param_range,cv=10)\n",
    "#logisticregression の後の_ は2つ分用意する！\n",
    "train_mean = np.mean(train_scores, axis=1)\n",
    "train_std = np.std(train_scores, axis=1)\n",
    "test_mean = np.mean(test_scores, axis=1)\n",
    "test_std = np.std(test_scores, axis=1)\n",
    "plt.plot(param_range, train_mean, color=\"blue\", marker=\"^\", markersize=5, label=\"training accuracy\")\n",
    "plt.fill_between(param_range, train_mean+train_std, train_mean-train_std, alpha=0.5, color=\"blue\")\n",
    "plt.plot(param_range, test_mean, color=\"green\", marker=\"o\", markersize=5, label=\"validation accuracy\")\n",
    "plt.fill_between(param_range, test_mean+test_std, test_mean-test_std, alpha=0.5, color=\"green\")\n",
    "plt.grid()\n",
    "plt.xscale(\"log\")\n",
    "plt.legend(\"upper left\")\n",
    "plt.xlabel(\"Parametor C\")\n",
    "plt.ylabel(\"Accuracy\")\n",
    "plt.ylim([0.8, 1.05])\n",
    "plt.tight_layout()\n",
    "plt.show()"
   ]
  },
  {
   "cell_type": "code",
   "execution_count": null,
   "metadata": {},
   "outputs": [],
   "source": [
    "#hyper paramator を　grid search　という、手法で最適化する。\n",
    "from sklearn.model_selection import GridSearchCV\n",
    "from sklearn.svm import SVC\n",
    "pipe_svc = make_pipeline(StandardScaler(), SVC(random_state=1))\n",
    "param_range = [10**c for c in range(-4,5)]\n",
    "param_grid = [{\"svc__C\": param_range, \"svc__kernel\": [\"linear\"]},\n",
    "               {\"svc__C\": param_range, \"svc__gamma\":param_range, \"svc__kernel\":[\"rbf\"]}]\n",
    "gs = GridSearchCV(estimator=pipe_svc, param_grid=param_grid, scoring=\"accuracy\", cv=10, n_jobs=-1)\n",
    "gs = gs.fit(X_train, y_train)\n",
    "print(gs.best_score_)\n",
    "print(gs.best_params_)"
   ]
  },
  {
   "cell_type": "code",
   "execution_count": null,
   "metadata": {},
   "outputs": [],
   "source": [
    "clf = gs.best_estimator_\n",
    "clf.fit(X_train, y_train)\n",
    "print(\"test accuracy: {}\".format(clf.score(X_test, y_test)))"
   ]
  },
  {
   "cell_type": "code",
   "execution_count": null,
   "metadata": {},
   "outputs": [],
   "source": [
    "#入れ子式の交差検証　>> out roop = {test : trainning}, inner roop={training: check}\n",
    "#out roop ト　inner roop ヲ　テキギイレカエル\n",
    "gs = GridSearchCV(estimator=pipe_svc, param_grid=param_grid,\n",
    "                 scoring=\"accuracy\", cv=2)\n",
    "scores = cross_val_score(gs, X_train, y_train, scoring=\"accuracy\", cv=5)\n",
    "print(\"CV accuracy:{} +- {}\".format(np.mean(scores), np.std(scores)))"
   ]
  },
  {
   "cell_type": "code",
   "execution_count": null,
   "metadata": {},
   "outputs": [],
   "source": [
    "from sklearn.tree import DecisionTreeClassifier\n",
    "gs = GridSearchCV(estimator=DecisionTreeClassifier(random_state=0),\n",
    "                 param_grid={\"max_depth\":[1,2,3,4,5,6,7,None]},\n",
    "                 scoring=\"accuracy\", cv=5)\n",
    "scores = cross_val_score(gs, X_train, y_train, scoring=\"accuracy\", cv=5)\n",
    "print(\"CV accuracy:{} +- {}\".format(np.mean(scores), np.std(scores)))"
   ]
  },
  {
   "cell_type": "code",
   "execution_count": null,
   "metadata": {},
   "outputs": [],
   "source": [
    "#confusion matrix >> true&false:実際に当たったか　positive&negative:どう予測したか\n",
    "from sklearn.metrics import confusion_matrix\n",
    "pipe_svc.fit(X_train, y_train)\n",
    "y_pred = pipe_svc.predict(X_test)\n",
    "confmat = confusion_matrix(y_true=y_test, y_pred=y_pred)\n",
    "print(confmat)\n",
    "#TP FN\n",
    "#FP TN"
   ]
  },
  {
   "cell_type": "code",
   "execution_count": null,
   "metadata": {},
   "outputs": [],
   "source": [
    "fig, ax = plt.subplots(figsize=(2.5,2.5))\n",
    "ax.matshow(confmat, cmap=plt.cm.Blues, alpha=0.3)\n",
    "for i in range(confmat.shape[0]):\n",
    "    for j in range(confmat.shape[1]):\n",
    "        ax.text(x=j, y=i, s=confmat[i,j], va=\"center\", ha=\"center\")\n",
    "        \n",
    "plt.xlabel(\"predicted label\")\n",
    "plt.ylabel(\"true label\")\n",
    "plt.tight_layout()\n",
    "plt.show()"
   ]
  },
  {
   "cell_type": "code",
   "execution_count": null,
   "metadata": {},
   "outputs": [],
   "source": [
    "#適合率　ト　再現率\n",
    "from sklearn.metrics import precision_score\n",
    "from sklearn.metrics import f1_score, recall_score\n",
    "print(\"precision:{}\".format(precision_score(y_true=y_test, y_pred=y_pred)))\n",
    "print(\"recll:{}\".format(recall_score(y_true=y_test, y_pred=y_pred)))\n",
    "print(\"F1:{}\".format(f1_score(y_true=y_test, y_pred=y_pred)))\n",
    "# pre = tp / (tp + fp)\n",
    "# tec = tp / (fn + tp)\n",
    "# f1 = 2 * (pre*rec) / (pre+rec)"
   ]
  },
  {
   "cell_type": "code",
   "execution_count": null,
   "metadata": {},
   "outputs": [],
   "source": [
    "from sklearn.metrics import f1_score, make_scorer\n",
    "scorer = make_scorer(f1_score, pos_label=0)\n",
    "gs = GridSearchCV(estimator=pipe_svc, param_grid=param_grid, \n",
    "               scoring=scorer, cv=10, n_jobs=-1)\n",
    "gs.fit(X_train, y_train)\n",
    "print(gs.best_score_)\n",
    "print(gs.best_params_)"
   ]
  },
  {
   "cell_type": "code",
   "execution_count": null,
   "metadata": {},
   "outputs": [],
   "source": [
    "#Area Under the Curve >> roc 曲線\n",
    "from sklearn.metrics import roc_curve, auc\n",
    "from scipy import interp\n",
    "pipe_lr = make_pipeline(StandardScaler(),PCA(n_components=2),\n",
    "                       LogisticRegression(penalty=\"l2\", random_state=1, C=100.0))\n",
    "X_train2 = X_train[:,[4,14]]\n",
    "cv = list(StratifiedKFold(n_splits=3, random_state=1).split(X_train, y_train))\n",
    "fig = plt.figure(figsize=(7, 5))\n",
    "mean_tpr = 0.0\n",
    "mean_fpr = np.linspace(0,1,100)\n",
    "all_tpr = []\n",
    "for i, (train, test) in enumerate(cv):\n",
    "    probas = pipe_lr.fit(X_train2[train], y_train[train]).predict_proba(X_train2[test])\n",
    "    fpr, tpr, thresholds = roc_curve(y_train[test], probas[:, 1], pos_label=1)\n",
    "    mean_tpr += interp(mean_fpr, fpr, tpr)\n",
    "    mean_tpr[0] = 0.0\n",
    "    roc_auc = auc(fpr, tpr)\n",
    "    plt.plot(fpr, tpr, label = \"roc fold {} (areas = {})\".format(i+1, roc_auc))\n",
    "plt.plot([0, 1], [0, 1], linestyle=\"--\",\n",
    "        color=(0.6, 0.6, 0.6), label=\"random guessing\")\n",
    "mean_tpr /= len(cv)\n",
    "mean_tpr[-1] = 1.0\n",
    "mean_auc = auc(mean_fpr, mean_tpr)\n",
    "plt.plot(mean_fpr, mean_tpr, \"k--\", label=\"mean ROC (area = {})\".format(mean_auc), lw=2)\n",
    "plt.plot([0, 0, 1], [0, 1, 1], linestyle=\":\", color=\"black\", label=\"perfect performance\")\n",
    "plt.xlim([-0.05, 1.05])\n",
    "plt.ylim([-0.05, 1.05])\n",
    "plt.xlabel(\"false positive\")\n",
    "plt.ylabel(\"true positive\")\n",
    "plt.legend(loc=\"lower right\")\n",
    "plt.tight_layout()\n",
    "plt.show()"
   ]
  },
  {
   "cell_type": "code",
   "execution_count": null,
   "metadata": {},
   "outputs": [],
   "source": [
    "pre_score = make_scorer(score_func=precision_score, pos_label=1, greater_is_better=True, average=\"micro\")\n",
    "print(pre_score)\n",
    "#average argment により、他クラス分類に対応している。"
   ]
  },
  {
   "cell_type": "code",
   "execution_count": null,
   "metadata": {},
   "outputs": [],
   "source": [
    "#bad samples\n",
    "X_imb = np.vstack((X[y==0], X[y==1][:40]))\n",
    "y_imb = np.hstack((y[y==0], y[y==1][:40]))\n",
    "print(X_imb,\"\\n\", y_imb)"
   ]
  },
  {
   "cell_type": "code",
   "execution_count": null,
   "metadata": {},
   "outputs": [],
   "source": [
    "y_pred = np.zeros(y_imb.shape[0])\n",
    "np.mean(y_pred == y_imb) * 100\n",
    "#true > 1, false > 0 として合計を算出し、要素の数だけ割っている\n"
   ]
  },
  {
   "cell_type": "code",
   "execution_count": null,
   "metadata": {},
   "outputs": [],
   "source": [
    "from sklearn.utils import resample\n",
    "print(\"number of class 1 sample before: \", X_imb[y_imb == 1].shape[0])\n",
    "X_upsampled, y_upsampled = resample(X_imb[y_imb == 1], y_imb[y_imb == 1],\n",
    "                                   replace=True, n_samples=X_imb[y_imb == 0].shape[0],\n",
    "                                   random_state=123)\n",
    "print(\"number of class 1 samples after: \", X_upsampled.shape[0])"
   ]
  },
  {
   "cell_type": "code",
   "execution_count": null,
   "metadata": {},
   "outputs": [],
   "source": [
    "X_bal = np.vstack((X[y==0], X_upsampled))\n",
    "y_bal = np.hstack((y[y==0], y_upsampled))\n",
    "#np.vstack >> axis1, np.hstack >>axis0 で結合\n"
   ]
  },
  {
   "cell_type": "code",
   "execution_count": null,
   "metadata": {},
   "outputs": [],
   "source": [
    "y_pred = np.zeros(y_bal.shape[0])\n",
    "np.mean(y_pred == y_bal) * 100"
   ]
  }
 ],
 "metadata": {
  "kernelspec": {
   "display_name": "Python 3",
   "language": "python",
   "name": "python3"
  },
  "language_info": {
   "codemirror_mode": {
    "name": "ipython",
    "version": 3
   },
   "file_extension": ".py",
   "mimetype": "text/x-python",
   "name": "python",
   "nbconvert_exporter": "python",
   "pygments_lexer": "ipython3",
   "version": "3.6.4"
  }
 },
 "nbformat": 4,
 "nbformat_minor": 2
}
