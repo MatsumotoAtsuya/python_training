{
 "cells": [
  {
   "cell_type": "code",
   "execution_count": 4,
   "metadata": {},
   "outputs": [
    {
     "name": "stdout",
     "output_type": "stream",
     "text": [
      "[('Python', 4), ('R', 4), ('Big Data', 3), ('HBase', 3), ('Java', 3), ('statistics', 3), ('regression', 3), ('probability', 3), ('Hadoop', 2), ('Cassandra', 2), ('MongoDB', 2), ('Postgres', 2), ('scikit-learn', 2), ('statsmodels', 2), ('pandas', 2), ('machine learning', 2), ('libsvm', 2), ('C++', 2), ('neural networks', 2), ('deep learning', 2), ('artificial intelligence', 2), ('Spark', 1), ('Storm', 1), ('NoSQL', 1), ('scipy', 1), ('numpy', 1), ('decision trees', 1), ('Haskell', 1), ('programming languages', 1), ('mathematics', 1), ('theory', 1), ('Mahout', 1), ('MapReduce', 1), ('databases', 1), ('MySQL', 1), ('support vector machines', 1)]\n"
     ]
    }
   ],
   "source": [
    "#recommend system\n",
    "users_interests = [\n",
    "    [\"Hadoop\", \"Big Data\", \"HBase\", \"Java\", \"Spark\", \"Storm\", \"Cassandra\"],\n",
    "    [\"NoSQL\", \"MongoDB\", \"Cassandra\", \"HBase\", \"Postgres\"],\n",
    "    [\"Python\", \"scikit-learn\", \"scipy\", \"numpy\", \"statsmodels\", \"pandas\"],\n",
    "    [\"R\", \"Python\", \"statistics\", \"regression\", \"probability\"],\n",
    "    [\"machine learning\", \"regression\", \"decision trees\", \"libsvm\"],\n",
    "    [\"Python\", \"R\", \"Java\", \"C++\", \"Haskell\", \"programming languages\"],\n",
    "    [\"statistics\", \"probability\", \"mathematics\", \"theory\"],\n",
    "    [\"machine learning\", \"scikit-learn\", \"Mahout\", \"neural networks\"],\n",
    "    [\"neural networks\", \"deep learning\", \"Big Data\", \"artificial intelligence\"],\n",
    "    [\"Hadoop\", \"Java\", \"MapReduce\", \"Big Data\"],\n",
    "    [\"statistics\", \"R\", \"statsmodels\"],\n",
    "    [\"C++\", \"deep learning\", \"artificial intelligence\", \"probability\"],\n",
    "    [\"pandas\", \"R\", \"Python\"],\n",
    "    [\"databases\", \"HBase\", \"Postgres\", \"MySQL\", \"MongoDB\"],\n",
    "    [\"libsvm\", \"regression\", \"support vector machines\"]\n",
    "]\n",
    "from collections import Counter\n",
    "pop_interests = Counter(interest for user_interests in users_interests for interest in user_interests).most_common()\n",
    "print(pop_interests)"
   ]
  },
  {
   "cell_type": "code",
   "execution_count": 7,
   "metadata": {},
   "outputs": [
    {
     "data": {
      "text/plain": [
       "[('Python', 4), ('R', 4), ('Big Data', 3), ('Java', 3), ('statistics', 3)]"
      ]
     },
     "execution_count": 7,
     "metadata": {},
     "output_type": "execute_result"
    }
   ],
   "source": [
    "def most_pop_new_interests(user_interests,max_res = 5):\n",
    "    sugges = [(interest,freq) for interest , freq in pop_interests if interest not in user_interests]\n",
    "    return sugges[:max_res]\n",
    "\n",
    "most_pop_new_interests(users_interests[1])"
   ]
  },
  {
   "cell_type": "code",
   "execution_count": 36,
   "metadata": {},
   "outputs": [],
   "source": [
    "#cos_similarity\n",
    "import numpy as np\n",
    "def cos_simi(v,w):\n",
    "    return (np.dot(v,w)/(np.linalg.norm(v) * np.linalg.norm(w))).tolist()\n",
    "\n",
    "unique_inte = sorted(list({interest for user_interests in users_interests for interest in user_interests}))\n",
    "# print(unique_inte)\n",
    "def make_inte_vector(user_interests):\n",
    "    return [1 if interest in user_interests else 0 for interest in unique_inte]\n",
    "\n",
    "user_inte_matrix = list(map(make_inte_vector,users_interests))\n",
    "# print(user_inte_matrix)\n",
    "user_simi = [[cos_simi(inte_vector_i,inte_vector_j) for inte_vector_j in user_inte_matrix ] for inte_vector_i in user_inte_matrix]\n",
    "# print(user_simi[0][8])\n",
    "def most_simi_user(user_id):\n",
    "    pairs = [(other_id,simi) for other_id , simi in enumerate(user_simi[user_id])if user_id != other_id and simi>0]\n",
    "    return sorted(pairs,key = lambda simi :simi[1], reverse = True)\n",
    "\n",
    "# most_simi_user(0)\n",
    "from collections import defaultdict\n",
    "\n",
    "def user_based_sugg(user_id,in_curr_inte = False):\n",
    "    sugg = defaultdict(float)\n",
    "    for other_id ,simi in most_simi_user(user_id):\n",
    "        for inte in users_interests[other_id]:\n",
    "            sugg[inte] += simi\n",
    "            \n",
    "    sugg = sorted(sugg.items(),key=lambda sug:sug[1] ,reverse = True)\n",
    "    \n",
    "    if in_curr_inte:\n",
    "        return sugg\n",
    "    else:\n",
    "        return [(sug,weight) for sug ,weight in sugg if sug not in users_interests[user_id]]\n",
    "    \n",
    "user_based_sugg(1)\n",
    "inte_user_matrix = np.array(user_inte_matrix).T.tolist()\n",
    "# print(inte_user_matrix)"
   ]
  },
  {
   "cell_type": "code",
   "execution_count": 42,
   "metadata": {},
   "outputs": [
    {
     "data": {
      "text/plain": [
       "[('MapReduce', 1.861807319565799),\n",
       " ('MongoDB', 1.3164965809277258),\n",
       " ('Postgres', 1.3164965809277258),\n",
       " ('NoSQL', 1.2844570503761732),\n",
       " ('MySQL', 0.5773502691896258),\n",
       " ('databases', 0.5773502691896258),\n",
       " ('Haskell', 0.5773502691896258),\n",
       " ('programming languages', 0.5773502691896258),\n",
       " ('artificial intelligence', 0.40824829046386296),\n",
       " ('deep learning', 0.40824829046386296),\n",
       " ('neural networks', 0.40824829046386296),\n",
       " ('C++', 0.40824829046386296),\n",
       " ('Python', 0.2886751345948129),\n",
       " ('R', 0.2886751345948129)]"
      ]
     },
     "execution_count": 42,
     "metadata": {},
     "output_type": "execute_result"
    }
   ],
   "source": [
    "inte_simi = [[cos_simi(user_v_i,user_v_j) for user_v_i in inte_user_matrix] for user_v_j in inte_user_matrix]\n",
    "def most_simi_inte(interest_id):\n",
    "    simi = inte_simi[interest_id]\n",
    "    pairs = [(unique_inte[other_id],sim) for other_id, sim in enumerate(simi) if interest_id != other_id and sim > 0]\n",
    "    return sorted(pairs,key = lambda simi:simi[1],reverse = True)\n",
    "most_simi_inte(5)\n",
    "def item_based_sugg(user_id,in_curr_inte = False):\n",
    "    sugg = defaultdict(float)\n",
    "    user_inte_v = user_inte_matrix[user_id]\n",
    "    for inte_id , is_inte in enumerate(user_inte_v):\n",
    "        if is_inte == 1:\n",
    "            simi_inte = most_simi_inte(inte_id)\n",
    "#             print(simi_inte)\n",
    "#             print(sugg)\n",
    "            for inte ,simi in simi_inte:\n",
    "                sugg[inte] += simi\n",
    "        \n",
    "    sugg = sorted(sugg.items(),key = lambda simi:simi[1],reverse = True)\n",
    "    \n",
    "    if in_curr_inte:\n",
    "        return sugg\n",
    "    else:\n",
    "        return [(sug,w) for sug ,w in sugg if sug not in users_interests[user_id]]\n",
    "\n",
    "item_based_sugg(0)"
   ]
  }
 ],
 "metadata": {
  "kernelspec": {
   "display_name": "Python 3",
   "language": "python",
   "name": "python3"
  },
  "language_info": {
   "codemirror_mode": {
    "name": "ipython",
    "version": 3
   },
   "file_extension": ".py",
   "mimetype": "text/x-python",
   "name": "python",
   "nbconvert_exporter": "python",
   "pygments_lexer": "ipython3",
   "version": "3.6.4"
  }
 },
 "nbformat": 4,
 "nbformat_minor": 2
}
