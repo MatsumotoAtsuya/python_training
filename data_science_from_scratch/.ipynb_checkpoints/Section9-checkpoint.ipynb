{
 "cells": [
  {
   "cell_type": "code",
   "execution_count": 1,
   "metadata": {},
   "outputs": [],
   "source": [
    "import sys ,re \n",
    "regex = sys.argv[1]\n",
    "for line in sys.stdin:\n",
    "    if re.search(regex,line):\n",
    "        sys.stdout.write(line)\n",
    "\n",
    "\n",
    "        "
   ]
  },
  {
   "cell_type": "code",
   "execution_count": 2,
   "metadata": {},
   "outputs": [
    {
     "name": "stdout",
     "output_type": "stream",
     "text": [
      "0\n"
     ]
    }
   ],
   "source": [
    "import sys \n",
    "count = 0\n",
    "for lin in sys.stdin:\n",
    "    count += 1\n",
    "    \n",
    "print(count)\n"
   ]
  },
  {
   "cell_type": "code",
   "execution_count": 4,
   "metadata": {},
   "outputs": [
    {
     "name": "stdout",
     "output_type": "stream",
     "text": [
      "usage:most_common.py\n"
     ]
    },
    {
     "ename": "SystemExit",
     "evalue": "1",
     "output_type": "error",
     "traceback": [
      "An exception has occurred, use %tb to see the full traceback.\n",
      "\u001b[1;31mSystemExit\u001b[0m\u001b[1;31m:\u001b[0m 1\n"
     ]
    },
    {
     "name": "stderr",
     "output_type": "stream",
     "text": [
      "C:\\Users\\Atsuya\\Anaconda\\Anaconda3\\lib\\site-packages\\IPython\\core\\interactiveshell.py:2918: UserWarning: To exit: use 'exit', 'quit', or Ctrl-D.\n",
      "  warn(\"To exit: use 'exit', 'quit', or Ctrl-D.\", stacklevel=1)\n"
     ]
    }
   ],
   "source": [
    "import sys\n",
    "from collections import Counter\n",
    "try:\n",
    "    num_words = int(sys.argv[1])\n",
    "except:\n",
    "    print(\"usage:most_common.py\")\n",
    "    sys.exit(1)   \n",
    "counter = Counter([word.lower() for line in sys.stdin for word in line.strip().split() if word ])\n",
    "\n",
    "for word, count in counter.most_common(num_words):\n",
    "    sys.stdout.write(str(count))\n",
    "    sys.stdout.write(\"\\t\")\n",
    "    sys.stdout.write(word)\n",
    "    sys.stdout.write(\"\\n\")"
   ]
  },
  {
   "cell_type": "code",
   "execution_count": null,
   "metadata": {},
   "outputs": [],
   "source": [
    "f_read = open(\"read_file.txt\",\"r\")\n",
    "f_write = open(\"write_file.txt\",\"w\")\n",
    "f_append = open(\"append_file.txt\",\"a\")\n",
    "f_write.close()\n",
    "with open(filename , \"r\") as f:\n",
    "    data = func_get_data(f)\n",
    "    \n",
    "process(data)\n",
    "start_with_hash = 0\n",
    "with open(\"input.txt\",\"r\") as f:\n",
    "    for line in f:\n",
    "        if re.match(\"^#\",line):\n",
    "            start_with_hash += 1\n",
    "            \n",
    "def get_domain(address):\n",
    "    return address.lower().split(\"@\")[-1]\n",
    "\n",
    "with open(\"address.txt\",\"r\") as f:\n",
    "    domain_count = Counter([get_domain(line.strip()) for line in f if \"@\" in line])\n",
    "\n",
    "import csv \n",
    "with open(\"csv.txt\",\"rb\") as f:\n",
    "    reader = csv.reader(f, delimiter = \"\\t\")\n",
    "    for row in reader:\n",
    "        date = row[0]\n",
    "        symbol = row[1]\n",
    "        close = float(row[2])\n",
    "        process(date,symbol ,close)\n",
    "        \n",
    "with open(\"csv.txt\",\"rb\") as f:\n",
    "    reader = csv.DectReader(f , delimiter = \":\")\n",
    "    for row in reader:\n",
    "        date = row[\"date\"]\n",
    "        symbol = row[\"symbol\"]\n",
    "        close = float(row[\"close\"])\n",
    "        process(date,symbol,close)"
   ]
  },
  {
   "cell_type": "code",
   "execution_count": null,
   "metadata": {},
   "outputs": [],
   "source": [
    "from bs5 import BeautifulSoup\n",
    "import requests\n",
    "html = request.get(\"http://example\").text\n",
    "soup = BeautifulSoup(html,\"html5lib\")\n",
    "\n"
   ]
  },
  {
   "cell_type": "code",
   "execution_count": 10,
   "metadata": {},
   "outputs": [
    {
     "name": "stdout",
     "output_type": "stream",
     "text": [
      "[]\n"
     ]
    }
   ],
   "source": [
    "from bs4 import BeautifulSoup\n",
    "import requests\n",
    "url = \"http://shop.oreilly.com/category/browse-subjects/data.do?sortby=publicationDate&page=1\"\n",
    "soup = BeautifulSoup(requests.get(url).text,\"html5lib\")\n",
    "tds = soup(\"td\",\"thumbtext\")\n",
    "print(tds)"
   ]
  },
  {
   "cell_type": "code",
   "execution_count": 11,
   "metadata": {},
   "outputs": [
    {
     "name": "stdout",
     "output_type": "stream",
     "text": [
      "0\n"
     ]
    }
   ],
   "source": [
    "def is_video(td):\n",
    "    pricelabel = td(\"span\",\"pricelabel\")\n",
    "    return (len(pricelabel) == 1 and pricelabels[0].text.strip().startwith(\"Video\"))\n",
    "print(len([td for td in tds if not is_video(td)]))\n"
   ]
  },
  {
   "cell_type": "code",
   "execution_count": 14,
   "metadata": {},
   "outputs": [
    {
     "name": "stdout",
     "output_type": "stream",
     "text": [
      "souping page 1 , 0\n",
      "souping page 2 , 0\n",
      "souping page 3 , 0\n",
      "souping page 4 , 0\n",
      "souping page 5 , 0\n",
      "souping page 6 , 0\n",
      "souping page 7 , 0\n",
      "souping page 8 , 0\n",
      "souping page 9 , 0\n",
      "souping page 10 , 0\n",
      "souping page 11 , 0\n",
      "souping page 12 , 0\n"
     ]
    },
    {
     "ename": "KeyboardInterrupt",
     "evalue": "",
     "output_type": "error",
     "traceback": [
      "\u001b[1;31m---------------------------------------------------------------------------\u001b[0m",
      "\u001b[1;31mKeyboardInterrupt\u001b[0m                         Traceback (most recent call last)",
      "\u001b[1;32m<ipython-input-14-1bfa35f17617>\u001b[0m in \u001b[0;36m<module>\u001b[1;34m()\u001b[0m\n\u001b[0;32m     23\u001b[0m     \u001b[0mprint\u001b[0m\u001b[1;33m(\u001b[0m\u001b[1;34m\"souping page\"\u001b[0m\u001b[1;33m,\u001b[0m\u001b[0mpage_num\u001b[0m\u001b[1;33m,\u001b[0m\u001b[1;34m\",\"\u001b[0m\u001b[1;33m,\u001b[0m\u001b[0mlen\u001b[0m\u001b[1;33m(\u001b[0m\u001b[0mbooks\u001b[0m\u001b[1;33m)\u001b[0m\u001b[1;33m)\u001b[0m\u001b[1;33m\u001b[0m\u001b[0m\n\u001b[0;32m     24\u001b[0m     \u001b[0murl\u001b[0m \u001b[1;33m=\u001b[0m \u001b[0mbase_url\u001b[0m \u001b[1;33m+\u001b[0m \u001b[0mstr\u001b[0m\u001b[1;33m(\u001b[0m\u001b[0mpage_num\u001b[0m\u001b[1;33m)\u001b[0m\u001b[1;33m\u001b[0m\u001b[0m\n\u001b[1;32m---> 25\u001b[1;33m     \u001b[0msoup\u001b[0m \u001b[1;33m=\u001b[0m \u001b[0mBeautifulSoup\u001b[0m\u001b[1;33m(\u001b[0m\u001b[0mrequests\u001b[0m\u001b[1;33m.\u001b[0m\u001b[0mget\u001b[0m\u001b[1;33m(\u001b[0m\u001b[0murl\u001b[0m\u001b[1;33m)\u001b[0m\u001b[1;33m.\u001b[0m\u001b[0mtext\u001b[0m\u001b[1;33m,\u001b[0m\u001b[1;34m\"html5lib\"\u001b[0m\u001b[1;33m)\u001b[0m\u001b[1;33m\u001b[0m\u001b[0m\n\u001b[0m\u001b[0;32m     26\u001b[0m \u001b[1;33m\u001b[0m\u001b[0m\n\u001b[0;32m     27\u001b[0m     \u001b[1;32mfor\u001b[0m \u001b[0mtd\u001b[0m \u001b[1;32min\u001b[0m \u001b[0msoup\u001b[0m\u001b[1;33m(\u001b[0m\u001b[1;34m\"td\"\u001b[0m\u001b[1;33m,\u001b[0m\u001b[1;34m\"thumbtext\"\u001b[0m\u001b[1;33m)\u001b[0m\u001b[1;33m:\u001b[0m\u001b[1;33m\u001b[0m\u001b[0m\n",
      "\u001b[1;32m~\\Anaconda\\Anaconda3\\lib\\site-packages\\requests\\api.py\u001b[0m in \u001b[0;36mget\u001b[1;34m(url, params, **kwargs)\u001b[0m\n\u001b[0;32m     70\u001b[0m \u001b[1;33m\u001b[0m\u001b[0m\n\u001b[0;32m     71\u001b[0m     \u001b[0mkwargs\u001b[0m\u001b[1;33m.\u001b[0m\u001b[0msetdefault\u001b[0m\u001b[1;33m(\u001b[0m\u001b[1;34m'allow_redirects'\u001b[0m\u001b[1;33m,\u001b[0m \u001b[1;32mTrue\u001b[0m\u001b[1;33m)\u001b[0m\u001b[1;33m\u001b[0m\u001b[0m\n\u001b[1;32m---> 72\u001b[1;33m     \u001b[1;32mreturn\u001b[0m \u001b[0mrequest\u001b[0m\u001b[1;33m(\u001b[0m\u001b[1;34m'get'\u001b[0m\u001b[1;33m,\u001b[0m \u001b[0murl\u001b[0m\u001b[1;33m,\u001b[0m \u001b[0mparams\u001b[0m\u001b[1;33m=\u001b[0m\u001b[0mparams\u001b[0m\u001b[1;33m,\u001b[0m \u001b[1;33m**\u001b[0m\u001b[0mkwargs\u001b[0m\u001b[1;33m)\u001b[0m\u001b[1;33m\u001b[0m\u001b[0m\n\u001b[0m\u001b[0;32m     73\u001b[0m \u001b[1;33m\u001b[0m\u001b[0m\n\u001b[0;32m     74\u001b[0m \u001b[1;33m\u001b[0m\u001b[0m\n",
      "\u001b[1;32m~\\Anaconda\\Anaconda3\\lib\\site-packages\\requests\\api.py\u001b[0m in \u001b[0;36mrequest\u001b[1;34m(method, url, **kwargs)\u001b[0m\n\u001b[0;32m     56\u001b[0m     \u001b[1;31m# cases, and look like a memory leak in others.\u001b[0m\u001b[1;33m\u001b[0m\u001b[1;33m\u001b[0m\u001b[0m\n\u001b[0;32m     57\u001b[0m     \u001b[1;32mwith\u001b[0m \u001b[0msessions\u001b[0m\u001b[1;33m.\u001b[0m\u001b[0mSession\u001b[0m\u001b[1;33m(\u001b[0m\u001b[1;33m)\u001b[0m \u001b[1;32mas\u001b[0m \u001b[0msession\u001b[0m\u001b[1;33m:\u001b[0m\u001b[1;33m\u001b[0m\u001b[0m\n\u001b[1;32m---> 58\u001b[1;33m         \u001b[1;32mreturn\u001b[0m \u001b[0msession\u001b[0m\u001b[1;33m.\u001b[0m\u001b[0mrequest\u001b[0m\u001b[1;33m(\u001b[0m\u001b[0mmethod\u001b[0m\u001b[1;33m=\u001b[0m\u001b[0mmethod\u001b[0m\u001b[1;33m,\u001b[0m \u001b[0murl\u001b[0m\u001b[1;33m=\u001b[0m\u001b[0murl\u001b[0m\u001b[1;33m,\u001b[0m \u001b[1;33m**\u001b[0m\u001b[0mkwargs\u001b[0m\u001b[1;33m)\u001b[0m\u001b[1;33m\u001b[0m\u001b[0m\n\u001b[0m\u001b[0;32m     59\u001b[0m \u001b[1;33m\u001b[0m\u001b[0m\n\u001b[0;32m     60\u001b[0m \u001b[1;33m\u001b[0m\u001b[0m\n",
      "\u001b[1;32m~\\Anaconda\\Anaconda3\\lib\\site-packages\\requests\\sessions.py\u001b[0m in \u001b[0;36mrequest\u001b[1;34m(self, method, url, params, data, headers, cookies, files, auth, timeout, allow_redirects, proxies, hooks, stream, verify, cert, json)\u001b[0m\n\u001b[0;32m    506\u001b[0m         }\n\u001b[0;32m    507\u001b[0m         \u001b[0msend_kwargs\u001b[0m\u001b[1;33m.\u001b[0m\u001b[0mupdate\u001b[0m\u001b[1;33m(\u001b[0m\u001b[0msettings\u001b[0m\u001b[1;33m)\u001b[0m\u001b[1;33m\u001b[0m\u001b[0m\n\u001b[1;32m--> 508\u001b[1;33m         \u001b[0mresp\u001b[0m \u001b[1;33m=\u001b[0m \u001b[0mself\u001b[0m\u001b[1;33m.\u001b[0m\u001b[0msend\u001b[0m\u001b[1;33m(\u001b[0m\u001b[0mprep\u001b[0m\u001b[1;33m,\u001b[0m \u001b[1;33m**\u001b[0m\u001b[0msend_kwargs\u001b[0m\u001b[1;33m)\u001b[0m\u001b[1;33m\u001b[0m\u001b[0m\n\u001b[0m\u001b[0;32m    509\u001b[0m \u001b[1;33m\u001b[0m\u001b[0m\n\u001b[0;32m    510\u001b[0m         \u001b[1;32mreturn\u001b[0m \u001b[0mresp\u001b[0m\u001b[1;33m\u001b[0m\u001b[0m\n",
      "\u001b[1;32m~\\Anaconda\\Anaconda3\\lib\\site-packages\\requests\\sessions.py\u001b[0m in \u001b[0;36msend\u001b[1;34m(self, request, **kwargs)\u001b[0m\n\u001b[0;32m    638\u001b[0m \u001b[1;33m\u001b[0m\u001b[0m\n\u001b[0;32m    639\u001b[0m         \u001b[1;31m# Resolve redirects if allowed.\u001b[0m\u001b[1;33m\u001b[0m\u001b[1;33m\u001b[0m\u001b[0m\n\u001b[1;32m--> 640\u001b[1;33m         \u001b[0mhistory\u001b[0m \u001b[1;33m=\u001b[0m \u001b[1;33m[\u001b[0m\u001b[0mresp\u001b[0m \u001b[1;32mfor\u001b[0m \u001b[0mresp\u001b[0m \u001b[1;32min\u001b[0m \u001b[0mgen\u001b[0m\u001b[1;33m]\u001b[0m \u001b[1;32mif\u001b[0m \u001b[0mallow_redirects\u001b[0m \u001b[1;32melse\u001b[0m \u001b[1;33m[\u001b[0m\u001b[1;33m]\u001b[0m\u001b[1;33m\u001b[0m\u001b[0m\n\u001b[0m\u001b[0;32m    641\u001b[0m \u001b[1;33m\u001b[0m\u001b[0m\n\u001b[0;32m    642\u001b[0m         \u001b[1;31m# Shuffle things around if there's history.\u001b[0m\u001b[1;33m\u001b[0m\u001b[1;33m\u001b[0m\u001b[0m\n",
      "\u001b[1;32m~\\Anaconda\\Anaconda3\\lib\\site-packages\\requests\\sessions.py\u001b[0m in \u001b[0;36m<listcomp>\u001b[1;34m(.0)\u001b[0m\n\u001b[0;32m    638\u001b[0m \u001b[1;33m\u001b[0m\u001b[0m\n\u001b[0;32m    639\u001b[0m         \u001b[1;31m# Resolve redirects if allowed.\u001b[0m\u001b[1;33m\u001b[0m\u001b[1;33m\u001b[0m\u001b[0m\n\u001b[1;32m--> 640\u001b[1;33m         \u001b[0mhistory\u001b[0m \u001b[1;33m=\u001b[0m \u001b[1;33m[\u001b[0m\u001b[0mresp\u001b[0m \u001b[1;32mfor\u001b[0m \u001b[0mresp\u001b[0m \u001b[1;32min\u001b[0m \u001b[0mgen\u001b[0m\u001b[1;33m]\u001b[0m \u001b[1;32mif\u001b[0m \u001b[0mallow_redirects\u001b[0m \u001b[1;32melse\u001b[0m \u001b[1;33m[\u001b[0m\u001b[1;33m]\u001b[0m\u001b[1;33m\u001b[0m\u001b[0m\n\u001b[0m\u001b[0;32m    641\u001b[0m \u001b[1;33m\u001b[0m\u001b[0m\n\u001b[0;32m    642\u001b[0m         \u001b[1;31m# Shuffle things around if there's history.\u001b[0m\u001b[1;33m\u001b[0m\u001b[1;33m\u001b[0m\u001b[0m\n",
      "\u001b[1;32m~\\Anaconda\\Anaconda3\\lib\\site-packages\\requests\\sessions.py\u001b[0m in \u001b[0;36mresolve_redirects\u001b[1;34m(self, resp, req, stream, timeout, verify, cert, proxies, yield_requests, **adapter_kwargs)\u001b[0m\n\u001b[0;32m    216\u001b[0m                     \u001b[0mproxies\u001b[0m\u001b[1;33m=\u001b[0m\u001b[0mproxies\u001b[0m\u001b[1;33m,\u001b[0m\u001b[1;33m\u001b[0m\u001b[0m\n\u001b[0;32m    217\u001b[0m                     \u001b[0mallow_redirects\u001b[0m\u001b[1;33m=\u001b[0m\u001b[1;32mFalse\u001b[0m\u001b[1;33m,\u001b[0m\u001b[1;33m\u001b[0m\u001b[0m\n\u001b[1;32m--> 218\u001b[1;33m                     \u001b[1;33m**\u001b[0m\u001b[0madapter_kwargs\u001b[0m\u001b[1;33m\u001b[0m\u001b[0m\n\u001b[0m\u001b[0;32m    219\u001b[0m                 )\n\u001b[0;32m    220\u001b[0m \u001b[1;33m\u001b[0m\u001b[0m\n",
      "\u001b[1;32m~\\Anaconda\\Anaconda3\\lib\\site-packages\\requests\\sessions.py\u001b[0m in \u001b[0;36msend\u001b[1;34m(self, request, **kwargs)\u001b[0m\n\u001b[0;32m    616\u001b[0m \u001b[1;33m\u001b[0m\u001b[0m\n\u001b[0;32m    617\u001b[0m         \u001b[1;31m# Send the request\u001b[0m\u001b[1;33m\u001b[0m\u001b[1;33m\u001b[0m\u001b[0m\n\u001b[1;32m--> 618\u001b[1;33m         \u001b[0mr\u001b[0m \u001b[1;33m=\u001b[0m \u001b[0madapter\u001b[0m\u001b[1;33m.\u001b[0m\u001b[0msend\u001b[0m\u001b[1;33m(\u001b[0m\u001b[0mrequest\u001b[0m\u001b[1;33m,\u001b[0m \u001b[1;33m**\u001b[0m\u001b[0mkwargs\u001b[0m\u001b[1;33m)\u001b[0m\u001b[1;33m\u001b[0m\u001b[0m\n\u001b[0m\u001b[0;32m    619\u001b[0m \u001b[1;33m\u001b[0m\u001b[0m\n\u001b[0;32m    620\u001b[0m         \u001b[1;31m# Total elapsed time of the request (approximately)\u001b[0m\u001b[1;33m\u001b[0m\u001b[1;33m\u001b[0m\u001b[0m\n",
      "\u001b[1;32m~\\Anaconda\\Anaconda3\\lib\\site-packages\\requests\\adapters.py\u001b[0m in \u001b[0;36msend\u001b[1;34m(self, request, stream, timeout, verify, cert, proxies)\u001b[0m\n\u001b[0;32m    438\u001b[0m                     \u001b[0mdecode_content\u001b[0m\u001b[1;33m=\u001b[0m\u001b[1;32mFalse\u001b[0m\u001b[1;33m,\u001b[0m\u001b[1;33m\u001b[0m\u001b[0m\n\u001b[0;32m    439\u001b[0m                     \u001b[0mretries\u001b[0m\u001b[1;33m=\u001b[0m\u001b[0mself\u001b[0m\u001b[1;33m.\u001b[0m\u001b[0mmax_retries\u001b[0m\u001b[1;33m,\u001b[0m\u001b[1;33m\u001b[0m\u001b[0m\n\u001b[1;32m--> 440\u001b[1;33m                     \u001b[0mtimeout\u001b[0m\u001b[1;33m=\u001b[0m\u001b[0mtimeout\u001b[0m\u001b[1;33m\u001b[0m\u001b[0m\n\u001b[0m\u001b[0;32m    441\u001b[0m                 )\n\u001b[0;32m    442\u001b[0m \u001b[1;33m\u001b[0m\u001b[0m\n",
      "\u001b[1;32m~\\Anaconda\\Anaconda3\\lib\\site-packages\\urllib3\\connectionpool.py\u001b[0m in \u001b[0;36murlopen\u001b[1;34m(self, method, url, body, headers, retries, redirect, assert_same_host, timeout, pool_timeout, release_conn, chunked, body_pos, **response_kw)\u001b[0m\n\u001b[0;32m    599\u001b[0m                                                   \u001b[0mtimeout\u001b[0m\u001b[1;33m=\u001b[0m\u001b[0mtimeout_obj\u001b[0m\u001b[1;33m,\u001b[0m\u001b[1;33m\u001b[0m\u001b[0m\n\u001b[0;32m    600\u001b[0m                                                   \u001b[0mbody\u001b[0m\u001b[1;33m=\u001b[0m\u001b[0mbody\u001b[0m\u001b[1;33m,\u001b[0m \u001b[0mheaders\u001b[0m\u001b[1;33m=\u001b[0m\u001b[0mheaders\u001b[0m\u001b[1;33m,\u001b[0m\u001b[1;33m\u001b[0m\u001b[0m\n\u001b[1;32m--> 601\u001b[1;33m                                                   chunked=chunked)\n\u001b[0m\u001b[0;32m    602\u001b[0m \u001b[1;33m\u001b[0m\u001b[0m\n\u001b[0;32m    603\u001b[0m             \u001b[1;31m# If we're going to release the connection in ``finally:``, then\u001b[0m\u001b[1;33m\u001b[0m\u001b[1;33m\u001b[0m\u001b[0m\n",
      "\u001b[1;32m~\\Anaconda\\Anaconda3\\lib\\site-packages\\urllib3\\connectionpool.py\u001b[0m in \u001b[0;36m_make_request\u001b[1;34m(self, conn, method, url, timeout, chunked, **httplib_request_kw)\u001b[0m\n\u001b[0;32m    344\u001b[0m         \u001b[1;31m# Trigger any extra validation we need to do.\u001b[0m\u001b[1;33m\u001b[0m\u001b[1;33m\u001b[0m\u001b[0m\n\u001b[0;32m    345\u001b[0m         \u001b[1;32mtry\u001b[0m\u001b[1;33m:\u001b[0m\u001b[1;33m\u001b[0m\u001b[0m\n\u001b[1;32m--> 346\u001b[1;33m             \u001b[0mself\u001b[0m\u001b[1;33m.\u001b[0m\u001b[0m_validate_conn\u001b[0m\u001b[1;33m(\u001b[0m\u001b[0mconn\u001b[0m\u001b[1;33m)\u001b[0m\u001b[1;33m\u001b[0m\u001b[0m\n\u001b[0m\u001b[0;32m    347\u001b[0m         \u001b[1;32mexcept\u001b[0m \u001b[1;33m(\u001b[0m\u001b[0mSocketTimeout\u001b[0m\u001b[1;33m,\u001b[0m \u001b[0mBaseSSLError\u001b[0m\u001b[1;33m)\u001b[0m \u001b[1;32mas\u001b[0m \u001b[0me\u001b[0m\u001b[1;33m:\u001b[0m\u001b[1;33m\u001b[0m\u001b[0m\n\u001b[0;32m    348\u001b[0m             \u001b[1;31m# Py2 raises this as a BaseSSLError, Py3 raises it as socket timeout.\u001b[0m\u001b[1;33m\u001b[0m\u001b[1;33m\u001b[0m\u001b[0m\n",
      "\u001b[1;32m~\\Anaconda\\Anaconda3\\lib\\site-packages\\urllib3\\connectionpool.py\u001b[0m in \u001b[0;36m_validate_conn\u001b[1;34m(self, conn)\u001b[0m\n\u001b[0;32m    848\u001b[0m         \u001b[1;31m# Force connect early to allow us to validate the connection.\u001b[0m\u001b[1;33m\u001b[0m\u001b[1;33m\u001b[0m\u001b[0m\n\u001b[0;32m    849\u001b[0m         \u001b[1;32mif\u001b[0m \u001b[1;32mnot\u001b[0m \u001b[0mgetattr\u001b[0m\u001b[1;33m(\u001b[0m\u001b[0mconn\u001b[0m\u001b[1;33m,\u001b[0m \u001b[1;34m'sock'\u001b[0m\u001b[1;33m,\u001b[0m \u001b[1;32mNone\u001b[0m\u001b[1;33m)\u001b[0m\u001b[1;33m:\u001b[0m  \u001b[1;31m# AppEngine might not have  `.sock`\u001b[0m\u001b[1;33m\u001b[0m\u001b[0m\n\u001b[1;32m--> 850\u001b[1;33m             \u001b[0mconn\u001b[0m\u001b[1;33m.\u001b[0m\u001b[0mconnect\u001b[0m\u001b[1;33m(\u001b[0m\u001b[1;33m)\u001b[0m\u001b[1;33m\u001b[0m\u001b[0m\n\u001b[0m\u001b[0;32m    851\u001b[0m \u001b[1;33m\u001b[0m\u001b[0m\n\u001b[0;32m    852\u001b[0m         \u001b[1;32mif\u001b[0m \u001b[1;32mnot\u001b[0m \u001b[0mconn\u001b[0m\u001b[1;33m.\u001b[0m\u001b[0mis_verified\u001b[0m\u001b[1;33m:\u001b[0m\u001b[1;33m\u001b[0m\u001b[0m\n",
      "\u001b[1;32m~\\Anaconda\\Anaconda3\\lib\\site-packages\\urllib3\\connection.py\u001b[0m in \u001b[0;36mconnect\u001b[1;34m(self)\u001b[0m\n\u001b[0;32m    282\u001b[0m     \u001b[1;32mdef\u001b[0m \u001b[0mconnect\u001b[0m\u001b[1;33m(\u001b[0m\u001b[0mself\u001b[0m\u001b[1;33m)\u001b[0m\u001b[1;33m:\u001b[0m\u001b[1;33m\u001b[0m\u001b[0m\n\u001b[0;32m    283\u001b[0m         \u001b[1;31m# Add certificate verification\u001b[0m\u001b[1;33m\u001b[0m\u001b[1;33m\u001b[0m\u001b[0m\n\u001b[1;32m--> 284\u001b[1;33m         \u001b[0mconn\u001b[0m \u001b[1;33m=\u001b[0m \u001b[0mself\u001b[0m\u001b[1;33m.\u001b[0m\u001b[0m_new_conn\u001b[0m\u001b[1;33m(\u001b[0m\u001b[1;33m)\u001b[0m\u001b[1;33m\u001b[0m\u001b[0m\n\u001b[0m\u001b[0;32m    285\u001b[0m \u001b[1;33m\u001b[0m\u001b[0m\n\u001b[0;32m    286\u001b[0m         \u001b[0mhostname\u001b[0m \u001b[1;33m=\u001b[0m \u001b[0mself\u001b[0m\u001b[1;33m.\u001b[0m\u001b[0mhost\u001b[0m\u001b[1;33m\u001b[0m\u001b[0m\n",
      "\u001b[1;32m~\\Anaconda\\Anaconda3\\lib\\site-packages\\urllib3\\connection.py\u001b[0m in \u001b[0;36m_new_conn\u001b[1;34m(self)\u001b[0m\n\u001b[0;32m    139\u001b[0m         \u001b[1;32mtry\u001b[0m\u001b[1;33m:\u001b[0m\u001b[1;33m\u001b[0m\u001b[0m\n\u001b[0;32m    140\u001b[0m             conn = connection.create_connection(\n\u001b[1;32m--> 141\u001b[1;33m                 (self.host, self.port), self.timeout, **extra_kw)\n\u001b[0m\u001b[0;32m    142\u001b[0m \u001b[1;33m\u001b[0m\u001b[0m\n\u001b[0;32m    143\u001b[0m         \u001b[1;32mexcept\u001b[0m \u001b[0mSocketTimeout\u001b[0m \u001b[1;32mas\u001b[0m \u001b[0me\u001b[0m\u001b[1;33m:\u001b[0m\u001b[1;33m\u001b[0m\u001b[0m\n",
      "\u001b[1;32m~\\Anaconda\\Anaconda3\\lib\\site-packages\\urllib3\\util\\connection.py\u001b[0m in \u001b[0;36mcreate_connection\u001b[1;34m(address, timeout, source_address, socket_options)\u001b[0m\n\u001b[0;32m     71\u001b[0m             \u001b[1;32mif\u001b[0m \u001b[0msource_address\u001b[0m\u001b[1;33m:\u001b[0m\u001b[1;33m\u001b[0m\u001b[0m\n\u001b[0;32m     72\u001b[0m                 \u001b[0msock\u001b[0m\u001b[1;33m.\u001b[0m\u001b[0mbind\u001b[0m\u001b[1;33m(\u001b[0m\u001b[0msource_address\u001b[0m\u001b[1;33m)\u001b[0m\u001b[1;33m\u001b[0m\u001b[0m\n\u001b[1;32m---> 73\u001b[1;33m             \u001b[0msock\u001b[0m\u001b[1;33m.\u001b[0m\u001b[0mconnect\u001b[0m\u001b[1;33m(\u001b[0m\u001b[0msa\u001b[0m\u001b[1;33m)\u001b[0m\u001b[1;33m\u001b[0m\u001b[0m\n\u001b[0m\u001b[0;32m     74\u001b[0m             \u001b[1;32mreturn\u001b[0m \u001b[0msock\u001b[0m\u001b[1;33m\u001b[0m\u001b[0m\n\u001b[0;32m     75\u001b[0m \u001b[1;33m\u001b[0m\u001b[0m\n",
      "\u001b[1;31mKeyboardInterrupt\u001b[0m: "
     ]
    }
   ],
   "source": [
    "def book_info(td):\n",
    "    title = td.find(\"div\",\"thumbheader\").a.text\n",
    "    by_auth = td.find(\"div\",\"AuthorName\").text\n",
    "    authors = [x.strip() for x in re.sub(\"By\",\",by_author\").split(\",\")]\n",
    "    isbn_link = td.find(\"div\",\"thumbheader\").a.get(\"href\")\n",
    "    isbn = re.match(\"/product/(.*)\\.do\",isbn_link).groups()[0]\n",
    "    date = td.find(\"span\",\"directorydate\").text.strip()\n",
    "    \n",
    "    return {\n",
    "        \"title\":title,\n",
    "        \"authors\":authors,\n",
    "        \"isbn\":isbn,\n",
    "        \"date\":date\n",
    "        \n",
    "    }\n",
    "from bs4 import BeautifulSoup\n",
    "import requests\n",
    "from time import sleep\n",
    "base_url = \"http://oreilly.com/category/brows-subjects/data.do?sortby=publicationDate&page=\"\n",
    "books = []\n",
    "Num_page = 50\n",
    "for page_num in range(1,Num_page+1):\n",
    "    print(\"souping page\",page_num,\",\",len(books))\n",
    "    url = base_url + str(page_num)\n",
    "    soup = BeautifulSoup(requests.get(url).text,\"html5lib\")\n",
    "    \n",
    "    for td in soup(\"td\",\"thumbtext\"):\n",
    "        if not is_video(td):\n",
    "            books.append(book_info(td))\n",
    "sleep(30)   "
   ]
  },
  {
   "cell_type": "code",
   "execution_count": 16,
   "metadata": {},
   "outputs": [
    {
     "name": "stdout",
     "output_type": "stream",
     "text": [
      "{'title': 'Data sciencd', 'authors': 'Joel', 'date': 2014, 'topics': ['data science', 'datascience']}\n"
     ]
    }
   ],
   "source": [
    "import json\n",
    "serialized = \"\"\"{\n",
    "        \"title\":\"Data sciencd\",\n",
    "        \"authors\":\"Joel\",\n",
    "        \"date\":2014,\n",
    "        \"topics\":[\"data science\",\"datascience\"]\n",
    "        \n",
    "    }\"\"\"\n",
    "\n",
    "deserialized = json.loads(serialized)\n",
    "if \"data science\" in deserialized[\"topics\"]:\n",
    "    print(deserialized)"
   ]
  },
  {
   "cell_type": "code",
   "execution_count": 26,
   "metadata": {
    "scrolled": true
   },
   "outputs": [
    {
     "name": "stdout",
     "output_type": "stream",
     "text": [
      "[{'id': 122641019, 'node_id': 'MDEwOlJlcG9zaXRvcnkxMjI2NDEwMTk=', 'name': 'ai2', 'full_name': 'joelgrus/ai2', 'owner': {'login': 'joelgrus', 'id': 1308313, 'node_id': 'MDQ6VXNlcjEzMDgzMTM=', 'avatar_url': 'https://avatars1.githubusercontent.com/u/1308313?v=4', 'gravatar_id': '', 'url': 'https://api.github.com/users/joelgrus', 'html_url': 'https://github.com/joelgrus', 'followers_url': 'https://api.github.com/users/joelgrus/followers', 'following_url': 'https://api.github.com/users/joelgrus/following{/other_user}', 'gists_url': 'https://api.github.com/users/joelgrus/gists{/gist_id}', 'starred_url': 'https://api.github.com/users/joelgrus/starred{/owner}{/repo}', 'subscriptions_url': 'https://api.github.com/users/joelgrus/subscriptions', 'organizations_url': 'https://api.github.com/users/joelgrus/orgs', 'repos_url': 'https://api.github.com/users/joelgrus/repos', 'events_url': 'https://api.github.com/users/joelgrus/events{/privacy}', 'received_events_url': 'https://api.github.com/users/joelgrus/received_events', 'type': 'User', 'site_admin': False}, 'private': False, 'html_url': 'https://github.com/joelgrus/ai2', 'description': None, 'fork': True, 'url': 'https://api.github.com/repos/joelgrus/ai2', 'forks_url': 'https://api.github.com/repos/joelgrus/ai2/forks', 'keys_url': 'https://api.github.com/repos/joelgrus/ai2/keys{/key_id}', 'collaborators_url': 'https://api.github.com/repos/joelgrus/ai2/collaborators{/collaborator}', 'teams_url': 'https://api.github.com/repos/joelgrus/ai2/teams', 'hooks_url': 'https://api.github.com/repos/joelgrus/ai2/hooks', 'issue_events_url': 'https://api.github.com/repos/joelgrus/ai2/issues/events{/number}', 'events_url': 'https://api.github.com/repos/joelgrus/ai2/events', 'assignees_url': 'https://api.github.com/repos/joelgrus/ai2/assignees{/user}', 'branches_url': 'https://api.github.com/repos/joelgrus/ai2/branches{/branch}', 'tags_url': 'https://api.github.com/repos/joelgrus/ai2/tags', 'blobs_url': 'https://api.github.com/repos/joelgrus/ai2/git/blobs{/sha}', 'git_tags_url': 'https://api.github.com/repos/joelgrus/ai2/git/tags{/sha}', 'git_refs_url': 'https://api.github.com/repos/joelgrus/ai2/git/refs{/sha}', 'trees_url': 'https://api.github.com/repos/joelgrus/ai2/git/trees{/sha}', 'statuses_url': 'https://api.github.com/repos/joelgrus/ai2/statuses/{sha}', 'languages_url': 'https://api.github.com/repos/joelgrus/ai2/languages', 'stargazers_url': 'https://api.github.com/repos/joelgrus/ai2/stargazers', 'contributors_url': 'https://api.github.com/repos/joelgrus/ai2/contributors', 'subscribers_url': 'https://api.github.com/repos/joelgrus/ai2/subscribers', 'subscription_url': 'https://api.github.com/repos/joelgrus/ai2/subscription', 'commits_url': 'https://api.github.com/repos/joelgrus/ai2/commits{/sha}', 'git_commits_url': 'https://api.github.com/repos/joelgrus/ai2/git/commits{/sha}', 'comments_url': 'https://api.github.com/repos/joelgrus/ai2/comments{/number}', 'issue_comment_url': 'https://api.github.com/repos/joelgrus/ai2/issues/comments{/number}', 'contents_url': 'https://api.github.com/repos/joelgrus/ai2/contents/{+path}', 'compare_url': 'https://api.github.com/repos/joelgrus/ai2/compare/{base}...{head}', 'merges_url': 'https://api.github.com/repos/joelgrus/ai2/merges', 'archive_url': 'https://api.github.com/repos/joelgrus/ai2/{archive_format}{/ref}', 'downloads_url': 'https://api.github.com/repos/joelgrus/ai2/downloads', 'issues_url': 'https://api.github.com/repos/joelgrus/ai2/issues{/number}', 'pulls_url': 'https://api.github.com/repos/joelgrus/ai2/pulls{/number}', 'milestones_url': 'https://api.github.com/repos/joelgrus/ai2/milestones{/number}', 'notifications_url': 'https://api.github.com/repos/joelgrus/ai2/notifications{?since,all,participating}', 'labels_url': 'https://api.github.com/repos/joelgrus/ai2/labels{/name}', 'releases_url': 'https://api.github.com/repos/joelgrus/ai2/releases{/id}', 'deployments_url': 'https://api.github.com/repos/joelgrus/ai2/deployments', 'created_at': '2018-02-23T15:51:04Z', 'updated_at': '2018-02-23T15:51:05Z', 'pushed_at': '2018-02-16T06:12:08Z', 'git_url': 'git://github.com/joelgrus/ai2.git', 'ssh_url': 'git@github.com:joelgrus/ai2.git', 'clone_url': 'https://github.com/joelgrus/ai2.git', 'svn_url': 'https://github.com/joelgrus/ai2', 'homepage': None, 'size': 43, 'stargazers_count': 0, 'watchers_count': 0, 'language': 'HTML', 'has_issues': False, 'has_projects': True, 'has_downloads': True, 'has_wiki': True, 'has_pages': False, 'forks_count': 0, 'mirror_url': None, 'archived': False, 'open_issues_count': 0, 'license': None, 'forks': 0, 'open_issues': 0, 'watchers': 0, 'default_branch': 'master'}, {'id': 119758315, 'node_id': 'MDEwOlJlcG9zaXRvcnkxMTk3NTgzMTU=', 'name': 'allennlp-as-a-library-example', 'full_name': 'joelgrus/allennlp-as-a-library-example', 'owner': {'login': 'joelgrus', 'id': 1308313, 'node_id': 'MDQ6VXNlcjEzMDgzMTM=', 'avatar_url': 'https://avatars1.githubusercontent.com/u/1308313?v=4', 'gravatar_id': '', 'url': 'https://api.github.com/users/joelgrus', 'html_url': 'https://github.com/joelgrus', 'followers_url': 'https://api.github.com/users/joelgrus/followers', 'following_url': 'https://api.github.com/users/joelgrus/following{/other_user}', 'gists_url': 'https://api.github.com/users/joelgrus/gists{/gist_id}', 'starred_url': 'https://api.github.com/users/joelgrus/starred{/owner}{/repo}', 'subscriptions_url': 'https://api.github.com/users/joelgrus/subscriptions', 'organizations_url': 'https://api.github.com/users/joelgrus/orgs', 'repos_url': 'https://api.github.com/users/joelgrus/repos', 'events_url': 'https://api.github.com/users/joelgrus/events{/privacy}', 'received_events_url': 'https://api.github.com/users/joelgrus/received_events', 'type': 'User', 'site_admin': False}, 'private': False, 'html_url': 'https://github.com/joelgrus/allennlp-as-a-library-example', 'description': None, 'fork': True, 'url': 'https://api.github.com/repos/joelgrus/allennlp-as-a-library-example', 'forks_url': 'https://api.github.com/repos/joelgrus/allennlp-as-a-library-example/forks', 'keys_url': 'https://api.github.com/repos/joelgrus/allennlp-as-a-library-example/keys{/key_id}', 'collaborators_url': 'https://api.github.com/repos/joelgrus/allennlp-as-a-library-example/collaborators{/collaborator}', 'teams_url': 'https://api.github.com/repos/joelgrus/allennlp-as-a-library-example/teams', 'hooks_url': 'https://api.github.com/repos/joelgrus/allennlp-as-a-library-example/hooks', 'issue_events_url': 'https://api.github.com/repos/joelgrus/allennlp-as-a-library-example/issues/events{/number}', 'events_url': 'https://api.github.com/repos/joelgrus/allennlp-as-a-library-example/events', 'assignees_url': 'https://api.github.com/repos/joelgrus/allennlp-as-a-library-example/assignees{/user}', 'branches_url': 'https://api.github.com/repos/joelgrus/allennlp-as-a-library-example/branches{/branch}', 'tags_url': 'https://api.github.com/repos/joelgrus/allennlp-as-a-library-example/tags', 'blobs_url': 'https://api.github.com/repos/joelgrus/allennlp-as-a-library-example/git/blobs{/sha}', 'git_tags_url': 'https://api.github.com/repos/joelgrus/allennlp-as-a-library-example/git/tags{/sha}', 'git_refs_url': 'https://api.github.com/repos/joelgrus/allennlp-as-a-library-example/git/refs{/sha}', 'trees_url': 'https://api.github.com/repos/joelgrus/allennlp-as-a-library-example/git/trees{/sha}', 'statuses_url': 'https://api.github.com/repos/joelgrus/allennlp-as-a-library-example/statuses/{sha}', 'languages_url': 'https://api.github.com/repos/joelgrus/allennlp-as-a-library-example/languages', 'stargazers_url': 'https://api.github.com/repos/joelgrus/allennlp-as-a-library-example/stargazers', 'contributors_url': 'https://api.github.com/repos/joelgrus/allennlp-as-a-library-example/contributors', 'subscribers_url': 'https://api.github.com/repos/joelgrus/allennlp-as-a-library-example/subscribers', 'subscription_url': 'https://api.github.com/repos/joelgrus/allennlp-as-a-library-example/subscription', 'commits_url': 'https://api.github.com/repos/joelgrus/allennlp-as-a-library-example/commits{/sha}', 'git_commits_url': 'https://api.github.com/repos/joelgrus/allennlp-as-a-library-example/git/commits{/sha}', 'comments_url': 'https://api.github.com/repos/joelgrus/allennlp-as-a-library-example/comments{/number}', 'issue_comment_url': 'https://api.github.com/repos/joelgrus/allennlp-as-a-library-example/issues/comments{/number}', 'contents_url': 'https://api.github.com/repos/joelgrus/allennlp-as-a-library-example/contents/{+path}', 'compare_url': 'https://api.github.com/repos/joelgrus/allennlp-as-a-library-example/compare/{base}...{head}', 'merges_url': 'https://api.github.com/repos/joelgrus/allennlp-as-a-library-example/merges', 'archive_url': 'https://api.github.com/repos/joelgrus/allennlp-as-a-library-example/{archive_format}{/ref}', 'downloads_url': 'https://api.github.com/repos/joelgrus/allennlp-as-a-library-example/downloads', 'issues_url': 'https://api.github.com/repos/joelgrus/allennlp-as-a-library-example/issues{/number}', 'pulls_url': 'https://api.github.com/repos/joelgrus/allennlp-as-a-library-example/pulls{/number}', 'milestones_url': 'https://api.github.com/repos/joelgrus/allennlp-as-a-library-example/milestones{/number}', 'notifications_url': 'https://api.github.com/repos/joelgrus/allennlp-as-a-library-example/notifications{?since,all,participating}', 'labels_url': 'https://api.github.com/repos/joelgrus/allennlp-as-a-library-example/labels{/name}', 'releases_url': 'https://api.github.com/repos/joelgrus/allennlp-as-a-library-example/releases{/id}', 'deployments_url': 'https://api.github.com/repos/joelgrus/allennlp-as-a-library-example/deployments', 'created_at': '2018-01-31T23:51:16Z', 'updated_at': '2018-01-31T23:51:18Z', 'pushed_at': '2018-02-02T21:08:41Z', 'git_url': 'git://github.com/joelgrus/allennlp-as-a-library-example.git', 'ssh_url': 'git@github.com:joelgrus/allennlp-as-a-library-example.git', 'clone_url': 'https://github.com/joelgrus/allennlp-as-a-library-example.git', 'svn_url': 'https://github.com/joelgrus/allennlp-as-a-library-example', 'homepage': None, 'size': 46, 'stargazers_count': 0, 'watchers_count': 0, 'language': 'Python', 'has_issues': False, 'has_projects': True, 'has_downloads': True, 'has_wiki': True, 'has_pages': False, 'forks_count': 0, 'mirror_url': None, 'archived': False, 'open_issues_count': 0, 'license': None, 'forks': 0, 'open_issues': 0, 'watchers': 0, 'default_branch': 'master'}, {'id': 116072695, 'node_id': 'MDEwOlJlcG9zaXRvcnkxMTYwNzI2OTU=', 'name': 'kaggle-toxic-allennlp', 'full_name': 'joelgrus/kaggle-toxic-allennlp', 'owner': {'login': 'joelgrus', 'id': 1308313, 'node_id': 'MDQ6VXNlcjEzMDgzMTM=', 'avatar_url': 'https://avatars1.githubusercontent.com/u/1308313?v=4', 'gravatar_id': '', 'url': 'https://api.github.com/users/joelgrus', 'html_url': 'https://github.com/joelgrus', 'followers_url': 'https://api.github.com/users/joelgrus/followers', 'following_url': 'https://api.github.com/users/joelgrus/following{/other_user}', 'gists_url': 'https://api.github.com/users/joelgrus/gists{/gist_id}', 'starred_url': 'https://api.github.com/users/joelgrus/starred{/owner}{/repo}', 'subscriptions_url': 'https://api.github.com/users/joelgrus/subscriptions', 'organizations_url': 'https://api.github.com/users/joelgrus/orgs', 'repos_url': 'https://api.github.com/users/joelgrus/repos', 'events_url': 'https://api.github.com/users/joelgrus/events{/privacy}', 'received_events_url': 'https://api.github.com/users/joelgrus/received_events', 'type': 'User', 'site_admin': False}, 'private': False, 'html_url': 'https://github.com/joelgrus/kaggle-toxic-allennlp', 'description': 'AllenNLP model for the Kaggle toxic comments challenge', 'fork': False, 'url': 'https://api.github.com/repos/joelgrus/kaggle-toxic-allennlp', 'forks_url': 'https://api.github.com/repos/joelgrus/kaggle-toxic-allennlp/forks', 'keys_url': 'https://api.github.com/repos/joelgrus/kaggle-toxic-allennlp/keys{/key_id}', 'collaborators_url': 'https://api.github.com/repos/joelgrus/kaggle-toxic-allennlp/collaborators{/collaborator}', 'teams_url': 'https://api.github.com/repos/joelgrus/kaggle-toxic-allennlp/teams', 'hooks_url': 'https://api.github.com/repos/joelgrus/kaggle-toxic-allennlp/hooks', 'issue_events_url': 'https://api.github.com/repos/joelgrus/kaggle-toxic-allennlp/issues/events{/number}', 'events_url': 'https://api.github.com/repos/joelgrus/kaggle-toxic-allennlp/events', 'assignees_url': 'https://api.github.com/repos/joelgrus/kaggle-toxic-allennlp/assignees{/user}', 'branches_url': 'https://api.github.com/repos/joelgrus/kaggle-toxic-allennlp/branches{/branch}', 'tags_url': 'https://api.github.com/repos/joelgrus/kaggle-toxic-allennlp/tags', 'blobs_url': 'https://api.github.com/repos/joelgrus/kaggle-toxic-allennlp/git/blobs{/sha}', 'git_tags_url': 'https://api.github.com/repos/joelgrus/kaggle-toxic-allennlp/git/tags{/sha}', 'git_refs_url': 'https://api.github.com/repos/joelgrus/kaggle-toxic-allennlp/git/refs{/sha}', 'trees_url': 'https://api.github.com/repos/joelgrus/kaggle-toxic-allennlp/git/trees{/sha}', 'statuses_url': 'https://api.github.com/repos/joelgrus/kaggle-toxic-allennlp/statuses/{sha}', 'languages_url': 'https://api.github.com/repos/joelgrus/kaggle-toxic-allennlp/languages', 'stargazers_url': 'https://api.github.com/repos/joelgrus/kaggle-toxic-allennlp/stargazers', 'contributors_url': 'https://api.github.com/repos/joelgrus/kaggle-toxic-allennlp/contributors', 'subscribers_url': 'https://api.github.com/repos/joelgrus/kaggle-toxic-allennlp/subscribers', 'subscription_url': 'https://api.github.com/repos/joelgrus/kaggle-toxic-allennlp/subscription', 'commits_url': 'https://api.github.com/repos/joelgrus/kaggle-toxic-allennlp/commits{/sha}', 'git_commits_url': 'https://api.github.com/repos/joelgrus/kaggle-toxic-allennlp/git/commits{/sha}', 'comments_url': 'https://api.github.com/repos/joelgrus/kaggle-toxic-allennlp/comments{/number}', 'issue_comment_url': 'https://api.github.com/repos/joelgrus/kaggle-toxic-allennlp/issues/comments{/number}', 'contents_url': 'https://api.github.com/repos/joelgrus/kaggle-toxic-allennlp/contents/{+path}', 'compare_url': 'https://api.github.com/repos/joelgrus/kaggle-toxic-allennlp/compare/{base}...{head}', 'merges_url': 'https://api.github.com/repos/joelgrus/kaggle-toxic-allennlp/merges', 'archive_url': 'https://api.github.com/repos/joelgrus/kaggle-toxic-allennlp/{archive_format}{/ref}', 'downloads_url': 'https://api.github.com/repos/joelgrus/kaggle-toxic-allennlp/downloads', 'issues_url': 'https://api.github.com/repos/joelgrus/kaggle-toxic-allennlp/issues{/number}', 'pulls_url': 'https://api.github.com/repos/joelgrus/kaggle-toxic-allennlp/pulls{/number}', 'milestones_url': 'https://api.github.com/repos/joelgrus/kaggle-toxic-allennlp/milestones{/number}', 'notifications_url': 'https://api.github.com/repos/joelgrus/kaggle-toxic-allennlp/notifications{?since,all,participating}', 'labels_url': 'https://api.github.com/repos/joelgrus/kaggle-toxic-allennlp/labels{/name}', 'releases_url': 'https://api.github.com/repos/joelgrus/kaggle-toxic-allennlp/releases{/id}', 'deployments_url': 'https://api.github.com/repos/joelgrus/kaggle-toxic-allennlp/deployments', 'created_at': '2018-01-03T00:44:38Z', 'updated_at': '2018-07-13T17:02:07Z', 'pushed_at': '2018-07-13T17:02:05Z', 'git_url': 'git://github.com/joelgrus/kaggle-toxic-allennlp.git', 'ssh_url': 'git@github.com:joelgrus/kaggle-toxic-allennlp.git', 'clone_url': 'https://github.com/joelgrus/kaggle-toxic-allennlp.git', 'svn_url': 'https://github.com/joelgrus/kaggle-toxic-allennlp', 'homepage': None, 'size': 10, 'stargazers_count': 18, 'watchers_count': 18, 'language': 'Python', 'has_issues': True, 'has_projects': True, 'has_downloads': True, 'has_wiki': True, 'has_pages': False, 'forks_count': 1, 'mirror_url': None, 'archived': False, 'open_issues_count': 1, 'license': None, 'forks': 1, 'open_issues': 1, 'watchers': 18, 'default_branch': 'master'}, {'id': 114700287, 'node_id': 'MDEwOlJlcG9zaXRvcnkxMTQ3MDAyODc=', 'name': 'allennlp', 'full_name': 'joelgrus/allennlp', 'owner': {'login': 'joelgrus', 'id': 1308313, 'node_id': 'MDQ6VXNlcjEzMDgzMTM=', 'avatar_url': 'https://avatars1.githubusercontent.com/u/1308313?v=4', 'gravatar_id': '', 'url': 'https://api.github.com/users/joelgrus', 'html_url': 'https://github.com/joelgrus', 'followers_url': 'https://api.github.com/users/joelgrus/followers', 'following_url': 'https://api.github.com/users/joelgrus/following{/other_user}', 'gists_url': 'https://api.github.com/users/joelgrus/gists{/gist_id}', 'starred_url': 'https://api.github.com/users/joelgrus/starred{/owner}{/repo}', 'subscriptions_url': 'https://api.github.com/users/joelgrus/subscriptions', 'organizations_url': 'https://api.github.com/users/joelgrus/orgs', 'repos_url': 'https://api.github.com/users/joelgrus/repos', 'events_url': 'https://api.github.com/users/joelgrus/events{/privacy}', 'received_events_url': 'https://api.github.com/users/joelgrus/received_events', 'type': 'User', 'site_admin': False}, 'private': False, 'html_url': 'https://github.com/joelgrus/allennlp', 'description': 'An open-source NLP research library, built on PyTorch.', 'fork': True, 'url': 'https://api.github.com/repos/joelgrus/allennlp', 'forks_url': 'https://api.github.com/repos/joelgrus/allennlp/forks', 'keys_url': 'https://api.github.com/repos/joelgrus/allennlp/keys{/key_id}', 'collaborators_url': 'https://api.github.com/repos/joelgrus/allennlp/collaborators{/collaborator}', 'teams_url': 'https://api.github.com/repos/joelgrus/allennlp/teams', 'hooks_url': 'https://api.github.com/repos/joelgrus/allennlp/hooks', 'issue_events_url': 'https://api.github.com/repos/joelgrus/allennlp/issues/events{/number}', 'events_url': 'https://api.github.com/repos/joelgrus/allennlp/events', 'assignees_url': 'https://api.github.com/repos/joelgrus/allennlp/assignees{/user}', 'branches_url': 'https://api.github.com/repos/joelgrus/allennlp/branches{/branch}', 'tags_url': 'https://api.github.com/repos/joelgrus/allennlp/tags', 'blobs_url': 'https://api.github.com/repos/joelgrus/allennlp/git/blobs{/sha}', 'git_tags_url': 'https://api.github.com/repos/joelgrus/allennlp/git/tags{/sha}', 'git_refs_url': 'https://api.github.com/repos/joelgrus/allennlp/git/refs{/sha}', 'trees_url': 'https://api.github.com/repos/joelgrus/allennlp/git/trees{/sha}', 'statuses_url': 'https://api.github.com/repos/joelgrus/allennlp/statuses/{sha}', 'languages_url': 'https://api.github.com/repos/joelgrus/allennlp/languages', 'stargazers_url': 'https://api.github.com/repos/joelgrus/allennlp/stargazers', 'contributors_url': 'https://api.github.com/repos/joelgrus/allennlp/contributors', 'subscribers_url': 'https://api.github.com/repos/joelgrus/allennlp/subscribers', 'subscription_url': 'https://api.github.com/repos/joelgrus/allennlp/subscription', 'commits_url': 'https://api.github.com/repos/joelgrus/allennlp/commits{/sha}', 'git_commits_url': 'https://api.github.com/repos/joelgrus/allennlp/git/commits{/sha}', 'comments_url': 'https://api.github.com/repos/joelgrus/allennlp/comments{/number}', 'issue_comment_url': 'https://api.github.com/repos/joelgrus/allennlp/issues/comments{/number}', 'contents_url': 'https://api.github.com/repos/joelgrus/allennlp/contents/{+path}', 'compare_url': 'https://api.github.com/repos/joelgrus/allennlp/compare/{base}...{head}', 'merges_url': 'https://api.github.com/repos/joelgrus/allennlp/merges', 'archive_url': 'https://api.github.com/repos/joelgrus/allennlp/{archive_format}{/ref}', 'downloads_url': 'https://api.github.com/repos/joelgrus/allennlp/downloads', 'issues_url': 'https://api.github.com/repos/joelgrus/allennlp/issues{/number}', 'pulls_url': 'https://api.github.com/repos/joelgrus/allennlp/pulls{/number}', 'milestones_url': 'https://api.github.com/repos/joelgrus/allennlp/milestones{/number}', 'notifications_url': 'https://api.github.com/repos/joelgrus/allennlp/notifications{?since,all,participating}', 'labels_url': 'https://api.github.com/repos/joelgrus/allennlp/labels{/name}', 'releases_url': 'https://api.github.com/repos/joelgrus/allennlp/releases{/id}', 'deployments_url': 'https://api.github.com/repos/joelgrus/allennlp/deployments', 'created_at': '2017-12-19T00:12:40Z', 'updated_at': '2017-12-19T00:12:43Z', 'pushed_at': '2018-08-07T20:23:04Z', 'git_url': 'git://github.com/joelgrus/allennlp.git', 'ssh_url': 'git@github.com:joelgrus/allennlp.git', 'clone_url': 'https://github.com/joelgrus/allennlp.git', 'svn_url': 'https://github.com/joelgrus/allennlp', 'homepage': 'http://www.allennlp.org/', 'size': 14876, 'stargazers_count': 0, 'watchers_count': 0, 'language': 'Python', 'has_issues': False, 'has_projects': True, 'has_downloads': True, 'has_wiki': False, 'has_pages': False, 'forks_count': 0, 'mirror_url': None, 'archived': False, 'open_issues_count': 0, 'license': {'key': 'apache-2.0', 'name': 'Apache License 2.0', 'spdx_id': 'Apache-2.0', 'url': 'https://api.github.com/licenses/apache-2.0', 'node_id': 'MDc6TGljZW5zZTI='}, 'forks': 0, 'open_issues': 0, 'watchers': 0, 'default_branch': 'master'}, {'id': 112873601, 'node_id': 'MDEwOlJlcG9zaXRvcnkxMTI4NzM2MDE=', 'name': 'advent2017', 'full_name': 'joelgrus/advent2017', 'owner': {'login': 'joelgrus', 'id': 1308313, 'node_id': 'MDQ6VXNlcjEzMDgzMTM=', 'avatar_url': 'https://avatars1.githubusercontent.com/u/1308313?v=4', 'gravatar_id': '', 'url': 'https://api.github.com/users/joelgrus', 'html_url': 'https://github.com/joelgrus', 'followers_url': 'https://api.github.com/users/joelgrus/followers', 'following_url': 'https://api.github.com/users/joelgrus/following{/other_user}', 'gists_url': 'https://api.github.com/users/joelgrus/gists{/gist_id}', 'starred_url': 'https://api.github.com/users/joelgrus/starred{/owner}{/repo}', 'subscriptions_url': 'https://api.github.com/users/joelgrus/subscriptions', 'organizations_url': 'https://api.github.com/users/joelgrus/orgs', 'repos_url': 'https://api.github.com/users/joelgrus/repos', 'events_url': 'https://api.github.com/users/joelgrus/events{/privacy}', 'received_events_url': 'https://api.github.com/users/joelgrus/received_events', 'type': 'User', 'site_admin': False}, 'private': False, 'html_url': 'https://github.com/joelgrus/advent2017', 'description': 'advent of code 2017', 'fork': False, 'url': 'https://api.github.com/repos/joelgrus/advent2017', 'forks_url': 'https://api.github.com/repos/joelgrus/advent2017/forks', 'keys_url': 'https://api.github.com/repos/joelgrus/advent2017/keys{/key_id}', 'collaborators_url': 'https://api.github.com/repos/joelgrus/advent2017/collaborators{/collaborator}', 'teams_url': 'https://api.github.com/repos/joelgrus/advent2017/teams', 'hooks_url': 'https://api.github.com/repos/joelgrus/advent2017/hooks', 'issue_events_url': 'https://api.github.com/repos/joelgrus/advent2017/issues/events{/number}', 'events_url': 'https://api.github.com/repos/joelgrus/advent2017/events', 'assignees_url': 'https://api.github.com/repos/joelgrus/advent2017/assignees{/user}', 'branches_url': 'https://api.github.com/repos/joelgrus/advent2017/branches{/branch}', 'tags_url': 'https://api.github.com/repos/joelgrus/advent2017/tags', 'blobs_url': 'https://api.github.com/repos/joelgrus/advent2017/git/blobs{/sha}', 'git_tags_url': 'https://api.github.com/repos/joelgrus/advent2017/git/tags{/sha}', 'git_refs_url': 'https://api.github.com/repos/joelgrus/advent2017/git/refs{/sha}', 'trees_url': 'https://api.github.com/repos/joelgrus/advent2017/git/trees{/sha}', 'statuses_url': 'https://api.github.com/repos/joelgrus/advent2017/statuses/{sha}', 'languages_url': 'https://api.github.com/repos/joelgrus/advent2017/languages', 'stargazers_url': 'https://api.github.com/repos/joelgrus/advent2017/stargazers', 'contributors_url': 'https://api.github.com/repos/joelgrus/advent2017/contributors', 'subscribers_url': 'https://api.github.com/repos/joelgrus/advent2017/subscribers', 'subscription_url': 'https://api.github.com/repos/joelgrus/advent2017/subscription', 'commits_url': 'https://api.github.com/repos/joelgrus/advent2017/commits{/sha}', 'git_commits_url': 'https://api.github.com/repos/joelgrus/advent2017/git/commits{/sha}', 'comments_url': 'https://api.github.com/repos/joelgrus/advent2017/comments{/number}', 'issue_comment_url': 'https://api.github.com/repos/joelgrus/advent2017/issues/comments{/number}', 'contents_url': 'https://api.github.com/repos/joelgrus/advent2017/contents/{+path}', 'compare_url': 'https://api.github.com/repos/joelgrus/advent2017/compare/{base}...{head}', 'merges_url': 'https://api.github.com/repos/joelgrus/advent2017/merges', 'archive_url': 'https://api.github.com/repos/joelgrus/advent2017/{archive_format}{/ref}', 'downloads_url': 'https://api.github.com/repos/joelgrus/advent2017/downloads', 'issues_url': 'https://api.github.com/repos/joelgrus/advent2017/issues{/number}', 'pulls_url': 'https://api.github.com/repos/joelgrus/advent2017/pulls{/number}', 'milestones_url': 'https://api.github.com/repos/joelgrus/advent2017/milestones{/number}', 'notifications_url': 'https://api.github.com/repos/joelgrus/advent2017/notifications{?since,all,participating}', 'labels_url': 'https://api.github.com/repos/joelgrus/advent2017/labels{/name}', 'releases_url': 'https://api.github.com/repos/joelgrus/advent2017/releases{/id}', 'deployments_url': 'https://api.github.com/repos/joelgrus/advent2017/deployments', 'created_at': '2017-12-02T20:13:49Z', 'updated_at': '2018-02-03T17:01:58Z', 'pushed_at': '2017-12-26T15:02:27Z', 'git_url': 'git://github.com/joelgrus/advent2017.git', 'ssh_url': 'git@github.com:joelgrus/advent2017.git', 'clone_url': 'https://github.com/joelgrus/advent2017.git', 'svn_url': 'https://github.com/joelgrus/advent2017', 'homepage': None, 'size': 156, 'stargazers_count': 4, 'watchers_count': 4, 'language': 'Python', 'has_issues': True, 'has_projects': True, 'has_downloads': True, 'has_wiki': True, 'has_pages': False, 'forks_count': 0, 'mirror_url': None, 'archived': False, 'open_issues_count': 0, 'license': None, 'forks': 0, 'open_issues': 0, 'watchers': 4, 'default_branch': 'master'}] ['HTML', 'Python', 'Python', 'Python', 'Python']\n"
     ]
    }
   ],
   "source": [
    "import requests,json\n",
    "endp = \"https://api.github.com/users/joelgrus/repos\"\n",
    "repos = json.loads(requests.get(endp).text)\n",
    "# print(repos)\n",
    "\n",
    "from dateutil.parser import parse\n",
    "from collections import Counter\n",
    "dates = [parse(repo[\"created_at\"]) for repo in repos]\n",
    "month_con = Counter(date.month for date in dates)\n",
    "weekday_con = Counter(date.weekday() for date in dates)\n",
    "\n",
    "last_5_repo = sorted(repos,key = lambda r : r[\"created_at\"],reverse = True)[:5]\n",
    "last_5_lang = [repo[\"language\"] for repo in last_5_repo]\n",
    "print(last_5_repo,last_5_lang)"
   ]
  },
  {
   "cell_type": "code",
   "execution_count": null,
   "metadata": {},
   "outputs": [],
   "source": []
  }
 ],
 "metadata": {
  "kernelspec": {
   "display_name": "Python 3",
   "language": "python",
   "name": "python3"
  },
  "language_info": {
   "codemirror_mode": {
    "name": "ipython",
    "version": 3
   },
   "file_extension": ".py",
   "mimetype": "text/x-python",
   "name": "python",
   "nbconvert_exporter": "python",
   "pygments_lexer": "ipython3",
   "version": "3.6.4"
  }
 },
 "nbformat": 4,
 "nbformat_minor": 2
}
