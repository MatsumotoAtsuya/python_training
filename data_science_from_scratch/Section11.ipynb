{
 "cells": [
  {
   "cell_type": "code",
   "execution_count": null,
   "metadata": {},
   "outputs": [],
   "source": [
    "def split_data(data,prob):\n",
    "    results = [],[]\n",
    "    for row in data:\n",
    "        results[0 if random.random() < prob else 1].append(row)\n",
    "    return results\n",
    "\n",
    "def train_test_sp(x,y,test_p):\n",
    "    data = zip(x,y)\n",
    "    train , test = split_data(data,1-test_p)\n",
    "    x_tr ,y_tr = zip(*tr)\n",
    "    x_te,y_te = zip(*te)\n",
    "    return x_tr , y_tr , x_te,y_te\n",
    "\n",
    "model = MODEL()\n",
    "x_tr , y_tr , x_te,y_te = train_test_sp(xs,ys,0.22) \n",
    "model.train()\n",
    "performance = model.test()"
   ]
  },
  {
   "cell_type": "code",
   "execution_count": 1,
   "metadata": {},
   "outputs": [
    {
     "name": "stdout",
     "output_type": "stream",
     "text": [
      "0.014\n"
     ]
    }
   ],
   "source": [
    "#precision　適合率　recall 再現率\n",
    "def precision(tp,fp,fn,tn):\n",
    "    return tp/(tp + fp)\n",
    "\n",
    "print(precision(70,4930,13930,981070))"
   ]
  },
  {
   "cell_type": "code",
   "execution_count": 2,
   "metadata": {},
   "outputs": [
    {
     "name": "stdout",
     "output_type": "stream",
     "text": [
      "0.003711558854718982\n"
     ]
    }
   ],
   "source": [
    "def recall(tp,fp,fn ,tn):\n",
    "    return tp/(fp+fn)\n",
    "print(recall(70,4930,13930,981070))"
   ]
  },
  {
   "cell_type": "code",
   "execution_count": 3,
   "metadata": {},
   "outputs": [
    {
     "name": "stdout",
     "output_type": "stream",
     "text": [
      "0.00586756077116513\n"
     ]
    }
   ],
   "source": [
    "def f1_score(tp,fp,fn,tn):\n",
    "    p = precision(tp,fp,fn,tn)\n",
    "    r = recall(tp,fp,fn,tn)\n",
    "    return 2 * p * r /(p + r)#調和平均\n",
    "print(f1_score(70,4930,13930,981070))"
   ]
  }
 ],
 "metadata": {
  "kernelspec": {
   "display_name": "Python 3",
   "language": "python",
   "name": "python3"
  },
  "language_info": {
   "codemirror_mode": {
    "name": "ipython",
    "version": 3
   },
   "file_extension": ".py",
   "mimetype": "text/x-python",
   "name": "python",
   "nbconvert_exporter": "python",
   "pygments_lexer": "ipython3",
   "version": "3.6.4"
  }
 },
 "nbformat": 4,
 "nbformat_minor": 2
}
