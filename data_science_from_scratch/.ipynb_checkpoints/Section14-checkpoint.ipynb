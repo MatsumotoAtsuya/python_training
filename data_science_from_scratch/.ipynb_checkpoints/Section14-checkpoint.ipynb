{
 "cells": [
  {
   "cell_type": "code",
   "execution_count": null,
   "metadata": {},
   "outputs": [],
   "source": [
    "#liner regression\n",
    "# y= bx + a + error\n",
    "def predict(alpha,beta,xi):\n",
    "    return beta * xi+ alpha\n",
    "\n",
    "def error(alpha,beta,xi,yi):\n",
    "    return yi - predict(alpha, beta,xi,yi)\n",
    "\n",
    "def sum_sqrt_error(alpha,beta,x,y):\n",
    "    return sum([error(alpha,beta,xi,yi)**2 for xi , yi in x ,y])\n",
    "def least_sqrt_fit(x,y):\n",
    "    beta = correlation(x,y)*std(y)/ std(x)\n",
    "    alpha = mean(y) - beta * mean(x)\n",
    "    return alpha ,beta\n",
    "\n",
    "alpha , beta = least_sqrt_fit(n_firends,d_minutes)\n",
    "\n",
    "def total_sum_sqrt(y):\n",
    "    return  sum([v**2 for v in (yi-mean(y))])\n",
    "\n",
    "def r_sqrt(alpha,beta,x,y):\n",
    "    return 1.0 - (sum_sqrt_error(alpha , beta, x, y)/total_sum_sqrt(y))"
   ]
  },
  {
   "cell_type": "code",
   "execution_count": 1,
   "metadata": {},
   "outputs": [
    {
     "ename": "NameError",
     "evalue": "name 'mini_stochastic' is not defined",
     "output_type": "error",
     "traceback": [
      "\u001b[1;31m---------------------------------------------------------------------------\u001b[0m",
      "\u001b[1;31mNameError\u001b[0m                                 Traceback (most recent call last)",
      "\u001b[1;32m<ipython-input-1-3e963229c428>\u001b[0m in \u001b[0;36m<module>\u001b[1;34m()\u001b[0m\n\u001b[0;32m     11\u001b[0m \u001b[0mrandom\u001b[0m\u001b[1;33m.\u001b[0m\u001b[0mseed\u001b[0m\u001b[1;33m(\u001b[0m\u001b[1;36m0\u001b[0m\u001b[1;33m)\u001b[0m\u001b[1;33m\u001b[0m\u001b[0m\n\u001b[0;32m     12\u001b[0m \u001b[0mtheta\u001b[0m \u001b[1;33m=\u001b[0m \u001b[1;33m[\u001b[0m\u001b[0mrandom\u001b[0m\u001b[1;33m.\u001b[0m\u001b[0mrandom\u001b[0m\u001b[1;33m(\u001b[0m\u001b[1;33m)\u001b[0m\u001b[1;33m,\u001b[0m\u001b[0mrandom\u001b[0m\u001b[1;33m.\u001b[0m\u001b[0mrandom\u001b[0m\u001b[1;33m]\u001b[0m\u001b[1;33m\u001b[0m\u001b[0m\n\u001b[1;32m---> 13\u001b[1;33m \u001b[0malpha\u001b[0m \u001b[1;33m,\u001b[0m\u001b[0mbeta\u001b[0m \u001b[1;33m=\u001b[0m \u001b[0mmini_stochastic\u001b[0m\u001b[1;33m(\u001b[0m\u001b[0msqrt_error\u001b[0m\u001b[1;33m,\u001b[0m\u001b[0msqrt_error_grad\u001b[0m\u001b[1;33m,\u001b[0m\u001b[0mn_friends\u001b[0m\u001b[1;33m,\u001b[0m\u001b[0md_minutes\u001b[0m\u001b[1;33m,\u001b[0m\u001b[0mtheta\u001b[0m\u001b[1;33m,\u001b[0m\u001b[1;36m0.0001\u001b[0m\u001b[1;33m)\u001b[0m\u001b[1;33m\u001b[0m\u001b[0m\n\u001b[0m\u001b[0;32m     14\u001b[0m \u001b[0mprint\u001b[0m\u001b[1;33m(\u001b[0m\u001b[0malpha\u001b[0m\u001b[1;33m,\u001b[0m\u001b[0mbeta\u001b[0m\u001b[1;33m)\u001b[0m\u001b[1;33m\u001b[0m\u001b[0m\n",
      "\u001b[1;31mNameError\u001b[0m: name 'mini_stochastic' is not defined"
     ]
    }
   ],
   "source": [
    "#勾配降下法\n",
    "def sqrt_error(xi,yi,theta):\n",
    "    alpha ,beta = theta\n",
    "    return error(alpha,beta,xi,yi)\n",
    "\n",
    "def sqrt_error_grad(xi,yi,theta):\n",
    "    alpha , beta = theta\n",
    "    return [-2 * error(alpha,beta,xi,yi),-2 * error(alpha,beta,xi,yi)*xi]\n",
    "\n",
    "import random\n",
    "random.seed(0)\n",
    "theta = [random.random(),random.random]\n",
    "alpha ,beta = mini_stochastic(sqrt_error,sqrt_error_grad,n_friends,d_minutes,theta,0.0001)\n",
    "print(alpha,beta)"
   ]
  }
 ],
 "metadata": {
  "kernelspec": {
   "display_name": "Python 3",
   "language": "python",
   "name": "python3"
  },
  "language_info": {
   "codemirror_mode": {
    "name": "ipython",
    "version": 3
   },
   "file_extension": ".py",
   "mimetype": "text/x-python",
   "name": "python",
   "nbconvert_exporter": "python",
   "pygments_lexer": "ipython3",
   "version": "3.6.4"
  }
 },
 "nbformat": 4,
 "nbformat_minor": 2
}
