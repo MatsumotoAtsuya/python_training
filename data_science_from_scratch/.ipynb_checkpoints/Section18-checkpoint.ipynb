{
 "cells": [
  {
   "cell_type": "code",
   "execution_count": null,
   "metadata": {},
   "outputs": [],
   "source": [
    "#neural network\n",
    "# parceptron\n",
    "import numpy as np\n",
    "def step_func(x):\n",
    "    return 1 if x >= 0 else 0\n",
    "\n",
    "def perceptron(weights,bias,x):\n",
    "    calculation = np.dot(weights,x)+ bias\n",
    "    return step_func(calculation)"
   ]
  }
 ],
 "metadata": {
  "kernelspec": {
   "display_name": "Python 3",
   "language": "python",
   "name": "python3"
  },
  "language_info": {
   "codemirror_mode": {
    "name": "ipython",
    "version": 3
   },
   "file_extension": ".py",
   "mimetype": "text/x-python",
   "name": "python",
   "nbconvert_exporter": "python",
   "pygments_lexer": "ipython3",
   "version": "3.6.4"
  }
 },
 "nbformat": 4,
 "nbformat_minor": 2
}
