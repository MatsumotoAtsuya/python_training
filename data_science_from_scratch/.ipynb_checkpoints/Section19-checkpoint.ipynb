{
 "cells": [
  {
   "cell_type": "code",
   "execution_count": 2,
   "metadata": {},
   "outputs": [],
   "source": [
    "#classtaling\n",
    "import numpy as np\n",
    "class kmeans:\n",
    "    def __init__(self,k):\n",
    "        self.k = k\n",
    "        self.means = None\n",
    "        \n",
    "    def classify(self,input):\n",
    "        return min(range(self.k) , key = lambda i : np.linalg.norm(input-self.means[i]))\n",
    "    \n",
    "    def train (self,inputs):\n",
    "        self.means = random.sample(inputs,self.k)\n",
    "        assign = None\n",
    "        while True:\n",
    "            new_assign = np.array(map(self.classify,inputs))\n",
    "            if assign == new_assign:\n",
    "                return \n",
    "            \n",
    "            assign = new_assign\n",
    "            \n",
    "            for i in range(self.k):\n",
    "                i_p = [p for p,a in zip(inputs,assign) if a == i]\n",
    "                \n",
    "                if i_p:\n",
    "                    self.means[i] = np.mean(i_p)"
   ]
  },
  {
   "cell_type": "code",
   "execution_count": 6,
   "metadata": {},
   "outputs": [
    {
     "ename": "NameError",
     "evalue": "name 'img' is not defined",
     "output_type": "error",
     "traceback": [
      "\u001b[1;31m---------------------------------------------------------------------------\u001b[0m",
      "\u001b[1;31mNameError\u001b[0m                                 Traceback (most recent call last)",
      "\u001b[1;32m<ipython-input-6-36526914fa2c>\u001b[0m in \u001b[0;36m<module>\u001b[1;34m()\u001b[0m\n\u001b[0;32m      5\u001b[0m \u001b[1;32mimport\u001b[0m \u001b[0mmatplotlib\u001b[0m\u001b[1;33m.\u001b[0m\u001b[0mpyplot\u001b[0m \u001b[1;32mas\u001b[0m \u001b[0mplt\u001b[0m\u001b[1;33m\u001b[0m\u001b[0m\n\u001b[0;32m      6\u001b[0m \u001b[1;31m# img = pli.imread(path)\u001b[0m\u001b[1;33m\u001b[0m\u001b[1;33m\u001b[0m\u001b[0m\n\u001b[1;32m----> 7\u001b[1;33m \u001b[0mtop_row\u001b[0m \u001b[1;33m=\u001b[0m \u001b[0mimg\u001b[0m\u001b[1;33m[\u001b[0m\u001b[1;36m0\u001b[0m\u001b[1;33m]\u001b[0m\u001b[1;33m\u001b[0m\u001b[0m\n\u001b[0m\u001b[0;32m      8\u001b[0m \u001b[0mtop_left_px\u001b[0m \u001b[1;33m=\u001b[0m \u001b[0mtop_row\u001b[0m\u001b[1;33m[\u001b[0m\u001b[1;36m1\u001b[0m\u001b[1;33m]\u001b[0m\u001b[1;33m\u001b[0m\u001b[0m\n\u001b[0;32m      9\u001b[0m \u001b[0mr\u001b[0m\u001b[1;33m,\u001b[0m\u001b[0mg\u001b[0m\u001b[1;33m,\u001b[0m\u001b[0mb\u001b[0m \u001b[1;33m=\u001b[0m \u001b[0mtop_left_px\u001b[0m\u001b[1;33m\u001b[0m\u001b[0m\n",
      "\u001b[1;31mNameError\u001b[0m: name 'img' is not defined"
     ]
    }
   ],
   "source": [
    "#image reader\n",
    "path= \"\" #path_to_imagefile\n",
    "%matplotlib inline\n",
    "import matplotlib.image as pli\n",
    "import matplotlib.pyplot as plt\n",
    "img = pli.imread(path)\n",
    "top_row = img[0]\n",
    "top_left_px = top_row[1]\n",
    "r,g,b = top_left_px\n",
    "pxs = [px for row in img for px in row]\n",
    "cluster = kmeans(5)\n",
    "cluster.train(pxs)\n",
    "def recolor(px):\n",
    "    cluster = cluster.classify(px)\n",
    "    return cluster.means[cluster]\n",
    "\n",
    "new_img = [[recolor[px] for px in row ] for row in img]\n",
    "pli.imshow(new_img)\n",
    "plt.show()"
   ]
  },
  {
   "cell_type": "code",
   "execution_count": 12,
   "metadata": {},
   "outputs": [],
   "source": [
    "def is_leaf(cluster):\n",
    "    return len(cluster)== 1\n",
    "\n",
    "def get_children(cluster):\n",
    "    if is_leaf(cluster):\n",
    "        raise TypeError(\"no children\")\n",
    "    else:\n",
    "        return cluster[1]\n",
    "    \n",
    "def get_values(cluster):\n",
    "    if is_leaf(cluster):\n",
    "        return cluster\n",
    "    else:\n",
    "        return [value for child in get_child(cluster) for value in get_values(child)]\n",
    "    \n",
    "def cluster_dist(cluster1, cluster2, dist_agg = min):\n",
    "    return dist_agg([np.linalg.norm(input1 - input2)] for input1 in get_values(cluster1) for input2 in get_values(cluster2))\n",
    "\n",
    "def get_merge_order(cluster):\n",
    "    if is_leaf(cluster):\n",
    "        return float(\"inf\")\n",
    "    else:\n",
    "        return cluster[0]\n",
    "\n",
    "def bottom_up_cluster(inputs,dist_agg = min):\n",
    "    clusters = [(input,) for input in inputs]\n",
    "    clusters = np.array(clusters)\n",
    "    while len(clusters) > 1:\n",
    "        c1,c2 = min([(cluster1,cluster2) for i ,cluster1 in enumerate(clusters) for cluster2 in clusters[-i]],key = lambda x,y: cluster_dist(x , y ,dist_agg))\n",
    "        clusters = [c for c in clusters if c != c1 and c != c2]\n",
    "        merged_cluster =  (len(clusters),[c1,c2])\n",
    "        clusters + merged_cluster\n",
    "        \n",
    "    return clusters[0]"
   ]
  },
  {
   "cell_type": "code",
   "execution_count": null,
   "metadata": {},
   "outputs": [],
   "source": []
  }
 ],
 "metadata": {
  "kernelspec": {
   "display_name": "Python 3",
   "language": "python",
   "name": "python3"
  },
  "language_info": {
   "codemirror_mode": {
    "name": "ipython",
    "version": 3
   },
   "file_extension": ".py",
   "mimetype": "text/x-python",
   "name": "python",
   "nbconvert_exporter": "python",
   "pygments_lexer": "ipython3",
   "version": "3.6.4"
  }
 },
 "nbformat": 4,
 "nbformat_minor": 2
}
