{
 "cells": [
  {
   "cell_type": "code",
   "execution_count": null,
   "metadata": {},
   "outputs": [],
   "source": [
    "#import pandas as pd\n",
    "\n",
    "# df = pd.read_csv(\"https://raw.githubusercontent.com/rabst/python-machine-learning-book-2nd-edition/blob/master/code/ch10/housing.data.txt\", header=None, sep=\"\\s+\")\n",
    "# df.columns = [\"CRIM\", \"ZN\", \"INDUS\", \"CHAS\", \"NOX\", \"RM\", \"AGE\", \"DIS\", \"RAD\", \"TAX\", \"PTRATIO\", \"B\", \"LSTAT\", \"MEDV\"]\n",
    "# df.head\n"
   ]
  },
  {
   "cell_type": "code",
   "execution_count": null,
   "metadata": {},
   "outputs": [],
   "source": [
    "import pandas as pd\n",
    "\n",
    "df = pd.read_csv(\"housing.data.txt\", sep=\"\\s+\")\n",
    "df.columns = [\"CRIM\", \"ZN\", \"INDUS\", \"CHAS\", \"NOX\", \"RM\", \"AGE\", \"DIS\", \"RAD\", \"TAX\", \"PTRATIO\", \"B\", \"LSTAT\", \"MEDV\"]\n",
    "df.head()"
   ]
  },
  {
   "cell_type": "code",
   "execution_count": null,
   "metadata": {},
   "outputs": [],
   "source": [
    "#散布図データ解析　散布図行列　#seaborn package\n",
    "import matplotlib.pyplot as plt\n",
    "import seaborn as sb\n",
    "cols = [\"LSTAT\", \"INDUS\", \"NOX\", \"RM\", \"MEDV\"]\n",
    "sb.pairplot(df[cols], size=2.5)\n",
    "plt.tight_layout()\n",
    "plt.show()"
   ]
  },
  {
   "cell_type": "code",
   "execution_count": null,
   "metadata": {},
   "outputs": [],
   "source": [
    "#peaarson product-moment correlation coefficent\n",
    "import numpy as np\n",
    "cm = np.corrcoef(df[cols].values.T)\n",
    "hm = sb.heatmap(cm, cbar=True, annot=True, square=True, fmt=\".2f\", annot_kws={\"size\": 15}, \n",
    "               yticklabels=cols, xticklabels=cols)\n",
    "plt.tight_layout()\n",
    "plt.show()\n",
    "#cbar >> color bar, cm >> correlation map, annot_kws >> annotation_keywords\n"
   ]
  },
  {
   "cell_type": "code",
   "execution_count": null,
   "metadata": {},
   "outputs": [],
   "source": [
    "#最小二乗法、線形最小二乗法\n",
    "#adaline >> adaptive linear neuron,, gd, sgd\n",
    "class LinearRegressionGD(object):\n",
    "    def __init__(self, eta=0.001, n_iter=20):\n",
    "        self.eta = eta\n",
    "        self.n_iter = n_iter\n",
    "        \n",
    "    def fit(self, X, y):\n",
    "        self.w = np.zeros(1 + X.shape[1])\n",
    "        self.costs = []\n",
    "        for i in range(self.n_iter):\n",
    "            output = self.net_input(X)\n",
    "            errors = (y - output)\n",
    "            self.w[1:] += self.eta * X.T.dot(errors)\n",
    "            self.w[0] += self.eta * errors.sum()\n",
    "            cost = (errors**2).sum() / 2.0\n",
    "            self.costs.append(cost)\n",
    "        return self\n",
    "    \n",
    "    def net_input(self, X):\n",
    "        return np.dot(X, self.w[1:]) + self.w[0]\n",
    "    \n",
    "    def predict(self, X):\n",
    "        return self.net_input(X)"
   ]
  },
  {
   "cell_type": "code",
   "execution_count": null,
   "metadata": {},
   "outputs": [],
   "source": [
    "#できるだけ２次配列に収納する\n",
    "X = df[[\"RM\"]].values\n",
    "y = df[\"MEDV\"].values\n",
    "from sklearn.preprocessing import StandardScaler\n",
    "sc_x = StandardScaler()\n",
    "sc_y = StandardScaler()\n",
    "X_std = sc_x.fit_transform(X)\n",
    "y_std = sc_y.fit_transform(y[:, np.newaxis]).flatten()\n",
    "lr = LinearRegressionGD()\n",
    "lr.fit(X_std, y_std)"
   ]
  },
  {
   "cell_type": "code",
   "execution_count": null,
   "metadata": {},
   "outputs": [],
   "source": [
    "plt.plot(range(1, lr.n_iter+1), lr.costs)\n",
    "plt.ylabel(\"SSE\")\n",
    "plt.xlabel(\"Epoch\")\n",
    "plt.show()"
   ]
  },
  {
   "cell_type": "code",
   "execution_count": null,
   "metadata": {},
   "outputs": [],
   "source": [
    "def lin_regplot(X, y, model):\n",
    "    plt.scatter(X, y, c=\"steelblue\", edgecolor=\"white\", s=70)\n",
    "    plt.plot(X, model.predict(X), color=\"black\", lw=2)\n",
    "    return\n",
    "\n"
   ]
  },
  {
   "cell_type": "code",
   "execution_count": null,
   "metadata": {},
   "outputs": [],
   "source": [
    "lin_regplot(X_std, y_std, lr)\n",
    "plt.xlabel(\"ave of RM\")\n",
    "plt.ylabel(\"price of $1000s in MEDV\")\n",
    "plt.show()"
   ]
  },
  {
   "cell_type": "code",
   "execution_count": null,
   "metadata": {},
   "outputs": [],
   "source": [
    "num_rooms_std = sc_x.transform(np.array([5.0]).reshape(1, -1))\n",
    "#room number なのに　5.0 なのは　float で正確に計算したいから\n",
    "price_std = lr.predict(num_rooms_std)\n",
    "print(\"price in $1000s: {}\".format(sc_y.inverse_transform(price_std)))"
   ]
  },
  {
   "cell_type": "code",
   "execution_count": null,
   "metadata": {},
   "outputs": [],
   "source": [
    "print (\"slope: {}\".format(lr.w[1]))\n",
    "print(\"intercept: {:.3f}\".format(lr.w[0]))"
   ]
  },
  {
   "cell_type": "code",
   "execution_count": null,
   "metadata": {},
   "outputs": [],
   "source": [
    "from sklearn.linear_model import LinearRegression\n",
    "slr = LinearRegression()\n",
    "slr.fit(X, y)\n",
    "y_pred = slr.predict(X)\n",
    "print(\"slope;{:.3f}\".format(slr.coef_[0]))\n",
    "print(\"intercept:{:.3f}\".format(slr.intercept_))"
   ]
  },
  {
   "cell_type": "code",
   "execution_count": null,
   "metadata": {},
   "outputs": [],
   "source": [
    "lin_regplot(X, y, slr)\n",
    "plt.xlabel(\"ave of RM\")\n",
    "plt.ylabel(\"prince in $1000s in MEDV\")\n",
    "plt.show()"
   ]
  },
  {
   "cell_type": "code",
   "execution_count": null,
   "metadata": {
    "scrolled": true
   },
   "outputs": [],
   "source": [
    "#take outside data away\n",
    "#instead use RANSAC >> random sample concensus\n",
    "#learn inlier \n",
    "from sklearn.linear_model import RANSACRegressor\n",
    "#make instance\n",
    "ransac = RANSACRegressor(LinearRegression(), max_trials=100, min_samples=50, loss=\"absolute_loss\",\n",
    "                        residual_threshold=5.0, random_state=0)\n",
    "#residual_threshlold >> max distance from the line\n",
    "ransac.fit(X, y)\n",
    "#fit"
   ]
  },
  {
   "cell_type": "code",
   "execution_count": null,
   "metadata": {},
   "outputs": [],
   "source": [
    "#median absolute deviation >> one of deviation \n",
    "#in these days, there are other deviations for inlier\n",
    "inlier_mask = ransac.inlier_mask_\n",
    "#take inlier mask\n",
    "print(inlier_mask)\n",
    "outlier_mask = np.logical_not(inlier_mask)\n",
    "print(outlier_mask)\n",
    "line_X = np.arange(3, 10, 1)\n",
    "line_y_ransac = ransac.predict(line_X[:, np.newaxis])\n",
    "#change the demention from 1 to 2\n",
    "plt.scatter(X[inlier_mask], y[inlier_mask], c=\"steelblue\", edgecolor=\"white\", marker=\"o\", label=\"inliers\" )\n",
    "plt.scatter(X[outlier_mask], y[outlier_mask], c=\"limegreen\", edgecolor=\"white\", marker=\"x\", label=\"outliers\" )\n",
    "plt.plot(line_X, line_y_ransac, color=\"black\", lw=2)\n",
    "plt.xlabel(\"RM\")\n",
    "plt.ylabel(\"MEDV\")\n",
    "plt.legend(loc = \"upper left\")\n",
    "plt.show()"
   ]
  },
  {
   "cell_type": "code",
   "execution_count": null,
   "metadata": {
    "scrolled": true
   },
   "outputs": [],
   "source": [
    "print(\"slope: {:3f}\".format(ransac.estimator_.coef_[0]))\n",
    "print(\"intercept: {:3f}\".format(ransac.estimator_.intercept_))"
   ]
  },
  {
   "cell_type": "code",
   "execution_count": null,
   "metadata": {},
   "outputs": [],
   "source": [
    "#all variables\n",
    "from sklearn.model_selection import train_test_split\n",
    "X = df.iloc[:, :-1].values\n",
    "X_train, X_test, y_train, y_test = train_test_split(X, y, test_size=0.3, random_state=0)\n",
    "slr = LinearRegression()\n",
    "slr.fit(X_train, y_train)\n",
    "y_train_pred = slr.predict(X_train)\n",
    "y_test_pred = slr.predict(X_test)\n"
   ]
  },
  {
   "cell_type": "code",
   "execution_count": null,
   "metadata": {},
   "outputs": [],
   "source": [
    "#residal plot\n",
    "plt.scatter(y_train_pred, y_train_pred-y_train, c=\"steelblue\", edgecolor=\"white\", label=\"trainig data\")\n",
    "plt.scatter(y_test_pred, y_test_pred-y_test, c=\"limegreen\", edgecolor=\"white\", label=\"test data\")\n",
    "plt.xlabel(\"predicted values\")\n",
    "plt.ylabel(\"residals\")\n",
    "plt.legend(loc=\"upper left\")\n",
    "plt.hlines(y=0, xmin=-10, xmax=50, color=\"black\", lw=2)\n",
    "plt.tight_layout()\n",
    "plt.show()"
   ]
  },
  {
   "cell_type": "code",
   "execution_count": null,
   "metadata": {},
   "outputs": [],
   "source": [
    "from sklearn.metrics import mean_squared_error\n",
    "print(\"mse train:{:3f}, test:{:3f}\".format(mean_squared_error(y_train, y_train_pred), \n",
    "                                           mean_squared_error(y_test, y_test_pred)))"
   ]
  },
  {
   "cell_type": "code",
   "execution_count": null,
   "metadata": {},
   "outputs": [],
   "source": [
    "#r**2 errors\n",
    "#r**2 =: 1 -(sse/sst)\n",
    "from sklearn.metrics import r2_score\n",
    "print(\"r2_train: {:3f}, _test: {:3f}\".format(r2_score(y_train, y_train_pred),\n",
    "                                            r2_score(y_test, y_test_pred)))"
   ]
  },
  {
   "cell_type": "code",
   "execution_count": null,
   "metadata": {},
   "outputs": [],
   "source": [
    "#Regularizaition >> ridgeregression, least absolute shrinkage and selection operator, elastic net\n",
    "from sklearn.linear_model import Lasso\n",
    "lasso = Lasso(alpha=1.0)\n",
    "from sklearn.linear_model import Ridge\n",
    "ridge = Ridge(alpha=1.0)\n",
    "from sklearn.linear_model import ElasticNet\n",
    "elasnet = ElasticNet(alpha=1.0, l1_ratio=0.5)"
   ]
  },
  {
   "cell_type": "code",
   "execution_count": null,
   "metadata": {},
   "outputs": [],
   "source": [
    "from sklearn.preprocessing import PolynomialFeatures\n",
    "#poly >> many, nomial >> demention\n",
    "X = np.array([258.0, 270.0, 320.0, 342.0, 368.0, 396.0, 446.0, 480.0, 586.0])[:, np.newaxis]\n",
    "y = np.array([236.4, 234.4, 252.8, 298.6, 314.2, 342.2, 360.8, 391.2, 390.8])\n",
    "lr = LinearRegression()\n",
    "pr = LinearRegression()\n",
    "quadratic = PolynomialFeatures(degree=2)\n",
    "X_quad = quadratic.fit_transform(X)"
   ]
  },
  {
   "cell_type": "code",
   "execution_count": null,
   "metadata": {},
   "outputs": [],
   "source": [
    "lr.fit(X, y)\n",
    "X_fit = np.arange(250, 600, 10)[:, np.newaxis]\n",
    "#from 1d to 2d\n",
    "y_lin_fit = lr.predict(X_fit)\n"
   ]
  },
  {
   "cell_type": "code",
   "execution_count": null,
   "metadata": {},
   "outputs": [],
   "source": [
    "pr.fit(X_quad, y)\n",
    "y_quad_fit = pr.predict(quadratic.fit_transform(X_fit))\n",
    "plt.scatter(X, y, label=\"training points\")\n",
    "plt.plot(X_fit, y_lin_fit, label=\"linear fit\", linestyle=\"--\")\n",
    "plt.plot(X_fit, y_quad_fit, label=\"quadratic fit\")\n",
    "plt.legend(loc=\"upper left\")\n",
    "plt.tight_layout()\n",
    "plt.show()"
   ]
  },
  {
   "cell_type": "code",
   "execution_count": null,
   "metadata": {},
   "outputs": [],
   "source": [
    "y_lin_pred = lr.predict(X)\n",
    "y_quad_pred= pr.predict(X_quad)\n",
    "print(\"training mse linear:{:3f} quadracic {:3f}\".format(mean_squared_error(y, y_lin_pred),\n",
    "                                                        mean_squared_error(y, y_quad_pred)))\n",
    "print(\"training r^2 linear:{:3f} qeadratic {:3f}\".format(r2_score(y, y_lin_pred),\n",
    "                                                        r2_score(y, y_quad_pred)))"
   ]
  },
  {
   "cell_type": "code",
   "execution_count": null,
   "metadata": {},
   "outputs": [],
   "source": [
    "X = df[[\"LSTAT\"]].values\n",
    "y = df[\"MEDV\"].values\n",
    "regr = LinearRegression()\n",
    "\n",
    "#make features in 2d and 3d\n",
    "quadratic = PolynomialFeatures(degree=2)\n",
    "cubic = PolynomialFeatures(degree=3)\n",
    "X_quad = quadratic.fit_transform(X)\n",
    "X_cubic = cubic.fit_transform(X)\n",
    "#linear model prediction\n",
    "X_fit=np.arange(X.min(), X.max(), 1)[:, np.newaxis]\n",
    "regr = regr.fit(X, y)\n",
    "y_lin_fit  = regr.predict(X_fit)\n",
    "linear_r2 = r2_score(y, regr.predict(X))\n",
    "\n",
    "regr = regr.fit(X_quad, y)\n",
    "y_quad_fit = regr.predict(quadratic.fit_transform(X_fit))\n",
    "quadratic_r2 = r2_score(y, regr.predict(X_quad))\n",
    "\n",
    "regr = regr.fit(X_cubic, y)\n",
    "y_cubic_fit = regr.predict(cubic.fit_transform(X_fit))\n",
    "cubic_r2 = r2_score(y, regr.predict(X_cubic))\n",
    "#plotting\n",
    "plt.scatter(X, y, label=\"training points\", color=\"lightgray\")\n",
    "plt.plot(X_fit, y_lin_fit, label=\"linear(d1) $R^2={}\".format(linear_r2), \n",
    "        color=\"blue\", lw=2, linestyle=\"--\")\n",
    "plt.plot(X_fit, y_quad_fit, label=\"quadratic(d2) $R^2={}\".format(quadratic_r2), \n",
    "        color=\"red\", lw=2, linestyle=\"-\")\n",
    "plt.plot(X_fit, y_cubic_fit, label=\"cubic(d3) $R^2={}\".format(cubic_r2), \n",
    "        color=\"yellow\", lw=2, linestyle=\":\")\n",
    "plt.xlabel(\"% lower status [LSTAT]\")\n",
    "plt.ylabel(\"price in $1000s [MEDV]\")\n",
    "plt.legend(loc=\"upper left\")\n",
    "plt.show()"
   ]
  },
  {
   "cell_type": "code",
   "execution_count": null,
   "metadata": {},
   "outputs": [],
   "source": [
    "#f(x) = 2**(-x)\n",
    "X_log = np.log(X)\n",
    "y_sqrt = np.sqrt(y)\n",
    "#calcurete squart\n",
    "X_fit = np.arange(X_log.min()-1, X_log.max()+1, 1)[:, np.newaxis]\n",
    "regr = regr.fit(X_log, y_sqrt)\n",
    "y_lin_fit = regr.predict(X_fit)\n",
    "linear_r2 = r2_score(y_sqrt, regr.predict(X_log))\n",
    "plt.scatter(X_log, y_sqrt, label=\"training points\", color=\"lightgray\")\n",
    "plt.plot(X_fit, y_lin_fit, label=\"linear (d=1) $R^2={}\".format(linear_r2), color=\"blue\", lw=2)\n",
    "plt.xlabel(\"log(% loxer status of the population)\")\n",
    "plt.ylabel(\"$\\sqrt{price /; in /; /$1000s [medv]}$\")\n",
    "plt.legend(loc=\"upper left\")\n",
    "plt.tight_layout()\n",
    "plt.show()\n"
   ]
  },
  {
   "cell_type": "code",
   "execution_count": null,
   "metadata": {},
   "outputs": [],
   "source": [
    "#random forest decision tree\n",
    "from sklearn.tree import DecisionTreeRegressor\n",
    "X = df[[\"LSTAT\"]].values\n",
    "y = df[\"MEDV\"].values\n",
    "tree = DecisionTreeRegressor(max_depth=3)\n",
    "tree.fit(X, y)\n",
    "sort_ind = X.flatten().argsort()\n",
    "lin_regplot(X[sort_ind], y[sort_ind], tree)\n",
    "plt.xlabel(\"% lower status of populatino [LSTAT]\")\n",
    "plt.ylabel(\"price in $1000s [MEDV]\")\n",
    "plt.show()"
   ]
  },
  {
   "cell_type": "code",
   "execution_count": null,
   "metadata": {},
   "outputs": [],
   "source": [
    "X = df.iloc[:, :-1].values\n",
    "y = df[\"MEDV\"].values\n",
    "X_train, X_test, y_train, y_test = train_test_split(X, y, test_size=0.4, random_state=1)\n",
    "from sklearn.ensemble import RandomForestRegressor\n",
    "forest = RandomForestRegressor(n_estimators=1000, criterion=\"mse\", random_state=1,\n",
    "                              n_jobs=-1)\n",
    "forest.fit(X_train, y_train)\n",
    "y_train_pred = forest.predict(X_train)\n",
    "y_test_pred = forest.predict(X_test)\n",
    "print(\"MSE train {:3f}, test {:3f}\".format(mean_squared_error(y_train, y_train_pred),\n",
    "                                          mean_squared_error(y_test, y_test_pred)))\n",
    "print(\"R^2 train {:3f}, test {:3f}\".format(r2_score(y_train, y_train_pred),\n",
    "                                          r2_score(y_test, y_test_pred)))"
   ]
  },
  {
   "cell_type": "code",
   "execution_count": null,
   "metadata": {},
   "outputs": [],
   "source": [
    "plt.scatter(y_train_pred, y_train_pred-y_train, c=\"steelblue\",\n",
    "           edgecolor=\"white\", marker=\"o\", s=35, alpha=0.5, label=\"training data\")\n",
    "plt.scatter(y_test_pred, y_test_pred-y_test, c=\"limegreen\",\n",
    "           edgecolor=\"white\", marker=\"s\", s=35, alpha=0.5, label=\"test data\")\n",
    "plt.xlabel(\"predicted values\")\n",
    "plt.ylabel(\"Residuals\")\n",
    "plt.legend(loc=\"upper left\")\n",
    "plt.hlines(y=0, xmin=-10, xmax=50, lw=2, color=\"black\")\n",
    "plt.tight_layout()\n",
    "plt.xlim([-10, 50])\n",
    "plt.show()"
   ]
  },
  {
   "cell_type": "code",
   "execution_count": null,
   "metadata": {},
   "outputs": [],
   "source": []
  }
 ],
 "metadata": {
  "kernelspec": {
   "display_name": "Python 3",
   "language": "python",
   "name": "python3"
  },
  "language_info": {
   "codemirror_mode": {
    "name": "ipython",
    "version": 3
   },
   "file_extension": ".py",
   "mimetype": "text/x-python",
   "name": "python",
   "nbconvert_exporter": "python",
   "pygments_lexer": "ipython3",
   "version": "3.6.4"
  }
 },
 "nbformat": 4,
 "nbformat_minor": 2
}
