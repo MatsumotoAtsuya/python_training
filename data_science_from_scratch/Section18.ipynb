{
 "cells": [
  {
   "cell_type": "code",
   "execution_count": 10,
   "metadata": {},
   "outputs": [
    {
     "name": "stdout",
     "output_type": "stream",
     "text": [
      "[24154952.7535753, 583461742527454.9, 1.4093490824269389e+22]\n",
      "[24154952.7535753, 583461742527454.9, 1.4093490824269389e+22]\n",
      "[24154952.7535753, 583461742527454.9, 1.4093490824269389e+22]\n"
     ]
    },
    {
     "data": {
      "text/plain": [
       "[24154952.7535753,\n",
       " 583461742527454.9,\n",
       " 1.4093490824269389e+22,\n",
       " 24154952.7535753,\n",
       " 583461742527454.9,\n",
       " 1.4093490824269389e+22,\n",
       " 24154952.7535753,\n",
       " 583461742527454.9,\n",
       " 1.4093490824269389e+22]"
      ]
     },
     "execution_count": 10,
     "metadata": {},
     "output_type": "execute_result"
    }
   ],
   "source": [
    "#neural network\n",
    "# parceptron\n",
    "import numpy as np\n",
    "def step_func(x):\n",
    "    return 1 if x >= 0 else 0\n",
    "\n",
    "def perceptron_o(weights,bias,x):\n",
    "    calculation = np.dot(weights,x)+ bias\n",
    "    return step_func(calculation)\n",
    "#feed fowrdneuralNetwork\n",
    "import math\n",
    "def sigmoid(t):\n",
    "    return 1/(1 * math.exp(-t))\n",
    "\n",
    "def neuron_o(weights,inputs):\n",
    "    return sigmoid(sum(np.dot(weights,inputs)))\n",
    "\n",
    "def feed_forward(neural_n,input_v):#neural_network , input_vector,neuron_output\n",
    "    \n",
    "    outputs = []\n",
    "    for layer in neural_n:\n",
    "        input_bias = input_v+[1]\n",
    "        output = [neuron_o(neuron,input_bias) for neuron in neural_n]\n",
    "        print(output)\n",
    "        outputs += output\n",
    "        \n",
    "    input_v = output\n",
    "    return outputs\n",
    "w = np.array([1,2,3])\n",
    "x = np.array([4,2,4,3])\n",
    "feed_forward(w,x)\n"
   ]
  },
  {
   "cell_type": "code",
   "execution_count": 19,
   "metadata": {},
   "outputs": [
    {
     "ename": "ValueError",
     "evalue": "shapes (5,26) and (1,) not aligned: 26 (dim 1) != 1 (dim 0)",
     "output_type": "error",
     "traceback": [
      "\u001b[1;31m---------------------------------------------------------------------------\u001b[0m",
      "\u001b[1;31mValueError\u001b[0m                                Traceback (most recent call last)",
      "\u001b[1;32m<ipython-input-19-14adbcc6b426>\u001b[0m in \u001b[0;36m<module>\u001b[1;34m()\u001b[0m\n\u001b[0;32m     30\u001b[0m \u001b[1;32mfor\u001b[0m \u001b[0m_\u001b[0m \u001b[1;32min\u001b[0m \u001b[0mrange\u001b[0m\u001b[1;33m(\u001b[0m\u001b[1;36m100000\u001b[0m\u001b[1;33m)\u001b[0m\u001b[1;33m:\u001b[0m\u001b[1;33m\u001b[0m\u001b[0m\n\u001b[0;32m     31\u001b[0m     \u001b[1;32mfor\u001b[0m \u001b[0minput_v\u001b[0m \u001b[1;33m,\u001b[0m\u001b[0mtarget_v\u001b[0m \u001b[1;32min\u001b[0m \u001b[0mzip\u001b[0m\u001b[1;33m(\u001b[0m\u001b[0minputs\u001b[0m\u001b[1;33m,\u001b[0m\u001b[0mtargets\u001b[0m\u001b[1;33m)\u001b[0m\u001b[1;33m:\u001b[0m\u001b[1;33m\u001b[0m\u001b[0m\n\u001b[1;32m---> 32\u001b[1;33m         \u001b[0mbackpropagate\u001b[0m\u001b[1;33m(\u001b[0m\u001b[0mnetwork\u001b[0m\u001b[1;33m,\u001b[0m\u001b[0minput_v\u001b[0m\u001b[1;33m,\u001b[0m\u001b[0mtarget_v\u001b[0m\u001b[1;33m)\u001b[0m\u001b[1;33m\u001b[0m\u001b[0m\n\u001b[0m",
      "\u001b[1;32m<ipython-input-19-14adbcc6b426>\u001b[0m in \u001b[0;36mbackpropagate\u001b[1;34m(network, input_v, targets)\u001b[0m\n\u001b[0;32m      1\u001b[0m \u001b[1;31m#backpropagation\u001b[0m\u001b[1;33m\u001b[0m\u001b[1;33m\u001b[0m\u001b[0m\n\u001b[0;32m      2\u001b[0m \u001b[1;32mdef\u001b[0m \u001b[0mbackpropagate\u001b[0m\u001b[1;33m(\u001b[0m\u001b[0mnetwork\u001b[0m \u001b[1;33m,\u001b[0m\u001b[0minput_v\u001b[0m \u001b[1;33m,\u001b[0m\u001b[0mtargets\u001b[0m\u001b[1;33m)\u001b[0m\u001b[1;33m:\u001b[0m\u001b[1;33m\u001b[0m\u001b[0m\n\u001b[1;32m----> 3\u001b[1;33m     \u001b[0mhidden_os\u001b[0m \u001b[1;33m,\u001b[0m\u001b[0mos\u001b[0m \u001b[1;33m=\u001b[0m \u001b[0mfeed_forward\u001b[0m\u001b[1;33m(\u001b[0m\u001b[0mnetwork\u001b[0m\u001b[1;33m,\u001b[0m \u001b[0minput_v\u001b[0m\u001b[1;33m)\u001b[0m\u001b[1;33m\u001b[0m\u001b[0m\n\u001b[0m\u001b[0;32m      4\u001b[0m     \u001b[0mo_deltas\u001b[0m \u001b[1;33m=\u001b[0m \u001b[1;33m[\u001b[0m\u001b[0mo\u001b[0m \u001b[1;33m*\u001b[0m \u001b[1;33m(\u001b[0m\u001b[1;36m1\u001b[0m\u001b[1;33m-\u001b[0m\u001b[0mo\u001b[0m\u001b[1;33m)\u001b[0m \u001b[1;33m*\u001b[0m \u001b[1;33m(\u001b[0m\u001b[0mo\u001b[0m \u001b[1;33m-\u001b[0m \u001b[0mtarget\u001b[0m\u001b[1;33m)\u001b[0m \u001b[1;32mfor\u001b[0m \u001b[0mo\u001b[0m \u001b[1;33m,\u001b[0m\u001b[0mtarget\u001b[0m \u001b[1;32min\u001b[0m \u001b[0mzip\u001b[0m\u001b[1;33m(\u001b[0m\u001b[0mos\u001b[0m\u001b[1;33m,\u001b[0m\u001b[0mtarges\u001b[0m\u001b[1;33m)\u001b[0m\u001b[1;33m]\u001b[0m\u001b[1;33m\u001b[0m\u001b[0m\n\u001b[0;32m      5\u001b[0m \u001b[1;33m\u001b[0m\u001b[0m\n",
      "\u001b[1;32m<ipython-input-10-5c5d2878bbbb>\u001b[0m in \u001b[0;36mfeed_forward\u001b[1;34m(neural_n, input_v)\u001b[0m\n\u001b[0;32m     21\u001b[0m     \u001b[1;32mfor\u001b[0m \u001b[0mlayer\u001b[0m \u001b[1;32min\u001b[0m \u001b[0mneural_n\u001b[0m\u001b[1;33m:\u001b[0m\u001b[1;33m\u001b[0m\u001b[0m\n\u001b[0;32m     22\u001b[0m         \u001b[0minput_bias\u001b[0m \u001b[1;33m=\u001b[0m \u001b[0minput_v\u001b[0m\u001b[1;33m+\u001b[0m\u001b[1;33m[\u001b[0m\u001b[1;36m1\u001b[0m\u001b[1;33m]\u001b[0m\u001b[1;33m\u001b[0m\u001b[0m\n\u001b[1;32m---> 23\u001b[1;33m         \u001b[0moutput\u001b[0m \u001b[1;33m=\u001b[0m \u001b[1;33m[\u001b[0m\u001b[0mneuron_o\u001b[0m\u001b[1;33m(\u001b[0m\u001b[0mneuron\u001b[0m\u001b[1;33m,\u001b[0m\u001b[0minput_bias\u001b[0m\u001b[1;33m)\u001b[0m \u001b[1;32mfor\u001b[0m \u001b[0mneuron\u001b[0m \u001b[1;32min\u001b[0m \u001b[0mneural_n\u001b[0m\u001b[1;33m]\u001b[0m\u001b[1;33m\u001b[0m\u001b[0m\n\u001b[0m\u001b[0;32m     24\u001b[0m         \u001b[0mprint\u001b[0m\u001b[1;33m(\u001b[0m\u001b[0moutput\u001b[0m\u001b[1;33m)\u001b[0m\u001b[1;33m\u001b[0m\u001b[0m\n\u001b[0;32m     25\u001b[0m         \u001b[0moutputs\u001b[0m \u001b[1;33m+=\u001b[0m \u001b[0moutput\u001b[0m\u001b[1;33m\u001b[0m\u001b[0m\n",
      "\u001b[1;32m<ipython-input-10-5c5d2878bbbb>\u001b[0m in \u001b[0;36m<listcomp>\u001b[1;34m(.0)\u001b[0m\n\u001b[0;32m     21\u001b[0m     \u001b[1;32mfor\u001b[0m \u001b[0mlayer\u001b[0m \u001b[1;32min\u001b[0m \u001b[0mneural_n\u001b[0m\u001b[1;33m:\u001b[0m\u001b[1;33m\u001b[0m\u001b[0m\n\u001b[0;32m     22\u001b[0m         \u001b[0minput_bias\u001b[0m \u001b[1;33m=\u001b[0m \u001b[0minput_v\u001b[0m\u001b[1;33m+\u001b[0m\u001b[1;33m[\u001b[0m\u001b[1;36m1\u001b[0m\u001b[1;33m]\u001b[0m\u001b[1;33m\u001b[0m\u001b[0m\n\u001b[1;32m---> 23\u001b[1;33m         \u001b[0moutput\u001b[0m \u001b[1;33m=\u001b[0m \u001b[1;33m[\u001b[0m\u001b[0mneuron_o\u001b[0m\u001b[1;33m(\u001b[0m\u001b[0mneuron\u001b[0m\u001b[1;33m,\u001b[0m\u001b[0minput_bias\u001b[0m\u001b[1;33m)\u001b[0m \u001b[1;32mfor\u001b[0m \u001b[0mneuron\u001b[0m \u001b[1;32min\u001b[0m \u001b[0mneural_n\u001b[0m\u001b[1;33m]\u001b[0m\u001b[1;33m\u001b[0m\u001b[0m\n\u001b[0m\u001b[0;32m     24\u001b[0m         \u001b[0mprint\u001b[0m\u001b[1;33m(\u001b[0m\u001b[0moutput\u001b[0m\u001b[1;33m)\u001b[0m\u001b[1;33m\u001b[0m\u001b[0m\n\u001b[0;32m     25\u001b[0m         \u001b[0moutputs\u001b[0m \u001b[1;33m+=\u001b[0m \u001b[0moutput\u001b[0m\u001b[1;33m\u001b[0m\u001b[0m\n",
      "\u001b[1;32m<ipython-input-10-5c5d2878bbbb>\u001b[0m in \u001b[0;36mneuron_o\u001b[1;34m(weights, inputs)\u001b[0m\n\u001b[0;32m     14\u001b[0m \u001b[1;33m\u001b[0m\u001b[0m\n\u001b[0;32m     15\u001b[0m \u001b[1;32mdef\u001b[0m \u001b[0mneuron_o\u001b[0m\u001b[1;33m(\u001b[0m\u001b[0mweights\u001b[0m\u001b[1;33m,\u001b[0m\u001b[0minputs\u001b[0m\u001b[1;33m)\u001b[0m\u001b[1;33m:\u001b[0m\u001b[1;33m\u001b[0m\u001b[0m\n\u001b[1;32m---> 16\u001b[1;33m     \u001b[1;32mreturn\u001b[0m \u001b[0msigmoid\u001b[0m\u001b[1;33m(\u001b[0m\u001b[0msum\u001b[0m\u001b[1;33m(\u001b[0m\u001b[0mnp\u001b[0m\u001b[1;33m.\u001b[0m\u001b[0mdot\u001b[0m\u001b[1;33m(\u001b[0m\u001b[0mweights\u001b[0m\u001b[1;33m,\u001b[0m\u001b[0minputs\u001b[0m\u001b[1;33m)\u001b[0m\u001b[1;33m)\u001b[0m\u001b[1;33m)\u001b[0m\u001b[1;33m\u001b[0m\u001b[0m\n\u001b[0m\u001b[0;32m     17\u001b[0m \u001b[1;33m\u001b[0m\u001b[0m\n\u001b[0;32m     18\u001b[0m \u001b[1;32mdef\u001b[0m \u001b[0mfeed_forward\u001b[0m\u001b[1;33m(\u001b[0m\u001b[0mneural_n\u001b[0m\u001b[1;33m,\u001b[0m\u001b[0minput_v\u001b[0m\u001b[1;33m)\u001b[0m\u001b[1;33m:\u001b[0m\u001b[1;31m#neural_network , input_vector,neuron_output\u001b[0m\u001b[1;33m\u001b[0m\u001b[0m\n",
      "\u001b[1;31mValueError\u001b[0m: shapes (5,26) and (1,) not aligned: 26 (dim 1) != 1 (dim 0)"
     ]
    }
   ],
   "source": [
    "#backpropagation\n",
    "def backpropagate(network ,input_v ,targets):\n",
    "    hidden_os ,os = feed_forward(network, input_v)\n",
    "    o_deltas = [o * (1-o) * (o - target) for o ,target in zip(os,targes)]\n",
    "    \n",
    "    for k ,o_neuron in enumerete(network[-1]):\n",
    "        for l , hidden_o in enumerate(hidden_o+ [1] ):\n",
    "            o_neuron[l] -= o_deltas[k] * hidden_o\n",
    "    for n ,hidden_o in enumerate(hidden_os):\n",
    "        \n",
    "        hidden_sum = np.dot(o_deltas,np.array([n[i] for n in o_layer]))\n",
    "            \n",
    "        hidden_deltas = [hidden_o *(1 - hidden_o)*  hidden_sum]\n",
    "    \n",
    "    for i , h_neuron in enumerate(neural[0]):\n",
    "        for j , inputs in enumerate(input_v + [1]):\n",
    "            h_neuron[j] -= hidden_deltas[i] * inputs\n",
    "\n",
    "zero_s = [1,1,1,1,1,1,0,0,0,1,1,0,0,0,1,1,0,0,0,1,1,1,1,1,1]\n",
    "targets =np.array([[1 if i == j else 0 for i in range(10)] for j in range(10)])\n",
    "input_size = 25\n",
    "n_hidden = 5\n",
    "o_side = 10\n",
    "import random\n",
    "hidden_layer = np.array([[random.random() for _ in range(input_size + 1)] for _ in range(n_hidden)])\n",
    "o_layer = np.array([[random.random() for _ in range(n_hidden + 1)] for _ in range(o_side)])\n",
    "network = [hidden_layer,o_layer]\n",
    "inputs = np.array(zero_s)\n",
    "\n",
    "for _ in range(100000):\n",
    "    for input_v ,target_v in zip(inputs,targets):\n",
    "        backpropagate(network,input_v,target_v)"
   ]
  }
 ],
 "metadata": {
  "kernelspec": {
   "display_name": "Python 3",
   "language": "python",
   "name": "python3"
  },
  "language_info": {
   "codemirror_mode": {
    "name": "ipython",
    "version": 3
   },
   "file_extension": ".py",
   "mimetype": "text/x-python",
   "name": "python",
   "nbconvert_exporter": "python",
   "pygments_lexer": "ipython3",
   "version": "3.6.4"
  }
 },
 "nbformat": 4,
 "nbformat_minor": 2
}
