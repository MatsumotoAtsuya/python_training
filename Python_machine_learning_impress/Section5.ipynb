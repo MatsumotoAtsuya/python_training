{
 "cells": [
  {
   "cell_type": "code",
   "execution_count": null,
   "metadata": {},
   "outputs": [],
   "source": [
    "import pandas as pd\n",
    "df_wine = pd.read_csv(\n",
    "    \"https://archive.ics.uci.edu/ml/machine-learning-databases/wine/wine.data\",\n",
    "    header=None)\n",
    "from sklearn.cross_validation import train_test_split\n",
    "from sklearn.preprocessing import StandardScaler\n",
    "X, y = df_wine.iloc[:, 1:].values, df_wine.iloc[:, 0].values\n",
    "X_train, X_test, y_train, y_test = train_test_split(\n",
    "                                X, y, test_size=0.3, stratify=y, random_state=0)\n",
    "sc = StandardScaler()\n",
    "X_train_std = sc.fit_transform(X_train)\n",
    "X_test_std = sc.transform(X_test)"
   ]
  },
  {
   "cell_type": "code",
   "execution_count": null,
   "metadata": {},
   "outputs": [],
   "source": [
    "import numpy as np\n",
    "cov_mat = np.cov(X_train_std.T)\n",
    "eigen_vals, eigen_vecs = np.linalg.eig(cov_mat)\n",
    "print(\"\\nEigenvalues \\n{}\".format(eigen_vals))\n",
    "#eigenvalues >> 固有値　eigenvectors >> 固有ベクトル\n",
    "#cov >> 共分散行列"
   ]
  },
  {
   "cell_type": "code",
   "execution_count": null,
   "metadata": {},
   "outputs": [],
   "source": [
    "tot = sum(eigen_vals)\n",
    "var_exp = [(i / tot) for i in sorted(eigen_vals, reverse=True)]\n",
    "cum_var_exp = np.cumsum(var_exp)\n",
    "import matplotlib.pyplot as plt\n",
    "#np.cumsum >> 要素の差分を足し合わせる\n",
    "plt.bar(range(1,14), var_exp, alpha=0.5, align=\"center\", label=\"individual explained variance\")\n",
    "plt.step(range(1,14), cum_var_exp, where=\"mid\", label=\"cumulative explained variance\")\n",
    "plt.ylabel(\"explained variance ratio\")\n",
    "plt.xlabel(\"principal component index\")\n",
    "plt.legend(loc=\"best\")\n",
    "plt.tight_layout()\n",
    "plt.show()\n"
   ]
  },
  {
   "cell_type": "code",
   "execution_count": null,
   "metadata": {},
   "outputs": [],
   "source": [
    "#特徴変換\n",
    "eigen_pairs = [(np.abs(eigen_vals[i]), eigen_vecs[:,i])\n",
    "              for i in range(len(eigen_vals))]\n",
    "eigen_pairs.sort(key=lambda k: k[0], reverse=True)\n",
    "#タプルを作り　代入している\n",
    "w = np.hstack((eigen_pairs[0][1][:, np.newaxis],\n",
    "               eigen_pairs[1][1][:, np.newaxis]))\n",
    "print(\"matrix W:\",w)"
   ]
  },
  {
   "cell_type": "code",
   "execution_count": null,
   "metadata": {},
   "outputs": [],
   "source": [
    "X_train_std[0].dot(w)"
   ]
  },
  {
   "cell_type": "code",
   "execution_count": null,
   "metadata": {},
   "outputs": [],
   "source": [
    "%matplotlib inline\n",
    "X_train_pca = X_train_std.dot(w)\n",
    "colors = [\"r\",\"b\",\"g\"]\n",
    "markers = [\"s\",\"x\",\"o\"]\n",
    "for l, c, m in zip(np.unique(y_train), colors, markers):\n",
    "    plt.scatter(X_train_pca[y_train==l, 0], X_train_pca[y_train==l, 1],c=c, label=l, marker=m)\n",
    "plt.xlabel(\"pc 1\")\n",
    "plt.ylabel(\"pc 2\")\n",
    "plt.legend(loc=\"lower left\")\n",
    "plt.tight_layout()\n",
    "plt.show()\n",
    "print(np.unique(y_train))"
   ]
  },
  {
   "cell_type": "code",
   "execution_count": null,
   "metadata": {},
   "outputs": [],
   "source": [
    "from matplotlib.colors import ListedColormap\n",
    "def plot_decision_regions(X, y, classifier, resolution=0.2):\n",
    "    #marker & colormap\n",
    "    markers = (\"s\",\"x\", \"o\", \"^\",\"v\")\n",
    "    colors = (\"red\", \"blue\", \"green\", \"gray\", \"cyan\")\n",
    "    cmap = ListedColormap(colors[:len(np.unique(y))])\n",
    "    \n",
    "    x1_min, x1_max = X[:, 0].min() - 1, X[:, 0].max() + 1\n",
    "    x2_min, x2_max = X[:, 1].min() - 1, X[:, 1].max() + 1\n",
    "    xx1, xx2 = np.meshgrid(np.arange(x1_min, x1_max, resolution),\n",
    "                          np.arange(x2_min, x2_max, resolution))\n",
    "    Z = classifier.predict(np.array([xx1.ravel(), xx2.ravel()]).T)\n",
    "    Z = Z.reshape(xx1.shape)\n",
    "    plt.contourf(xx1, xx2, Z, alpha=0.4, cmap=cmap)\n",
    "    plt.xlim(xx1.min(), xx1.max())\n",
    "    plt.ylim(xx2.min(), xx2.max())\n",
    "    \n",
    "    for idx, cl in enumerate(np.unique(y)):\n",
    "        plt.scatter(x=X[y == cl, 0],y=X[y == cl, 1],\n",
    "                   alpha=0.6, c=cmap(idx),\n",
    "                   edgecolor=\"black\",marker=markers[idx],\n",
    "                   label=cl)\n",
    "        \n",
    "#colormapのクラスの作成 "
   ]
  },
  {
   "cell_type": "code",
   "execution_count": null,
   "metadata": {},
   "outputs": [],
   "source": [
    "#PCA >> 主成分分析\n",
    "from sklearn.linear_model import LogisticRegression\n",
    "from sklearn.decomposition import PCA\n",
    "pca = PCA(n_components = 2)\n",
    "lr = LogisticRegression()\n",
    "X_train_pca = pca.fit_transform(X_train_std)\n",
    "X_test_pca = pca.transform(X_test_std)\n",
    "lr.fit(X_train_pca, y_train)\n",
    "plot_decision_regions(X_train_pca, y_train, classifier=lr)\n",
    "plt.xlabel(\"pc1\")\n",
    "plt.ylabel(\"pc2\")\n",
    "plt.legend(loc=\"lower left\")\n",
    "plt.tight_layout()\n",
    "plt.show()"
   ]
  },
  {
   "cell_type": "code",
   "execution_count": null,
   "metadata": {},
   "outputs": [],
   "source": [
    "plot_decision_regions(X_test_pca, y_test, classifier=lr)\n",
    "plt.xlabel(\"pc1\")\n",
    "plt.ylabel(\"pc2\")\n",
    "plt.legend(loc=\"lower left\")\n",
    "plt.tight_layout()\n",
    "plt.show()"
   ]
  },
  {
   "cell_type": "code",
   "execution_count": null,
   "metadata": {},
   "outputs": [],
   "source": [
    "pca = PCA(n_components=None)\n",
    "X_train_pca = pca.fit_transform(X_train_std)\n",
    "pca.explained_variance_ratio_"
   ]
  },
  {
   "cell_type": "code",
   "execution_count": null,
   "metadata": {},
   "outputs": [],
   "source": [
    "pca = PCA()\n",
    "X_train_pca = pca.fit_transform(X_train_std)\n",
    "pca.explained_variance_ratio_\n",
    "#当時と違いすでに自動ソートされるように実装されている"
   ]
  },
  {
   "cell_type": "code",
   "execution_count": null,
   "metadata": {},
   "outputs": [],
   "source": [
    "#線形判別分析　データ圧縮\n",
    "np.set_printoptions(precision=4)\n",
    "mean_vecs = []\n",
    "for label in range(1,4):\n",
    "    mean_vecs.append(np.mean(X_train_std[y_train==label], axis=0))\n",
    "    print(\"mv{},{}\".format(label, mean_vecs[label-1]))"
   ]
  },
  {
   "cell_type": "code",
   "execution_count": null,
   "metadata": {},
   "outputs": [],
   "source": [
    "d = 13 \n",
    "S_W = np.zeros((d,d))\n",
    "for label, mv in zip(range(1,4), mean_vecs):\n",
    "    #label >> 1~3\n",
    "    class_scatter = np.zeros((d,d))\n",
    "    for row in X_train_std[y_train == label]:\n",
    "        row, mv = row.reshape(d, 1), mv.reshape(d, 1)\n",
    "        #row ,mv >> 13 X 1 の　matrix\n",
    "        class_scatter += (row - mv).dot((row - mv).T)\n",
    "    S_W += class_scatter\n",
    "print(\"scaled within-class scatter matrix,{},{}\".format(S_W.shape[0], S_W.shape[1]))"
   ]
  },
  {
   "cell_type": "code",
   "execution_count": null,
   "metadata": {},
   "outputs": [],
   "source": [
    "print(\"class label distribution:{}\".format(np.bincount(y_train)[1:]))"
   ]
  },
  {
   "cell_type": "code",
   "execution_count": null,
   "metadata": {},
   "outputs": [],
   "source": [
    "d = 13\n",
    "S_W = np.zeros((d, d))\n",
    "for label, mv in zip(range(1, 4), mean_vecs):\n",
    "    class_scatter = np.cov(X_train_std[y_train==label].T)\n",
    "    S_W += class_scatter\n",
    "print(\"scaled within-class scatter matrix {}x{}\".format(S_W.shape[0], S_W.shape[1]))"
   ]
  },
  {
   "cell_type": "code",
   "execution_count": null,
   "metadata": {},
   "outputs": [],
   "source": [
    "mean_overall = np.mean(X_train_std, axis=0)\n",
    "d = 13\n",
    "S_B = np.zeros((d,d))\n",
    "for i, mean_vec in enumerate(mean_vecs):\n",
    "    n = X_train[y_train == i +1, :].shape[0]\n",
    "    mean_vec = mean_vec.reshape(d, 1)\n",
    "    mean_oveall = mean_overall.reshape(d, 1)\n",
    "    S_B += n * (mean_vec - mean_overall).dot((mean_vec - mean_overall).T)\n",
    "print(\"between-class scatter {}X{}\".format(S_B.shape[0], S_B.shape[1]))"
   ]
  },
  {
   "cell_type": "code",
   "execution_count": null,
   "metadata": {},
   "outputs": [],
   "source": [
    "eigen_vals, eigen_vecs = np.linalg.eig(np.linalg.inv(S_W).dot(S_B))\n",
    "print(eigen_vals, eigen_vecs)"
   ]
  },
  {
   "cell_type": "code",
   "execution_count": null,
   "metadata": {},
   "outputs": [],
   "source": [
    "eigen_pairs = [(np.abs(eigen_vals[i]), eigen_vecs[:, i])\n",
    "               for i in range(len(eigen_vals))]\n",
    "#np.abs >> 絶対値　absolute \n",
    "eigen_pairs = sorted(eigen_pairs, key=lambda k: k[0], reverse=True)\n",
    "for eigen_val in eigen_pairs:\n",
    "    print(eigen_val[0])"
   ]
  },
  {
   "cell_type": "code",
   "execution_count": null,
   "metadata": {},
   "outputs": [],
   "source": [
    "tot = sum(eigen_vals.real)\n",
    "discr = [(i/tot) for i in sorted(eigen_vals.real, reverse=True)]\n",
    "cum_discr = np.cumsum(discr)\n",
    "#discrimity >> 判別性（固有ベクトルの大きさの順番）\n",
    "plt.bar(range(1, 14), discr, alpha=0.5, align=\"center\", label=\"individal discrimity\")\n",
    "plt.step(range(1, 14), cum_discr, where=\"mid\", label=\"cumulative discrimity\")\n",
    "plt.ylabel(\"discriminability ratio\")\n",
    "plt.xlabel(\"Liner Discrimination\")\n",
    "plt.ylim([-0.1, 1.1])\n",
    "plt.legend(loc=\"best\")\n",
    "plt.tight_layout()\n",
    "plt.show()"
   ]
  },
  {
   "cell_type": "code",
   "execution_count": null,
   "metadata": {},
   "outputs": [],
   "source": [
    "w = np.hstack((eigen_pairs[0][1][:, np.newaxis].real,\n",
    "              eigen_pairs[1][1][:, np.newaxis].real))\n",
    "print (\"matrix W:\\n\", w)"
   ]
  },
  {
   "cell_type": "code",
   "execution_count": null,
   "metadata": {},
   "outputs": [],
   "source": [
    "X_train_ida = X_train_std.dot(w)\n",
    "colors = [\"r\", \"b\", \"g\"]\n",
    "markers = [\"s\",\"x\",\"o\"]\n",
    "for l, c, m in zip(np.unique(y_train), colors, markers):\n",
    "    plt.scatter(X_train_ida[y_train==l, 0],\n",
    "               X_train_ida[y_train==l, 1] * (-1),#1 l の九月をしっかりスる。\n",
    "               c=c , label=l, marker=m)\n",
    "plt.xlabel(\"ld 1\")\n",
    "plt.ylabel(\"ld 2\")\n",
    "plt.tight_layout()\n",
    "plt.legend(loc=\"upper right\")\n",
    "plt.show()\n",
    "#print(X_train_ida,y_train)"
   ]
  },
  {
   "cell_type": "code",
   "execution_count": null,
   "metadata": {},
   "outputs": [],
   "source": [
    "#PVA + karneltric\n",
    "from scipy.spatial.distance import pdist, squareform\n",
    "from scipy import exp\n",
    "from scipy.linalg import eigh\n",
    "import numpy as np\n",
    "def rbf_kernel_pca(X, gamma, n_components):\n",
    "    #gamma >> tuninng papamator\n",
    "    #n_componexts >> 主成分の個数\n",
    "    #X_pc >> 射影データ\n",
    "    sq_dists = pdist(X, \"sqeuclidean\")\n",
    "    #ユークリッド距離の指定\n",
    "    mat_sq_dists = squareform(sq_dists)\n",
    "    #実際の計算\n",
    "    K = exp(-gamma * mat_sq_dists)\n",
    "    N = K.shape[0]\n",
    "    one_n = np.ones((N,N)) / N\n",
    "    K = K - one_n.dot(K) - K.dot(one_n) + one_n.dot(K).dot(one_n)\n",
    "    eigvals, eigvecs = eigh(K)\n",
    "    eigvals, eigvecs= eigvals[::-1], eigvecs[:,::-1]\n",
    "    #順番の入れ替え\n",
    "    X_pc = np.column_stack((eigvecs[:,i] for i in range(n_components)))\n",
    "    return X_pc\n",
    "    "
   ]
  },
  {
   "cell_type": "code",
   "execution_count": null,
   "metadata": {},
   "outputs": [],
   "source": [
    "from sklearn.datasets import make_moons\n",
    "X, y = make_moons(n_samples=100, random_state=123)\n",
    "plt.scatter(X[y==0, 0], X[y==0, 1], color=\"red\", marker=\"^\", alpha=0.5)\n",
    "plt.scatter(X[y==1, 0], X[y==1, 1], color=\"blue\",marker=\"o\", alpha=0.5)\n",
    "plt.tight_layout()\n",
    "plt.show()\n",
    "#線形分離不可能"
   ]
  },
  {
   "cell_type": "code",
   "execution_count": null,
   "metadata": {},
   "outputs": [],
   "source": [
    "from sklearn.decomposition import PCA \n",
    "scikit_pca = PCA(n_components=2)\n",
    "X_spca = scikit_pca.fit_transform(X)\n",
    "fig, ax = plt.subplots(nrows=1, ncols=2, figsize=(7, 3))\n",
    "ax[0].scatter(X_spca[y==0, 0], X_spca[y==0, 1],\n",
    "             color=\"red\", marker=\"^\", alpha=0.5)\n",
    "ax[0].scatter(X_spca[y==1, 0], X_spca[y==1, 1],\n",
    "             color=\"red\", marker=\"^\", alpha=0.5)\n",
    "ax[1].scatter(X_spca[y==0, 0], np.zeros((50,1))+0.02,\n",
    "             color=\"red\", marker=\"^\", alpha=0.5)\n",
    "ax[1].scatter(X_spca[y==1, 0], np.zeros((50,1))-0.02,\n",
    "             color=\"blue\", marker=\"o\", alpha=0.5)\n",
    "ax[0].set_xlabel(\"PC1\")\n",
    "ax[0].set_ylabel(\"PC2\")\n",
    "ax[1].set_ylim([-1, 1])\n",
    "ax[1].set_yticks([])\n",
    "plt.tight_layout()\n",
    "plt.show()"
   ]
  },
  {
   "cell_type": "code",
   "execution_count": null,
   "metadata": {
    "scrolled": false
   },
   "outputs": [],
   "source": [
    "from matplotlib.ticker import FormatStrFormatter\n",
    "X_kpca = rbf_kernel_pca(X, gamma=15, n_components=2)\n",
    "fig, ax = plt.subplots(nrows=1, ncols=2, figsize=(7,3))\n",
    "ax[0].scatter(X_kpca[y==0, 0], X_kpca[y==0, 1],\n",
    "             color=\"red\", marker=\"^\", alpha=0.5)\n",
    "ax[0].scatter(X_kpca[y==1, 0], X_kpca[y==1, 1],\n",
    "             color=\"blue\", marker=\"o\", alpha=0.5)\n",
    "ax[1].scatter(X_kpca[y==0, 0], np.zeros((50,1))+0.02,\n",
    "             color=\"red\", marker=\"^\", alpha=0.5)\n",
    "ax[1].scatter(X_kpca[y==1, 0], np.zeros((50,1))-0.02,\n",
    "             color=\"blue\", marker=\"o\", alpha=0.5)\n",
    "ax[0].set_xlabel(\"pc1\")\n",
    "ax[0].set_ylabel(\"pc2\")\n",
    "ax[1].set_yticks([])\n",
    "ax[1].set_ylim([-1,1])\n",
    "ax[1].set_xlabel(\"pc1\")\n",
    "plt.show()\n"
   ]
  },
  {
   "cell_type": "code",
   "execution_count": null,
   "metadata": {},
   "outputs": [],
   "source": [
    "from sklearn.datasets import make_circles\n",
    "X, y =make_circles(n_samples=1000, random_state=123, noise=0.1, factor=0.2)\n",
    "plt.scatter(X[y==0, 0], X[y==0, 1], color=\"red\", marker=\"^\", alpha=0.5)\n",
    "plt.scatter(X[y==1, 0], X[y==1, 1], color=\"blue\", marker=\"o\", alpha=0.5)\n",
    "plt.tight_layout()\n",
    "plt.show()"
   ]
  },
  {
   "cell_type": "code",
   "execution_count": null,
   "metadata": {},
   "outputs": [],
   "source": [
    "scikit_pca = PCA(n_components=2)\n",
    "X_pca = scikit_pca.fit_transform(X)\n",
    "fig, ax = plt.subplots(nrows=1, ncols=2, figsize=(7,3))\n",
    "ax[0].scatter(X_pca[y==0, 0],X_pca[y==0, 1],\n",
    "             color=\"red\", marker=\"^\", alpha=0.5)\n",
    "ax[0].scatter(X_pca[y==1, 0],X_pca[y==1, 1],\n",
    "             color=\"blue\", marker=\"o\", alpha=0.5)\n",
    "ax[1].scatter(X_pca[y==0, 0], np.zeros((500,1))+0.02,\n",
    "             color=\"red\", marker=\"^\", alpha=0.5)\n",
    "ax[1].scatter(X_pca[y==1, 0], np.zeros((500,1))-0.02,\n",
    "             color=\"blue\", marker=\"o\", alpha=0.5)\n",
    "ax[0].set_xlabel(\"pc1\")\n",
    "ax[0].set_ylabel(\"pc2\")\n",
    "ax[1].set_xlabel(\"pc1\")\n",
    "ax[1].set_ylim([-1,1])\n",
    "ax[1].set_yticks([])\n",
    "plt.tight_layout()\n",
    "plt.show()"
   ]
  },
  {
   "cell_type": "code",
   "execution_count": null,
   "metadata": {},
   "outputs": [],
   "source": [
    "X_kpca = rbf_kernel_pca(X, gamma=15,n_components=2)\n",
    "fig, ax = plt.subplots(nrows=1, ncols=2, figsize=(7,3))\n",
    "ax[0].scatter(X_kpca[y==0, 0],X_kpca[y==0, 1],\n",
    "             color=\"red\", marker=\"^\", alpha=0.5)\n",
    "ax[0].scatter(X_kpca[y==1, 0],X_kpca[y==1, 1],\n",
    "             color=\"blue\", marker=\"o\", alpha=0.5)\n",
    "ax[1].scatter(X_kpca[y==0, 0], np.zeros((500,1))+0.02,\n",
    "             color=\"red\", marker=\"^\", alpha=0.5)\n",
    "ax[1].scatter(X_kpca[y==1, 0], np.zeros((500,1))-0.02,\n",
    "             color=\"blue\", marker=\"o\", alpha=0.5)\n",
    "ax[0].set_xlabel(\"pc1\")\n",
    "ax[0].set_ylabel(\"pc2\")\n",
    "ax[1].set_xlabel(\"pc1\")\n",
    "ax[1].set_ylim([-1,1])\n",
    "ax[1].set_yticks([])\n",
    "plt.tight_layout()\n",
    "plt.show()"
   ]
  },
  {
   "cell_type": "code",
   "execution_count": null,
   "metadata": {},
   "outputs": [],
   "source": [
    "from scipy.spatial.distance import pdist, squareform\n",
    "from scipy import exp\n",
    "import numpy as np\n",
    "def rbf_kernel_pca(X, gamma, n_components):\n",
    "    sq_dists = pdist(X, \"sqeuclidean\")\n",
    "    mat_sq_dists = squareform(sq_dists)\n",
    "    K = exp(-gamma * mat_sq_dists)\n",
    "    N = K.shape[0]\n",
    "    one_n = np.ones((N,N)) / N\n",
    "    K = K - one_n.dot(K) - K.dot(one_n) - one_n.dot(K) + one_n.dot(K).dot(one_n)\n",
    "    eigvals, eigvecs = eigh(K)\n",
    "    eigvals, eigvecs =eigvals[::-1], eigvecs[:,::-1]\n",
    "    alphas = np.column_stack((eigvecs[:,i] for i in range(n_components)))\n",
    "    lambdas = [eigvals[i] for i in range(n_components)]\n",
    "    return alphas, lambdas\n"
   ]
  },
  {
   "cell_type": "code",
   "execution_count": null,
   "metadata": {
    "scrolled": true
   },
   "outputs": [],
   "source": [
    "X, y =make_moons(n_samples=100, random_state=123)\n",
    "alphas, lambdas = rbf_kernel_pca(X, gamma=15, n_components=1)\n",
    "print(alphas[:5], lambdas)"
   ]
  },
  {
   "cell_type": "code",
   "execution_count": null,
   "metadata": {},
   "outputs": [],
   "source": [
    "x_new = X[25]\n",
    "print(x_new)\n",
    "x_proj = alphas[25]\n",
    "print(x_proj)\n",
    "def project_x(x_new, X, gamma, alphas, lambdas):\n",
    "    pair_dict = np.array([np.sum((x_new-row)**2) for row in X])\n",
    "    k = np.exp(-gamma*pair_dict)\n",
    "    return k.dot(alphas / lambdas)"
   ]
  },
  {
   "cell_type": "code",
   "execution_count": null,
   "metadata": {},
   "outputs": [],
   "source": [
    "x_reproj = project_x(x_new, X, gamma=15, alphas=alphas, lambdas=lambdas)\n",
    "x_reproj"
   ]
  },
  {
   "cell_type": "code",
   "execution_count": null,
   "metadata": {},
   "outputs": [],
   "source": [
    "plt.scatter(X[y==0, 0],np.zeros((50)), color=\"red\", marker=\"^\", alpha=0.5)\n",
    "plt.scatter(X[y==1, 0],np.zeros((50)), color=\"blue\", marker=\"o\", alpha=0.5)\n",
    "plt.scatter(x_proj, 0, color=\"black\", label=\"original X[25]\",\n",
    "           marker=\"^\", s=500)\n",
    "plt.scatter(x_reproj, 0, color=\"green\", label=\"remapped X[25]\",\n",
    "           marker=\"x\", s=500)\n",
    "plt.legend(scatterpoints=1)\n",
    "plt.tight_layout()\n",
    "plt.show()\n"
   ]
  },
  {
   "cell_type": "code",
   "execution_count": null,
   "metadata": {
    "scrolled": true
   },
   "outputs": [],
   "source": [
    "from sklearn.decomposition import KernelPCA\n",
    "X, y = make_moons(n_samples=100, random_state=123)\n",
    "scikit_kpca = KernelPCA(n_components=2, kernel=\"rbf\", gamma=15)\n",
    "X_kernelpca = scikit_kpca.fit_transform(X)\n",
    "plt.scatter(X_kernelpca[y==0, 0], X_kernelpca[y==0, 1],\n",
    "           color=\"red\", marker=\"^\", alpha=0.5)\n",
    "plt.scatter(X_kernelpca[y==1, 0], X_kernelpca[y==1, 1],\n",
    "           color=\"blue\", marker=\"o\", alpha=0.5)\n",
    "plt.xlabel(\"pc1\")\n",
    "plt.ylabel(\"pc2\")\n",
    "plt.tight_layout()\n",
    "plt.show()"
   ]
  }
 ],
 "metadata": {
  "kernelspec": {
   "display_name": "Python 3",
   "language": "python",
   "name": "python3"
  },
  "language_info": {
   "codemirror_mode": {
    "name": "ipython",
    "version": 3
   },
   "file_extension": ".py",
   "mimetype": "text/x-python",
   "name": "python",
   "nbconvert_exporter": "python",
   "pygments_lexer": "ipython3",
   "version": "3.6.4"
  }
 },
 "nbformat": 4,
 "nbformat_minor": 2
}
