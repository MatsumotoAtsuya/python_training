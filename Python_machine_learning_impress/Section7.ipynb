{
 "cells": [
  {
   "cell_type": "code",
   "execution_count": null,
   "metadata": {},
   "outputs": [],
   "source": [
    "#ensamble method\n",
    "from scipy.special import comb\n",
    "#comb 二項演算子　組み合わせのやつ\n",
    "import math\n",
    "def ensamble_error(n_classifier, error):\n",
    "    k_start = int(math.ceil(n_classifier / 2.0))\n",
    "    probs = [comb(n_classifier, k)* \n",
    "            error**k * (1-error)**(n_classifier-k)\n",
    "            for k in range(k_start, n_classifier+1)]\n",
    "    return sum(probs)\n",
    "ensamble_error(n_classifier=11, error=0.25)"
   ]
  },
  {
   "cell_type": "code",
   "execution_count": null,
   "metadata": {},
   "outputs": [],
   "source": [
    "import numpy as np\n",
    "import matplotlib.pyplot as plt\n",
    "error_range = np.arange(0.0, 1.01, 0.01)\n",
    "ens_errors = [ensamble_error(n_classifier=11, error=error) \n",
    "             for error in error_range]\n",
    "\n",
    "plt.plot(error_range, ens_errors, label=\"ensamble errors\", linewidth=2)\n",
    "plt.plot(error_range, error_range, label=\"base error\", linestyle=\"--\", linewidth=2)\n",
    "plt.xlabel(\"base error\")\n",
    "plt.ylabel(\"base / ensamble error\")\n",
    "plt.legend(loc=\"upper left\")\n",
    "plt.grid(alpha=0.3)\n",
    "plt.show()"
   ]
  },
  {
   "cell_type": "code",
   "execution_count": null,
   "metadata": {},
   "outputs": [],
   "source": [
    "#多数決分類気\n",
    "import numpy as np\n",
    "#np.bincount >> array中の各々の整数の数の個数を合計したarrayを作る\n",
    "# from random import shuffle\n",
    "# X = np.arange(1,10).tolist()\n",
    "# shuffle(X)\n",
    "# print(X, np.bincount(np.array(X))) >>> [9, 5, 1, 7, 3, 8, 2, 4, 6] [0 1 1 1 1 1 1 1 1 1]\n",
    "np.argmax(np.bincount([0, 0, 1], weights=[0.2, 0.2, 0.6]))\n",
    "# np.bincount([0, 0, 1],weights=[0.2, 0.2, 0.6]) >> [0.4, 0.6]\n"
   ]
  },
  {
   "cell_type": "code",
   "execution_count": null,
   "metadata": {},
   "outputs": [],
   "source": [
    "ex = np.array([[0.9, 0.1],\n",
    "              [0.8, 0.2],\n",
    "              [0.4, 0.6]])\n",
    "p = np.average(ex, axis=0, weights=[0.2, 0.2, 0.6])\n",
    "p"
   ]
  },
  {
   "cell_type": "code",
   "execution_count": null,
   "metadata": {},
   "outputs": [],
   "source": [
    "from sklearn.base import BaseEstimator\n",
    "from sklearn.base import ClassifierMixin\n",
    "from sklearn.preprocessing import LabelEncoder\n",
    "from sklearn.externals import six\n",
    "from sklearn.base import clone\n",
    "from sklearn.pipeline import _name_estimators\n",
    "import numpy as np\n",
    "import operator \n",
    "#sklearn.base >> scikitlearning の　base class が　baseestimator\n",
    "#classifiermaxin >> 　class の　継承により働くclass\n",
    "#label encoder >> いろんなものを　分類数に応じて変換するもの\n",
    "#externals >> I/O の制御をする\n",
    "#_name_estimator >> 不明\n",
    "#operator >> 組み込み関数の制御\n",
    "\n",
    "class MajorityVoteClassifier(BaseEstimator, ClassifierMixin):\n",
    "    \n",
    "    def __init__(self, classifiers, vote=\"classlabel\", weights=None):\n",
    "        self.classifiers = classifiers\n",
    "        self.named_classifiers = {key: value for key, value in _name_estimators(classifiers)}\n",
    "        self.vote = vote\n",
    "        self.weights = weights\n",
    "        \n",
    "    def fit(self, X, y):\n",
    "        self.labelenc = LabelEncoder()\n",
    "        self.labelenc.fit(y)\n",
    "        self.classes = self.labelenc.classes_\n",
    "        self._classifiers = []\n",
    "        for clf in self.classifiers:\n",
    "            fitted_clf = clone(clf).fit(X, self.labelenc.transform(y))\n",
    "            self._classifiers.append(fitted_clf)\n",
    "        return self\n",
    "        \n",
    "\n",
    "    def predict(self, X):\n",
    "        #class label の予測\n",
    "        if self.vote == \"probability\":\n",
    "            maj_vote = np.maxarg(self.predict_proba(X), axis=1)\n",
    "        else:\n",
    "            predictions = np.asarray([clf.predict(X) for clf in self._classifiers]).T\n",
    "            maj_vote = np.apply_along_axis(lambda x: np.argmax(np.bincount(x)),\n",
    "                                          axis=1, arr=predictions) \n",
    "            maj_vote = self.labelenc.inverse_transform(maj_vote)\n",
    "            return maj_vote\n",
    "    #asarray >> nandarray のコピーを作るかどうか\n",
    "    def predict_proba(self, X):\n",
    "        probas = np.asarray([clf.predict_proba(X) for clf in self._classifiers])\n",
    "        avg_proba = np.average(probas, axis=0, weights=self.weights)\n",
    "        return avg_proba\n",
    "    \n",
    "    def get_params(self, deep=True):\n",
    "        if not deep:\n",
    "            return super(MajorityVoteClassifier, self).get_params(deep=False)\n",
    "        else:\n",
    "            out = self.named_classifiers.copy()\n",
    "            for name, step in six.iteritems(self.named_classifiers):\n",
    "                for key, value in six.iteritems(step.get_params(deep=True)):\n",
    "                    out[\"{}__{}\".format(name, value)] = value\n",
    "            return  out\n",
    "                "
   ]
  },
  {
   "cell_type": "code",
   "execution_count": null,
   "metadata": {},
   "outputs": [],
   "source": [
    "from sklearn import datasets\n",
    "from sklearn.model_selection import train_test_split\n",
    "from sklearn.preprocessing import StandardScaler\n",
    "from sklearn.preprocessing import LabelEncoder\n",
    "iris = datasets.load_iris()\n",
    "X, y = iris.data[50:, [1, 2]], iris.target[50:]\n",
    "le = LabelEncoder()\n",
    "y = le.fit_transform(y)\n",
    "print(X[:10])"
   ]
  },
  {
   "cell_type": "code",
   "execution_count": null,
   "metadata": {
    "scrolled": true
   },
   "outputs": [],
   "source": [
    "X_train, X_test, y_train, y_test = \\\n",
    "        train_test_split(X, y, test_size=0.5, random_state=1, stratify=y)\n",
    "from sklearn.model_selection import cross_val_score\n",
    "from sklearn.linear_model import LogisticRegression\n",
    "from sklearn.tree import DecisionTreeClassifier\n",
    "from sklearn.neighbors import KNeighborsClassifier\n",
    "from sklearn.pipeline import Pipeline\n",
    "import numpy as np\n",
    "clf1 = LogisticRegression(penalty=\"l2\", C=0.001, random_state=1)\n",
    "clf2 = DecisionTreeClassifier(max_depth=1, criterion=\"entropy\", random_state=1)\n",
    "clf3 = KNeighborsClassifier(n_neighbors=1, p=2, metric=\"minkowski\")\n",
    "pipe1 = Pipeline([[\"sc\", StandardScaler()], [\"clf\", clf1]])\n",
    "pipe3 = Pipeline([[\"sc\", StandardScaler()], [\"clf\", clf3]])\n",
    "clf_labels = [\"Logistic Regression\", \"Decision tree\", \"KNN\"]\n",
    "print(\"10 fold classfier: \\n\")\n",
    "for clf, label in zip([pipe1, clf2, pipe3], clf_labels):\n",
    "    scores = cross_val_score(estimator=clf, X=X_train, y=y_train, cv=10, scoring=\"roc_auc\")\n",
    "    print(\"roc_auc:{} +- {} {}\".format(scores.mean(), scores.std(), label))\n",
    "    "
   ]
  },
  {
   "cell_type": "code",
   "execution_count": null,
   "metadata": {},
   "outputs": [],
   "source": [
    "mv_clf = MajorityVoteClassifier(classifiers=[pipe1, clf2, pipe3])\n",
    "clf_labels += [\"majority voting\"]\n",
    "all_clf = [pipe1, clf2, pipe3, mv_clf]\n",
    "for clf, label in zip(all_clf, clf_labels):\n",
    "    scores = cross_val_score(estimator=clf, X=X_train, y=y_train, cv=10, scoring=\"roc_auc\")\n",
    "    print(\"roc auc: {} +- {} {}\".format(scores.mean(), scores.std(), label))"
   ]
  },
  {
   "cell_type": "code",
   "execution_count": null,
   "metadata": {},
   "outputs": [],
   "source": [
    "#ensamble classifier のチューニングと評価\n",
    "from sklearn.metrics import roc_curve\n",
    "from sklearn.metrics import auc\n",
    "#auc >> roc曲線下の面積\n",
    "colors = [\"black\", \"orange\", \"blue\", \"green\"]\n",
    "linestyles = [\":\", \"--\", \"-.\", \"-\"]\n",
    "for clf, label, clr, ls in zip(all_clf, clf_labels, colors, linestyles):\n",
    "    y_pred = clf.fit(X_train, y_train).predict_proba(X_test)[:, 1]\n",
    "    fpr, tpr, thresholds = roc_curve(y_true=y_test, y_score=y_pred)\n",
    "    roc_auc = auc(x=fpr, y=tpr)\n",
    "    plt.plot(fpr, tpr, color=clr, linestyle=ls, label=\"{} (auc = {})\".format(label, roc_auc))\n",
    "\n",
    "plt.legend(loc=\"lower right\")\n",
    "plt.plot([0, 1], [0, 1], linestyle=\"--\", color=\"gray\", linewidth=2)\n",
    "plt.xlim([-0.1, 1.1])\n",
    "plt.ylim([-0.1, 1.1])\n",
    "plt.xlabel(\"FPR\")\n",
    "plt.ylabel(\"TPR\")\n",
    "plt.grid(alpha=0.5)\n",
    "plt.show()"
   ]
  },
  {
   "cell_type": "code",
   "execution_count": null,
   "metadata": {},
   "outputs": [],
   "source": [
    "sc = StandardScaler()\n",
    "X_train_std = sc.fit_transform(X_train)\n",
    "from itertools import product\n",
    "#2つ以上ののリストをうまくタプルにして、組み合わせて表示する！\n",
    "X_min = X_train_std[:, 0].min() - 1\n",
    "X_max = X_train_std[:, 0].max() + 1\n",
    "y_min = X_train_std[:, 1].min() - 1\n",
    "y_max = X_train_std[:, 1].max() + 1\n",
    "#描画するサイズの決定\n",
    "xx, yy = np.meshgrid(np.arange(X_min, X_max, 0.1), np.arange(y_min, y_max, 0.1))\n",
    "f, axarr = plt.subplots(nrows=2, ncols=2, sharex=\"col\", sharey=\"row\", figsize=(7,5))\n",
    "print(f, axarr)\n",
    "for idx, clf, tt in zip(product([0, 1], [0, 1]), all_clf, clf_labels):\n",
    "    clf.fit(X_train_std, y_train)\n",
    "    Z = clf.predict(np.c_[xx.ravel(), yy.ravel()])\n",
    "    Z = Z.reshape(xx.shape)\n",
    "    axarr[idx[0], idx[1]].contourf(xx, yy, Z, alpha=0.3)\n",
    "    axarr[idx[0], idx[1]].scatter(X_train_std[y_train==0, 0],\n",
    "                                 X_train_std[y_train==0, 1],\n",
    "                                 c=\"blue\", marker=\"^\", s=50)\n",
    "    axarr[idx[0], idx[1]].scatter(X_train_std[y_train==1, 0],\n",
    "                                 X_train_std[y_train==1, 1],\n",
    "                                 c=\"green\", marker=\"o\", s=50)\n",
    "    axarr[idx[0], idx[1]].set_title(tt)\n",
    "plt.text(-3.5, -5, s=\"sepal width\", ha=\"center\", va=\"center\", fontsize=12)\n",
    "plt.text(-12.5, 4.5, s=\"sepal length\", ha=\"center\", va=\"center\", fontsize=12, rotation=90)\n",
    "plt.show() \n",
    "    "
   ]
  },
  {
   "cell_type": "code",
   "execution_count": null,
   "metadata": {},
   "outputs": [],
   "source": [
    "mv_clf.get_params()"
   ]
  },
  {
   "cell_type": "code",
   "execution_count": null,
   "metadata": {},
   "outputs": [],
   "source": [
    "from sklearn.model_selection import GridSearchCV\n",
    "params = {\"decisiontreeclassifier__max_depth\":[1, 2],\n",
    "         \"pipeline-1__clf__C\":[0.01, 1.0, 100.0]}\n",
    "grid = GridSearchCV(estimator=mv_clf, param_grid=params, cv=10, scoring=\"roc_auc\")\n",
    "grid.fit(X_train, y_train)"
   ]
  },
  {
   "cell_type": "code",
   "execution_count": null,
   "metadata": {},
   "outputs": [],
   "source": [
    "for r, _ in enumerate(grid.cv_results_[\"mean_test_score\"]):\n",
    "    print(\"{} +- {} {}\".format(grid.cv_results_[\"mean_test_score\"][r],\n",
    "                              grid.cv_results_[\"std_test_score\"][r] / 2.0,\n",
    "                              grid.cv_results_[\"params\"][r]))"
   ]
  },
  {
   "cell_type": "code",
   "execution_count": null,
   "metadata": {},
   "outputs": [],
   "source": [
    "print(\"best params:{}\".format(grid.best_params_))\n",
    "print(\"accuracy:{}\".format(grid.best_score_))"
   ]
  },
  {
   "cell_type": "code",
   "execution_count": null,
   "metadata": {},
   "outputs": [],
   "source": [
    "#bagging\n",
    "#trainingsample >> 複数に分ける。それぞれで決定木を成長させ、多数決をとる。\n",
    "import pandas as pd\n",
    "df_wine = pd.read_csv(\"https://archive.ics.uci.edu/ml/machine-learning-databases/wine/wine.data\", header=None)\n",
    "df_wine.columns = [\"Class label\", \"Alcohole\", \"Malic acid\", \"Ash\", \"Alcalinity of ash\",\n",
    "                   \"Magnesium\", \"Total phenols\", \"Flavanoids\", \"Nonflavanoid phenols\",\n",
    "                  \"Proanthocyanins\", \"Color intensity\", \"Hue\", \"OD280/OD315 of diluted wines\",\n",
    "                  \"Proline\"]\n",
    "df_wine = df_wine[df_wine[\"Class label\"] != 1]\n",
    "y = df_wine[\"Class label\"].values\n",
    "X = df_wine[[\"Alcohole\", \"OD280/OD315 of diluted wines\"]].values\n",
    "from sklearn.preprocessing import LabelEncoder\n",
    "from sklearn.model_selection import train_test_split\n",
    "le = LabelEncoder()\n",
    "y = le.fit_transform(y)\n",
    "X_train, X_teat, y_train, y_teat = train_test_split(X, y, test_size=0.2, random_state=1, stratify=y)"
   ]
  },
  {
   "cell_type": "code",
   "execution_count": null,
   "metadata": {},
   "outputs": [],
   "source": [
    "from sklearn.ensemble import BaggingClassifier\n",
    "tree = DecisionTreeClassifier(criterion=\"entropy\", max_depth=None, random_state=1)\n",
    "bag = BaggingClassifier(base_estimator=tree, n_estimators=500, max_samples=1.0,\n",
    "                       max_features=1.0, bootstrap=True, bootstrap_features=False,\n",
    "                       n_jobs=1, random_state=1)"
   ]
  },
  {
   "cell_type": "code",
   "execution_count": null,
   "metadata": {},
   "outputs": [],
   "source": [
    "from sklearn.metrics import accuracy_score\n",
    "tree = tree.fit(X_train, y_train)\n",
    "y_train_pred = tree.predict(X_train)\n",
    "y_test_pred = tree.predict(X_test)\n",
    "tree_train = accuracy_score(y_train, y_train_pred)\n",
    "tree_test = accuracy_score(y_test, y_test_pred)\n",
    "print(\"decision tree train/test accuracies {} / {}\".format(tree_train, tree_test))"
   ]
  },
  {
   "cell_type": "code",
   "execution_count": null,
   "metadata": {},
   "outputs": [],
   "source": [
    "bag = bag.fit(X_train, y_train)\n",
    "y_trian_pred = bag.predict(X_train)\n",
    "y_test_pred = bag.predict(X_test)\n",
    "bag_train = accuracy_score(y_train, y_train_pred)\n",
    "bag_test = accuracy_score(y_true=y_test, y_pred=y_test_pred)\n",
    "print(bag_test)\n",
    "print(\"bagging train/test accuracies {} / {}\".format(bag_train, bag_test))"
   ]
  },
  {
   "cell_type": "code",
   "execution_count": null,
   "metadata": {},
   "outputs": [],
   "source": [
    "X_min = X_train[:, 0].min() - 1\n",
    "X_max = X_train[:, 0].max() + 1\n",
    "y_min = X_train[:, 1].min() - 1\n",
    "y_max = X_train[:, 1].max() + 1\n",
    "xx, yy = np.meshgrid(np.arange(X_min, X_max, 0.1),\n",
    "                    np.arange(y_min, y_max, 0.1))\n",
    "f, axarr = plt.subplots(nrows=1, ncols=2, sharex=\"row\", sharey=\"col\", figsize=(8, 3))\n",
    "for ind, clf, tt  in zip([0, 1], [tree, bag], [\"decision tree\", \"bagging\"]):\n",
    "    clf.fit(X_train, y_train)\n",
    "    Z = clf.predict(np.c_[xx.ravel(), yy.ravel()])\n",
    "    Z = Z.reshape(xx.shape)\n",
    "    axarr[ind].contourf(xx, yy, Z, alpha=0.3)\n",
    "    axarr[ind].scatter(X_train[y_train==0, 0],\n",
    "                      X_train[y_train==0, 1], c=\"blue\", marker=\"^\")\n",
    "    axarr[ind].scatter(X_train[y_train==1, 0],\n",
    "                      X_train[y_train==1, 1], c=\"green\", marker=\"o\")\n",
    "    axarr[ind].set_title(tt)\n",
    "    \n",
    "axarr[0].set_ylabel(\"Alcohole\", fontsize=12)\n",
    "plt.text(10.2, -0.5, s=\"OD280/OD315 of diluted wines\", ha=\"center\", va=\"center\", fontsize=12)\n",
    "plt.tight_layout()\n",
    "plt.show()\n",
    "                     "
   ]
  },
  {
   "cell_type": "code",
   "execution_count": null,
   "metadata": {},
   "outputs": [],
   "source": [
    "#ensemble>>>boosting>>>adaboost\n",
    "from sklearn.ensemble import AdaBoostClassifier\n",
    "tree = DecisionTreeClassifier(criterion=\"entropy\", max_depth=1, random_state=1)\n",
    "ada = AdaBoostClassifier(base_estimator=tree, n_estimators=500, learning_rate=0.1,\n",
    "                        random_state=1)\n",
    "tree = tree.fit(X_train, y_train)\n",
    "y_train_pred = tree.predict(X_train)\n",
    "y_test_pred = tree.predict(X_test)\n",
    "tree_train = accuracy_score(y_train, y_train_pred)\n",
    "tree_test = accuracy_score(y_test, y_test_pred)\n",
    "print(\"decision tree train/test accuracies {} / {}\".format(tree_train, tree_test))\n"
   ]
  },
  {
   "cell_type": "code",
   "execution_count": null,
   "metadata": {},
   "outputs": [],
   "source": [
    "ada = ada.fit(X_train, y_train)\n",
    "y_train_pred = ada.predict(X_train)\n",
    "y_test_pred = ada.predict(X_test)\n",
    "ada_train = accuracy_score(y_train, y_train_pred)\n",
    "ada_test = accuracy_score(y_test, y_test_pred)\n",
    "print(\"adaboost train/test accuracies {} / {}\".format(ada_train, ada_test))"
   ]
  },
  {
   "cell_type": "code",
   "execution_count": null,
   "metadata": {},
   "outputs": [],
   "source": [
    "X_min = X_train[:, 0].min() - 1\n",
    "X_max = X_train[:, 0].max() + 1\n",
    "y_min = X_train[:, 1].min() - 1\n",
    "y_max = X_train[:, 1].max() + 1\n",
    "xx, yy = np.meshgrid(np.arange(X_min, X_max, 0.1),\n",
    "                    np.arange(y_min, y_max, 0.1))\n",
    "f, axarr = plt.subplots(nrows=1, ncols=2, sharex=\"row\", sharey=\"col\", figsize=(8, 3))\n",
    "for ind, clf, tt  in zip([0, 1], [tree, ada], [\"decision tree\", \"Ada Boost\"]):\n",
    "    clf.fit(X_train, y_train)\n",
    "    Z = clf.predict(np.c_[xx.ravel(), yy.ravel()])\n",
    "    Z = Z.reshape(xx.shape)\n",
    "    axarr[ind].contourf(xx, yy, Z, alpha=0.3)\n",
    "    axarr[ind].scatter(X_train[y_train==0, 0],\n",
    "                      X_train[y_train==0, 1], c=\"blue\", marker=\"^\")\n",
    "    axarr[ind].scatter(X_train[y_train==1, 0],\n",
    "                      X_train[y_train==1, 1], c=\"green\", marker=\"o\")\n",
    "    axarr[ind].set_title(tt)\n",
    "    \n",
    "axarr[0].set_ylabel(\"Alcohole\", fontsize=12)\n",
    "plt.text(10.2, -0.5, s=\"OD280/OD315 of diluted wines\", ha=\"center\", va=\"center\", fontsize=12)\n",
    "plt.tight_layout()\n",
    "plt.show()"
   ]
  }
 ],
 "metadata": {
  "kernelspec": {
   "display_name": "Python 3",
   "language": "python",
   "name": "python3"
  },
  "language_info": {
   "codemirror_mode": {
    "name": "ipython",
    "version": 3
   },
   "file_extension": ".py",
   "mimetype": "text/x-python",
   "name": "python",
   "nbconvert_exporter": "python",
   "pygments_lexer": "ipython3",
   "version": "3.6.4"
  }
 },
 "nbformat": 4,
 "nbformat_minor": 2
}
