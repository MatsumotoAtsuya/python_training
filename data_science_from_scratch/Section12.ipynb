{
 "cells": [
  {
   "cell_type": "code",
   "execution_count": null,
   "metadata": {},
   "outputs": [],
   "source": [
    "from collections import Counter\n",
    "def majority(labels):\n",
    "    votes = Counter(labels)\n",
    "    win ,_= votes.most_common(1)[0]\n",
    "    return win\n",
    "\n",
    "df majority_vote(labels):\n",
    "    vote_counts = Counter(labels)\n",
    "    win , win_count = vete_counts.most_common(1)[0]\n",
    "    num_win = len([c for c in vote_counts.values() if c == win_count])\n",
    "    \n",
    "    if num_win == 1:\n",
    "        return win\n",
    "    else:\n",
    "        return majority_vote(labels[:-1])\n",
    "    \n",
    "import numpy as np\n",
    "\n",
    "def knn_classify(k,label_p,new_p):\n",
    "    label_p = np.array(label_p)\n",
    "    new_p = np.array(new_p)\n",
    "    distance = sorted([label_p,key = lambda (point ,_) : np.linalg.norm(point-new_p)])\n",
    "    k_n_labels = [label for _ ,label in distance[:k]]\n",
    "    return majority_vote(k_n_labels)\n",
    "\n",
    "cities = [([-122.3,47.53],\"python\"),([-96.85,32.85],\"java\"),([-89.33],\"r\")]\n",
    "plots = {\"java\": ([],[]),\"python\": ([],[]),\"r\": ([],[])}\n",
    "for lg in range(-130,-60):\n",
    "    for lt in range(20,55):\n",
    "        pred_lang = knn_classify(k,cities,[lg,lt])\n",
    "        plots[pred_lang][0].append(lg)\n",
    "        plots[pred_lang][1].append(lt)"
   ]
  },
  {
   "cell_type": "code",
   "execution_count": 6,
   "metadata": {},
   "outputs": [
    {
     "data": {
      "image/png": "[encoded data removed]",
      "text/plain": [
       "<matplotlib.figure.Figure at 0x1a619c90588>"
      ]
     },
     "metadata": {},
     "output_type": "display_data"
    }
   ],
   "source": [
    "import numpy as np\n",
    "import random \n",
    "def random_p(d):\n",
    "    return [random.random() for _ in range(d)]\n",
    "\n",
    "def random_dist(d ,numpairs):\n",
    "    dist = np.array(random_p(dim))-np.array(random_p(dim))\n",
    "    return [np.linalg.norm(dist)for _ in range(numpairs)]\n",
    "\n",
    "dims = range(1,100)\n",
    "avg_dist = []\n",
    "min_dist = []\n",
    "random.seed(0)\n",
    "for dim in dims:\n",
    "    dist = random_dist(dim,10000)\n",
    "    avg_dist.append(np.mean(dist))\n",
    "    min_dist.append(np.min(dist))\n",
    "#print(avg_dist,min_dist)\n",
    "%matplotlib inline\n",
    "import matplotlib.pyplot as plt\n",
    "xs = range(1,100)\n",
    "plt.scatter(xs,avg_dist,color = \"red\")\n",
    "plt.scatter(xs,min_dist,color = \"blue\")\n",
    "plt.show()"
   ]
  }
 ],
 "metadata": {
  "kernelspec": {
   "display_name": "Python 3",
   "language": "python",
   "name": "python3"
  },
  "language_info": {
   "codemirror_mode": {
    "name": "ipython",
    "version": 3
   },
   "file_extension": ".py",
   "mimetype": "text/x-python",
   "name": "python",
   "nbconvert_exporter": "python",
   "pygments_lexer": "ipython3",
   "version": "3.6.4"
  }
 },
 "nbformat": 4,
 "nbformat_minor": 2
}
