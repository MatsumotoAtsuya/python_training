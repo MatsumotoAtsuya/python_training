{
 "cells": [
  {
   "cell_type": "code",
   "execution_count": null,
   "metadata": {},
   "outputs": [],
   "source": [
    "#重回帰分析\n",
    "#betas = [alpha,beta1,beta2,...,betak]\n",
    "#xi = [xi0,xi1,...,xik]\n",
    "def predict(xi,beta):\n",
    "    return np.dot(xi,beta)\n",
    "#線形独立でなければ最小二条モデルは不可能\n",
    "def error(xi,yi,beta):\n",
    "    return yi - predict(xi,beta)\n",
    "\n",
    "def sqrt_error(xi,yi,beta):\n",
    "    return error(xi,yi,beta)**2\n",
    "\n",
    "def sqrt_grad(xi,yi,beta):\n",
    "    return [-2 * xij* error(xi,yi,beta) for xij in xi ]\n",
    "\n",
    "def estimate_beta(x,y):\n",
    "    return mini_stochastic(sqrt_error,sqrt_error_grad,x,y,beta_init,0.0001)\n",
    "\n",
    "beta = estimate_beta(x,d_minutes)"
   ]
  },
  {
   "cell_type": "code",
   "execution_count": null,
   "metadata": {},
   "outputs": [],
   "source": [
    "#bootstrap\n",
    "import random\n",
    "data = random.sample(data_p)\n",
    "\n",
    "def bootstrap_sample(data):\n",
    "    return [random.choice(data) for _ in data]\n",
    "\n",
    "def bootstrap_stastic(data,stas_func,num_samples):\n",
    "    return [stas_func(bootstrap_sample(data) for _ in range(num_samples))]\n",
    "\n",
    "close_100 = [100 + random.random - 0.5 for _ in range(101)]\n",
    "far_100 =[99.5 + random.random()].extend([random.random() for _ in range(50)]).extend([random.random()+200 for _ in range(50)])"
   ]
  },
  {
   "cell_type": "code",
   "execution_count": null,
   "metadata": {},
   "outputs": [],
   "source": [
    "#標準誤差\n",
    "def estimate_sample_beta(sample):\n",
    "    x_sam,y_sam = zip(*sample)\n",
    "    return estimate_beta(x_sam,y_sam)\n",
    "\n",
    "bootstrap_b = bootstrap_stastic(zip(x,d_minutes,estimate_sample_beta),100)\n",
    "\n",
    "bootstrap_std_errers = [\n",
    "    std([beta[i] for beta in bootstrap_b] for i in range(4))\n",
    "]"
   ]
  },
  {
   "cell_type": "code",
   "execution_count": null,
   "metadata": {},
   "outputs": [],
   "source": [
    "#正則化\n",
    "def ridge_penalty(beta,alpha):\n",
    "    return alpha * np.dot(beta[1:],beta[1:])\n",
    "\n",
    "def sqrt_error_ridge(xi,yi,beta,alpha):\n",
    "    return error(xi,yi,beta)** 2 + ridge_penalty(beta,alpha)\n",
    "\n",
    "def ridge_grad(beta,alpha):\n",
    "    return [0].extend([2 * alpha *beta_j for beta_j in beta[1:]])\n",
    "\n",
    "def sqrt_error_ridge_grad(xi,yi,beta,alpha):\n",
    "    return np.array(sqrt_grad(xi,yi,beta))+ np.array(ridge_grad(beta,alpha))\n",
    "\n",
    "def estimate_beta_ridge(x,y,alpha):\n",
    "    beta_init = [random.random() for xi in x[0]]\n",
    "    return mini_stochastic(partial(sqrt_error_ridge,alpha = alpha),partial(sqrt_error_ridge_grad,alpha = alpha),x,y,beta_init,0.001)\n",
    "def lasso_penalty(beta,alpha):\n",
    "    return alpha * sum([abs(betai) for betai in beta[1:]])"
   ]
  }
 ],
 "metadata": {
  "kernelspec": {
   "display_name": "Python 3",
   "language": "python",
   "name": "python3"
  },
  "language_info": {
   "codemirror_mode": {
    "name": "ipython",
    "version": 3
   },
   "file_extension": ".py",
   "mimetype": "text/x-python",
   "name": "python",
   "nbconvert_exporter": "python",
   "pygments_lexer": "ipython3",
   "version": "3.6.4"
  }
 },
 "nbformat": 4,
 "nbformat_minor": 2
}
