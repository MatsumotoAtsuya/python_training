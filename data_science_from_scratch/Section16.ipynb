{
 "cells": [
  {
   "cell_type": "code",
   "execution_count": null,
   "metadata": {},
   "outputs": [],
   "source": [
    "#Losistic regression\n",
    "x = [[1] + row[:2] for row in data]\n",
    "y = [row[2] for row in data]\n",
    "\n",
    "def logistic(x):\n",
    "    return 1.0 / (math.exp(-x) + 1)\n",
    "def logistic_prime(x):\n",
    "    return logistic(x) * (1 - logistic(x))\n",
    "\n",
    "def logistic_like_i(xi,yi,beta):\n",
    "    if yi == 1:\n",
    "        return math.log(logistic(np.dot(xi,beta)))\n",
    "    else:\n",
    "        return math.log(1-logistic(np.dot(xi,beta)))\n",
    "    \n",
    "def logistic_log_like(x,y,beta):\n",
    "    return sum([logistic_like_i(xi,yi,beta) for xi,yi in zip(x,y)])\n",
    "\n",
    "def logistic_log_partial_ij(xi ,yi,beta,j):\n",
    "    return (yi - logistic(np.dot(xi,beta))) * xi[j]\n",
    "\n",
    "def logistic_log_grad_i(xi ,yi , beta):\n",
    "    return [logistic_log_partial_ij(xi,yi,beta,j) for j, _ in enumerate(beta)]\n",
    "\n",
    "def logistic_log_grad(x,y,beta):\n",
    "    return reduce([logistic_log_grad_i(xi,yi,beta) for xi,yi in zip(x,y)])\n",
    "\n",
    "t_p = f_p = t_n = f_n =0\n",
    "\n",
    "for xi ,yi in zip(xtest,ytest):\n",
    "    presict = logistic(np.dot(beta_hat,xi))\n",
    "    if yi == 1 and predict >= 0.5:\n",
    "        t_p +=1\n",
    "    elif yi == 1 :\n",
    "        t_n +=1\n",
    "    elif predict >= 0.5:\n",
    "        f_p +=1\n",
    "    else:\n",
    "        f_n +=1\n",
    "        "
   ]
  }
 ],
 "metadata": {
  "kernelspec": {
   "display_name": "Python 3",
   "language": "python",
   "name": "python3"
  },
  "language_info": {
   "codemirror_mode": {
    "name": "ipython",
    "version": 3
   },
   "file_extension": ".py",
   "mimetype": "text/x-python",
   "name": "python",
   "nbconvert_exporter": "python",
   "pygments_lexer": "ipython3",
   "version": "3.6.4"
  }
 },
 "nbformat": 4,
 "nbformat_minor": 2
}
