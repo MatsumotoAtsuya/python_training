{
 "cells": [
  {
   "cell_type": "code",
   "execution_count": 15,
   "metadata": {},
   "outputs": [
    {
     "name": "stdout",
     "output_type": "stream",
     "text": [
      "50016 24951 74980 boy\n",
      "2 girls | 1 girl 0.49886036468330136\n",
      "2 girls | 1 or 2 girl 0.3327687383302214\n"
     ]
    }
   ],
   "source": [
    "import random\n",
    "def  randomkid():\n",
    "    return random.choice([\"boy\",\"girl\"])\n",
    "bothgirls = 0\n",
    "oldergirls = 0\n",
    "eithergirls =0\n",
    "\n",
    "random.seed(0)\n",
    "for _ in range(100000):\n",
    "    younger = randomkid()\n",
    "    older = randomkid()\n",
    "   # print(younger,older)\n",
    "    if older == \"girl\":\n",
    "        oldergirls +=1\n",
    "    if (older == \"girl\") and (younger == \"girl\"):\n",
    "        bothgirls += 1\n",
    "    if older == \"girl\" or younger == \"girl\":\n",
    "        eithergirls += 1\n",
    "print(oldergirls , bothgirls, eithergirls,younger)\n",
    "print(\"2 girls | 1 girl\" , bothgirls/oldergirls)\n",
    "print(\"2 girls | 1 or 2 girl\" , bothgirls/eithergirls)"
   ]
  },
  {
   "cell_type": "code",
   "execution_count": null,
   "metadata": {},
   "outputs": [],
   "source": [
    "def uniformpdf(x):\n",
    "    return 1 if x >= 0 and x < 1 else 0\n",
    "\n",
    "import math\n",
    "def normalpdf(x,mu=0,sigma = 1):\n",
    "    sqrttwopi = math.sqrt(math.pi *2)\n",
    "    return (1/(sigma*sqrttwopi))*(math.exp(-((x-mu)**2/(2*(sigma**2))\n",
    "                                    \n",
    "xs = [x /10.0 for x in range(-50,50)]\n",
    "%matplotlib inline\n",
    "import matplotlib.pyplot as plt\n",
    "                                             \n",
    "                                        \n",
    "                                             \n",
    "                                        \n",
    "                                             "
   ]
  }
 ],
 "metadata": {
  "kernelspec": {
   "display_name": "Python 3",
   "language": "python",
   "name": "python3"
  },
  "language_info": {
   "codemirror_mode": {
    "name": "ipython",
    "version": 3
   },
   "file_extension": ".py",
   "mimetype": "text/x-python",
   "name": "python",
   "nbconvert_exporter": "python",
   "pygments_lexer": "ipython3",
   "version": "3.6.4"
  }
 },
 "nbformat": 4,
 "nbformat_minor": 2
}
