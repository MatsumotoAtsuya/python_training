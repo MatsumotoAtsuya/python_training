{
 "cells": [
  {
   "cell_type": "code",
   "execution_count": 9,
   "metadata": {},
   "outputs": [
    {
     "data": {
      "image/png": "[encoded data removed]",
      "text/plain": [
       "<matplotlib.figure.Figure at 0x181b44a66d8>"
      ]
     },
     "metadata": {},
     "output_type": "display_data"
    }
   ],
   "source": [
    "def sum_of_squrs(v):\n",
    "    return sum([vi ** 2 for vi in v])\n",
    "\n",
    "def difference_q(f,x,h):\n",
    "    return (f(x+h)- f(x))/h\n",
    "\n",
    "def square(x):\n",
    "    return x*x\n",
    "\n",
    "def derivative(x):\n",
    "    return 2*x\n",
    "\n",
    "from functools import partial\n",
    "\n",
    "der_estimate = partial(difference_q,square,h = 0.000001)\n",
    "\n",
    "%matplotlib inline\n",
    "import matplotlib.pyplot as plt\n",
    "\n",
    "x = range(-10,10)\n",
    "plt.title(\"actual derivatives vs.estimates\")\n",
    "plt.plot(x,list(map(derivative,x)),\"rx\",label = \"actial\")\n",
    "plt.plot(x , list(map(der_estimate,x)),\"b+\",label = \"estimate\")\n",
    "plt.legend(loc = 9)\n",
    "plt.show()"
   ]
  },
  {
   "cell_type": "code",
   "execution_count": 10,
   "metadata": {},
   "outputs": [
    {
     "name": "stdout",
     "output_type": "stream",
     "text": [
      "<function distance at 0x00000181B444B158>\n",
      "[0, 0, 0]\n"
     ]
    }
   ],
   "source": [
    "def partial_diff_quot(f,v,i,h):\n",
    "    w = []\n",
    "    for v,vj in enumerete(v):\n",
    "        if j == i:\n",
    "            w.append(vj + h)\n",
    "        else :\n",
    "            w.append(vj)\n",
    "    return (f(w) - f(v))/h\n",
    "    \n",
    "def est_grad(f,v, h = 0.00001):\n",
    "    return [partial_deff_quot(f,v,i,h) for i , _ in enumerate(v)]\n",
    "\n",
    "def step(v, direction,step_size):\n",
    "    return [vi + step_size * directioni for vi , directioni in zip(v,direction)]\n",
    "\n",
    "def sum_of_sqrt_grad(v):\n",
    "    return [2 * vi for vi in v]\n",
    "\n",
    "import random\n",
    "import math\n",
    "\n",
    "def distance(v,w):\n",
    "    return math.sqrt(sum([(vi-wi)**2 for vi ,wi in zip(v,w)]))\n",
    "\n",
    "v = [random.randint(-10,10) for _ in range(3)]\n",
    "tole = 0.000000000001\n",
    "while True:\n",
    "    grad = sum_of_sqrt_grad(v)\n",
    "    nextv = step(v , grad ,-0.01)\n",
    "    if distance(nextv,v)< tole:\n",
    "        break\n",
    "\n",
    "    v = nextv\n",
    "print(distance)\n",
    "print([int(vi) for vi in v])"
   ]
  },
  {
   "cell_type": "code",
   "execution_count": 17,
   "metadata": {},
   "outputs": [
    {
     "name": "stdout",
     "output_type": "stream",
     "text": [
      "[0.14704179347571472, 0.01838022418446434, -0.05514067255339328]\n"
     ]
    }
   ],
   "source": [
    "step_size = [10**i for i in range(-5,2)]\n",
    "def safe(f):\n",
    "    def safe_f(*args,**kwargs):\n",
    "        try:\n",
    "            return f(*args,**kwargs)\n",
    "        except:\n",
    "            return float(\"inf\")\n",
    "    return safe_f\n",
    "\n",
    "def min_batch(ta_fn , grad_fn ,theta0 , tole = 0.000001):\n",
    "    step_size = [10 ** i for i in range(-5 ,2)]\n",
    "    theta = theta0\n",
    "    ta_fn = safe(ta_fn)\n",
    "    value = ta_fn(theta)\n",
    "    for step_size in step_size:\n",
    "        while True:\n",
    "            grad = grad_fn(theta)\n",
    "            next_thetas = step(theta,grad,-step_size) \n",
    "            next_value = ta_fn(next_thetas)\n",
    "#             print(next_thetas,next_value)\n",
    "\n",
    "            if abs(value - next_value) < tole:\n",
    "                return print(theta)\n",
    "            else:\n",
    "                theta, value = next_thetas,next_value\n",
    "\n",
    "theta0 = [random.randint(-10,10) for i in range(3)]\n",
    "\n",
    "def deri(x):\n",
    "    return 2 *x\n",
    "\n",
    "def squrs(x):\n",
    "    return x**2 \n",
    "\n",
    "min_batch(sum_of_squrs , sum_of_sqrt_grad, theta0)"
   ]
  },
  {
   "cell_type": "code",
   "execution_count": 18,
   "metadata": {},
   "outputs": [],
   "source": [
    "def in_random_order(data):\n",
    "    indexes = [i for  i,_ in enumerate(data)]\n",
    "    random.shuffle(indexes)\n",
    "    for i in indexes:\n",
    "        yield data[i]\n",
    "\n",
    "import numpy as np\n",
    "def min_stochastic(target_f,grad_f,x,y,theta0,alpha0=0.01):\n",
    "    \n",
    "    data = zip(x,y)\n",
    "    theta = theta0\n",
    "    alpha = alpha0\n",
    "    min_theta , min_value = None,float(\"inf\")\n",
    "    iter_no = 0\n",
    "    \n",
    "    while iter_no < 100:\n",
    "        value = sum([target_f(xi , yi ,theta) for xi,yi in data])\n",
    "        \n",
    "        if value < min_value:\n",
    "            min_theta ,min_value = theta , value\n",
    "            iter_no = 0\n",
    "            alpha = alpha0\n",
    "        else:\n",
    "            iter_no += 1\n",
    "            alpha *= 0.9\n",
    "            \n",
    "        for xi ,yi in in_random_order(data):\n",
    "            gradi = grad_f(xi,yi,theta)\n",
    "            nptheta = np.array(theta)\n",
    "            npgradi = np.array(gradi)\n",
    "            npthetatheta =  nptheta - (gradi * alpha)\n",
    "            theta = np.tolist(theta)\n",
    "            \n",
    "        \n",
    "    return print(min_theta)"
   ]
  },
  {
   "cell_type": "code",
   "execution_count": null,
   "metadata": {},
   "outputs": [],
   "source": []
  }
 ],
 "metadata": {
  "kernelspec": {
   "display_name": "Python 3",
   "language": "python",
   "name": "python3"
  },
  "language_info": {
   "codemirror_mode": {
    "name": "ipython",
    "version": 3
   },
   "file_extension": ".py",
   "mimetype": "text/x-python",
   "name": "python",
   "nbconvert_exporter": "python",
   "pygments_lexer": "ipython3",
   "version": "3.6.4"
  }
 },
 "nbformat": 4,
 "nbformat_minor": 2
}
