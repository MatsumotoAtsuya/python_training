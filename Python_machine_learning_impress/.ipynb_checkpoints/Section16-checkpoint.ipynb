{
 "cells": [
  {
   "cell_type": "markdown",
   "metadata": {},
   "source": [
    "# Recurrent Neural Network\n",
    "### Sequence >> not IID(Independent and Identically Distributed)\n",
    "### Backpropagation Through Time >> One of RNN model\n",
    "#### problems in BPTT\n",
    "- vanishing gradient $|w_{hh}| < 1$\n",
    "- exploding gradient $|w_{hh}| > 1$\n",
    "#### Solutions in BPTT\n",
    "- T-BPTT(Truncated Backpropagation Through Time)\n",
    "- LSTM (Long and Short Term Memory)"
   ]
  },
  {
   "cell_type": "markdown",
   "metadata": {},
   "source": [
    "### UNITS in LSTM\n",
    "- memory cell >> that has cell state and three gates\n",
    "    - forget gate >> only sigmoid\n",
    "    - input gate (& input node ) >> tanh and sigmoid\n",
    "    - output gate >> tanh and sigmoid"
   ]
  },
  {
   "cell_type": "code",
   "execution_count": null,
   "metadata": {},
   "outputs": [],
   "source": [
    "import pyprind \n",
    "import pandas as pd\n",
    "from string import punctuation\n",
    "import re\n",
    "import numpy as np\n",
    "df = pd.read_csv(\"movie_data.csv\",encoding=\"utf-8\")"
   ]
  },
  {
   "cell_type": "code",
   "execution_count": null,
   "metadata": {},
   "outputs": [],
   "source": [
    "#Don't use \"set\" in finding unique word, instead use Counter \n",
    "from collections import Counter\n",
    "counts = Counter()\n",
    "pbar = pyprind.ProgBar(len(df[\"review\"]), title=\"counting words occurrences\")\n",
    "for i, review in enumerate(df[\"review\"]):\n",
    "    text = \"\".join([c if c not in punctuation else \" \"+c+\" \" for c in review]).lower()\n",
    "    df.loc[i, \"review\"] = text\n",
    "    pbar.update()\n",
    "    counts.update(text.split())\n",
    "#pyprind.ProgBar >> tracking progress"
   ]
  },
  {
   "cell_type": "code",
   "execution_count": null,
   "metadata": {},
   "outputs": [],
   "source": [
    "word_counts = sorted(counts, key=count.get, reverse=True)\n",
    "print(word_counts[:5])\n",
    "word_to_int = {word: ii for ii, word in enumerate(word_count, 1)}\n",
    "#enumerate(iter, start, end)\n",
    "mapped_reviews = []\n",
    "pber = pyprind.ProgBar(len(df[\"review\"]), title=\"map reviews to ints\")\n",
    "for review in df[\"review\"]:\n",
    "    mapped_reviews.append([word_to_int[word] for word in review.split()])\n",
    "    pbar.update()"
   ]
  },
  {
   "cell_type": "code",
   "execution_count": null,
   "metadata": {},
   "outputs": [],
   "source": []
  }
 ],
 "metadata": {
  "kernelspec": {
   "display_name": "Python 3",
   "language": "python",
   "name": "python3"
  },
  "language_info": {
   "codemirror_mode": {
    "name": "ipython",
    "version": 3
   },
   "file_extension": ".py",
   "mimetype": "text/x-python",
   "name": "python",
   "nbconvert_exporter": "python",
   "pygments_lexer": "ipython3",
   "version": "3.6.4"
  }
 },
 "nbformat": 4,
 "nbformat_minor": 2
}
