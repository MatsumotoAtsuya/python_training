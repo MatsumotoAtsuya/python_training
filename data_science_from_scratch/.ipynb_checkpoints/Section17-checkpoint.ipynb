{
 "cells": [
  {
   "cell_type": "code",
   "execution_count": 21,
   "metadata": {},
   "outputs": [],
   "source": [
    "#decision Tree\n",
    "import math\n",
    "from collections import Counter\n",
    "def entropy(c_prob):#c>>class ,prob>>probability\n",
    "    return sum([-p * math.log(p,2) for p in c_prob if p])\n",
    "\n",
    "def c_prob(labels):\n",
    "    total_count = len(labels) # labelはクラス名のリスト\n",
    "    return [count/ total_count for count in Counter(labels).values()]\n",
    "\n",
    "def data_entropy(l_data): #labeled data\n",
    "    labels = [label for _ , label in l_data]\n",
    "    prob = c_prob(labels)\n",
    "    return entropy(prob)\n",
    "\n",
    "def partition_entropy(sss): #ss >> subsets\n",
    "    total_count = sum([len(ss) for ss in sss])\n",
    "    return sum([data_entropy(ss) * len(ss)/total_count for ss in sss])\n"
   ]
  },
  {
   "cell_type": "code",
   "execution_count": 14,
   "metadata": {},
   "outputs": [],
   "source": [
    "inputs = [\n",
    "        ({'level':'Senior','lang':'Java','tweets':'no','phd':'no'},   False),\n",
    "        ({'level':'Senior','lang':'Java','tweets':'no','phd':'yes'},  False),\n",
    "        ({'level':'Mid','lang':'Python','tweets':'no','phd':'no'},     True),\n",
    "        ({'level':'Junior','lang':'Python','tweets':'no','phd':'no'},  True),\n",
    "        ({'level':'Junior','lang':'R','tweets':'yes','phd':'no'},      True),\n",
    "        ({'level':'Junior','lang':'R','tweets':'yes','phd':'yes'},    False),\n",
    "        ({'level':'Mid','lang':'R','tweets':'yes','phd':'yes'},        True),\n",
    "        ({'level':'Senior','lang':'Python','tweets':'no','phd':'no'}, False),\n",
    "        ({'level':'Senior','lang':'R','tweets':'yes','phd':'no'},      True),\n",
    "        ({'level':'Junior','lang':'Python','tweets':'yes','phd':'no'}, True),\n",
    "        ({'level':'Senior','lang':'Python','tweets':'yes','phd':'yes'},True),\n",
    "        ({'level':'Mid','lang':'Python','tweets':'no','phd':'yes'},    True),\n",
    "        ({'level':'Mid','lang':'Java','tweets':'yes','phd':'no'},      True),\n",
    "        ({'level':'Junior','lang':'Python','tweets':'no','phd':'yes'},False) ]\n",
    "    "
   ]
  },
  {
   "cell_type": "code",
   "execution_count": 22,
   "metadata": {},
   "outputs": [
    {
     "name": "stdout",
     "output_type": "stream",
     "text": [
      "level 0.6935361388961919\n",
      "lang 0.8601317128547441\n",
      "tweets 0.7884504573082896\n",
      "phd 0.8921589282623617\n"
     ]
    }
   ],
   "source": [
    "from collections import defaultdict\n",
    "def partition_by(inputs,attr):#attr >> attribute\n",
    "    groups = defaultdict(list)\n",
    "    for input in inputs:\n",
    "        key = input[0][attr]\n",
    "        groups[key].append(input)\n",
    "    return groups\n",
    "\n",
    "def partition_entropy_by(inputs,attr):\n",
    "    partitions = partition_by(inputs,attr)\n",
    "#     print(partitions.values())\n",
    "    return partition_entropy(partitions.values())\n",
    "\n",
    "for key in [\"level\",\"lang\",\"tweets\",\"phd\"]:\n",
    "    print(key,partition_entropy_by(inputs,key))"
   ]
  },
  {
   "cell_type": "code",
   "execution_count": null,
   "metadata": {},
   "outputs": [],
   "source": [
    "#決定僕\n",
    "{\"level\",\n",
    "    \"Junior\":\n",
    "        {\"phd\",\n",
    "            {\"no\":True ,\"yes \":False}\n",
    "        },\n",
    "    \"Mid\":True,\n",
    "    \"Senior\":\n",
    "        {\"tweets\",\n",
    "            {\"no\":True , \"yes\":False}\n",
    "        }\n",
    "}"
   ]
  },
  {
   "cell_type": "code",
   "execution_count": 28,
   "metadata": {},
   "outputs": [
    {
     "name": "stdout",
     "output_type": "stream",
     "text": [
      "('level', {'Senior': ('tweets', {'no': False, 'yes': True, None: False}), 'Mid': True, 'Junior': ('phd', {'no': True, 'yes': False, None: True}), None: True})\n"
     ]
    }
   ],
   "source": [
    "def classify(tree,inputs):\n",
    "    if tree in [True,False]:\n",
    "        return tree\n",
    "    \n",
    "    attr ,st_d = tree #st_d >> subtree_dictionary\n",
    "    st_k = inputs.get(attr) #st_k >> subtree_key\n",
    "    if st_k not in st_d:\n",
    "        st_k = None\n",
    "    st = st_d[st_k]\n",
    "    return classify(st,inputs)\n",
    "\n",
    "from functools import partial\n",
    "\n",
    "def build_tree(inputs,split_C=None): # C>> candidates\n",
    "    if split_C is None:\n",
    "        split_C = inputs[0][0].keys()\n",
    "    n_inputs = len(inputs)\n",
    "    n_trues = len([label for item , label in inputs if label])\n",
    "    n_falses = n_inputs - n_trues\n",
    "    \n",
    "    if n_trues == 0:\n",
    "        return False\n",
    "    if n_falses == 0:\n",
    "        return True\n",
    "    \n",
    "    if not split_C:\n",
    "        return n_trues >= n_falses\n",
    "    \n",
    "    best_attr = min(split_C , key = partial(partition_entropy_by,inputs))\n",
    "    \n",
    "    partitions = partition_by(inputs,best_attr)\n",
    "    new_C = [attr for attr in split_C if attr != best_attr]\n",
    "    \n",
    "    st = {attr_value:build_tree(ss,new_C) for attr_value ,ss in partitions.items()}\n",
    "    \n",
    "    st[None] = n_trues > n_falses\n",
    "    \n",
    "    return (best_attr , st)\n",
    "\n",
    "tree = build_tree(inputs)\n",
    "print(tree)"
   ]
  },
  {
   "cell_type": "code",
   "execution_count": null,
   "metadata": {},
   "outputs": [],
   "source": [
    "#random forest\n",
    "def forest_classify(trees,input):\n",
    "    votes = [classify(true,input) for tree in trees]\n",
    "    vote_counts = Counter(votes)\n",
    "    return vote_counts.most_common(1)[0][0]\n",
    "if len(split_C) <= n_split_C:\n",
    "    sampled_split_C = split_C\n",
    "else:\n",
    "    sampled_split_C = random.sample(split_C,n_split_C)\n",
    "    \n",
    "best_attr = min(sampled_split_C,key = partial(partition_entropy_by,inputs))\n",
    "partitions = partition_by(inputs,best_attr)"
   ]
  }
 ],
 "metadata": {
  "kernelspec": {
   "display_name": "Python 3",
   "language": "python",
   "name": "python3"
  },
  "language_info": {
   "codemirror_mode": {
    "name": "ipython",
    "version": 3
   },
   "file_extension": ".py",
   "mimetype": "text/x-python",
   "name": "python",
   "nbconvert_exporter": "python",
   "pygments_lexer": "ipython3",
   "version": "3.6.4"
  }
 },
 "nbformat": 4,
 "nbformat_minor": 2
}
