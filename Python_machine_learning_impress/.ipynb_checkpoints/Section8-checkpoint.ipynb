{
 "cells": [
  {
   "cell_type": "code",
   "execution_count": null,
   "metadata": {},
   "outputs": [],
   "source": [
    "#Sentiment Analysis\n",
    "#opinion Mining\n",
    "# import tarfile\n",
    "# with tarfile.open(\"aclImdb_v1.tar.gz\", \"r:gz\") as tar:\n",
    "#     tar.extractall()\n",
    "#一度の実行で十分"
   ]
  },
  {
   "cell_type": "code",
   "execution_count": null,
   "metadata": {},
   "outputs": [],
   "source": [
    "# import pyprind\n",
    "# import pandas as pd\n",
    "# import os\n",
    "# basepath = \"aclImdb\"\n",
    "# labels = {\"pos\":1, \"neg\":0}\n",
    "# pbar = pyprind.ProgBar(50000)\n",
    "# df = pd.DataFrame()\n",
    "# for s in (\"test\", \"train\"):\n",
    "#     for l in (\"pos\", \"neg\"):\n",
    "#         path = os.path.join(basepath, s, l)\n",
    "#         for file in os.listdir(path):\n",
    "#             with open(os.path.join(path, file), \"r\", encoding=\"utf-8\") as infile:\n",
    "#                 txt = infile.read()\n",
    "#             df = df.append([[txt, labels[l]]], ignore_index = True)\n",
    "# df.columns = [\"review\", \"sentiment\"]"
   ]
  }
 ],
 "metadata": {
  "kernelspec": {
   "display_name": "Python 3",
   "language": "python",
   "name": "python3"
  },
  "language_info": {
   "codemirror_mode": {
    "name": "ipython",
    "version": 3
   },
   "file_extension": ".py",
   "mimetype": "text/x-python",
   "name": "python",
   "nbconvert_exporter": "python",
   "pygments_lexer": "ipython3",
   "version": "3.6.4"
  }
 },
 "nbformat": 4,
 "nbformat_minor": 2
}
